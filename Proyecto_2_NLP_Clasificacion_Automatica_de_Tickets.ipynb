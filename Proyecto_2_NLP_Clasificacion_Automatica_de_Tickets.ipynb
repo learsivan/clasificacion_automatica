{
  "cells": [
    {
      "cell_type": "markdown",
      "source": [
        "# Tabla de Contenido\n",
        "1. [Introducción](#introducción)\n",
        "    - [Integrantes](#integrantes)\n",
        "    - [Objetivo General](#Objetivo-General)\n",
        "    - [Objetivo Específicos](#Objetivo-Específicos)\n",
        "    - [Descripción del Problema](#descripción-del-problema)\n",
        "    - [Flujo de Trabajo a Realizar](#flujo-de-trabajo-a-realizar)\n",
        "2. [Setup e Importación de Librerías](#setup-e-importación-de-librerías)\n",
        "    - [Recolección de Datos](#recolección-de-datos)\n",
        "    - [Análisis](#análisis)\n",
        "3. [Loading the Data](#loading-the-data)\n",
        "4. [Data Preparation](#data-preparation)\n",
        "5. [Exploratory data analysis to get familiar with the data](#Exploratory-data-analysis-to-get-familiar-with-the-data)\n",
        "6. [Feature Extraction](#Feature-Extraction)\n",
        "7. [Manual Topic Modeling](#Manual-Topic-Modeling)\n",
        "8. [Conclusiones finales](#Conclusión-finales)\n"
      ],
      "metadata": {
        "id": "vGADxJlO72xh"
      }
    },
    {
      "cell_type": "markdown",
      "metadata": {
        "id": "rhR-ZUkwJrFn"
      },
      "source": [
        "\n",
        "\n",
        "# **1.Introducción**\n",
        "\n",
        "En un entorno empresarial competitivo, la satisfacción del cliente es fundamental, y una gestión eficiente de las quejas es clave para lograrla. Este proyecto busca desarrollar un modelo de clasificación que organice automáticamente las quejas de los clientes según los productos o servicios relacionados. Al categorizar los tickets de manera precisa, las empresas pueden priorizar y redirigir rápidamente cada caso al equipo adecuado, mejorando los tiempos de respuesta y optimizando la resolución de problemas. Este enfoque no solo eleva la eficiencia operativa, sino que también refuerza la confianza del cliente al demostrar un compromiso proactivo con sus necesidades.\n",
        "##**1.1 Integrantes**\n",
        "* Virginia Mercedes Fernández Daza (fernandez.vm@gmail.com)\n",
        "* Marco Antonio Velasquez Rocha (Marco.velasquez@gmail.com)\n",
        "* Ivan Israel Machicado Quiroga(machicado.ivan@gmail.com) ...\n",
        "\n",
        "##**1.2 Objetivo General**\n",
        "\n",
        "Desarrollar un modelo basado en técnicas de Procesamiento de Lenguaje Natural, para clasificar de manera eficiente y precisa las quejas de los clientes en cinco categorías principales: tarjetas de crédito/tarjetas de prepago, servicios de cuentas bancarias, reporte de robo/disputa, hipotecas/préstamos y otros, de tal forma que este modelo permitirá optimizar el sistema de tickets de atención al cliente, facilitando la identificación rápida de problemas, mejorando la oferta de servicios y fortaleciendo la capacidad de respuesta de la empresa Financiera.\n",
        "\n",
        "##**1.3\tObjetivos Específicos**\n",
        "\n",
        "•\tCargar y preparar los datos: Realizar la carga y organización de los datos de texto provenientes de los tickets de atención al cliente, garantizando su correcta disposición para las etapas de procesamiento y análisis.\n",
        "•\tImplementar técnicas de limpieza y normalización de texto, como la eliminación de ruido, tokenización, lematización y eliminación de palabras irrelevantes, para asegurar que los datos sean adecuados para su análisis.\n",
        "•\tRealizar un análisis exploratorio de datos (EDA): analizar las características de los datos, como la distribución de palabras, frecuencias y patrones, para obtener una comprensión inicial de las quejas y su contenido.\n",
        "•\tAplicar métodos de extracción de características, como la representación TF-IDF o embeddings, para transformar los datos textuales en un formato numérico utilizable en el modelado.\n",
        "•\tUtilizar factorización de matrices no negativas (NMF) para identificar y clasificar las quejas en cinco grupos principales relacionados con productos y servicios financieros.\n",
        "•\tConstruir modelos utilizando aprendizaje supervisado: Diseñar modelos estadísticos y de aprendizaje supervisado que complementen el modelado de temas, permitiendo una clasificación precisa de los tickets.\n",
        "•\tEntrenar los modelos propuestos utilizando los datos disponibles, evaluando su desempeño mediante métricas relevantes como precisión, recall y f1-score.\n",
        "\n",
        "##**1.5 Descripcion del Problema**\n",
        "\n",
        "Debe crear un modelo que pueda clasificar las quejas (complaints) de los clientes en función de los productos/servicios. Al hacerlo, puede segregar estos tickets en sus categorías relevantes y, por lo tanto, ayudar en la resolución rápida del problema.\n",
        "\n",
        "Realizará el modelado de temas en los datos <b>.json</b> proporcionados por la empresa. Dado que estos datos no están etiquetados, debe aplicar NMF para analizar patrones y clasificar los tickets en los siguientes cinco grupos según sus productos/servicios:\n",
        "\n",
        "* Tarjetas de Credito / Tarjetas Prepagadas (Credit card / Prepaid Card)\n",
        "\n",
        "* Servicios de Cuentas de Banco (Bank account services)\n",
        "\n",
        "* Reportes de Robos (Theft/Dispute reporting)\n",
        "\n",
        "* Prestamos Hipotecarios y Otros Prestamos (Mortgages/loans)\n",
        "\n",
        "* Otros\n",
        "\n",
        "Con la ayuda del modelado de temas, podrá asignar cada ticket a su respectivo departamento/categoría. Luego puede usar estos datos para entrenar cualquier modelo supervisado, como regresión logística, árbol de decisión o bosque aleatorio. Usando este modelo entrenado, puede clasificar cualquier nuevo ticket de soporte de quejas de clientes en su departamento correspondiente."
      ]
    },
    {
      "cell_type": "markdown",
      "metadata": {
        "id": "mcgXVNyaLUFS"
      },
      "source": [
        "##**1.6 Flujo de Trajajo a Realizar:**\n",
        "\n",
        "Debe realizar las siguientes ocho tareas principales para completar la tarea:\n",
        "\n",
        "1. Data Loading\n",
        "\n",
        "2. Text preprocessing\n",
        "\n",
        "3. Exploratory Data Analysis (EDA)\n",
        "\n",
        "4. Feature Extraction\n",
        "\n",
        "5. Topic modeling\n",
        "\n",
        "6. Model building using Supervised Learning\n",
        "\n",
        "7. Model training and evaluation\n",
        "\n",
        "8. Model inference"
      ]
    },
    {
      "cell_type": "markdown",
      "metadata": {
        "id": "x369HA1B9Xhf"
      },
      "source": [
        "#2. **Setup e Importacion de Librerias**"
      ]
    },
    {
      "cell_type": "code",
      "execution_count": null,
      "metadata": {
        "colab": {
          "base_uri": "https://localhost:8080/"
        },
        "id": "vFBxJhDoMnkI",
        "outputId": "591365b3-1d50-4360-9e66-8f1bd59564e5"
      },
      "outputs": [
        {
          "output_type": "stream",
          "name": "stdout",
          "text": [
            "Requirement already satisfied: spacy in /usr/local/lib/python3.10/dist-packages (3.7.5)\n",
            "Requirement already satisfied: spacy-legacy<3.1.0,>=3.0.11 in /usr/local/lib/python3.10/dist-packages (from spacy) (3.0.12)\n",
            "Requirement already satisfied: spacy-loggers<2.0.0,>=1.0.0 in /usr/local/lib/python3.10/dist-packages (from spacy) (1.0.5)\n",
            "Requirement already satisfied: murmurhash<1.1.0,>=0.28.0 in /usr/local/lib/python3.10/dist-packages (from spacy) (1.0.10)\n",
            "Requirement already satisfied: cymem<2.1.0,>=2.0.2 in /usr/local/lib/python3.10/dist-packages (from spacy) (2.0.8)\n",
            "Requirement already satisfied: preshed<3.1.0,>=3.0.2 in /usr/local/lib/python3.10/dist-packages (from spacy) (3.0.9)\n",
            "Requirement already satisfied: thinc<8.3.0,>=8.2.2 in /usr/local/lib/python3.10/dist-packages (from spacy) (8.2.5)\n",
            "Requirement already satisfied: wasabi<1.2.0,>=0.9.1 in /usr/local/lib/python3.10/dist-packages (from spacy) (1.1.3)\n",
            "Requirement already satisfied: srsly<3.0.0,>=2.4.3 in /usr/local/lib/python3.10/dist-packages (from spacy) (2.4.8)\n",
            "Requirement already satisfied: catalogue<2.1.0,>=2.0.6 in /usr/local/lib/python3.10/dist-packages (from spacy) (2.0.10)\n",
            "Requirement already satisfied: weasel<0.5.0,>=0.1.0 in /usr/local/lib/python3.10/dist-packages (from spacy) (0.4.1)\n",
            "Requirement already satisfied: typer<1.0.0,>=0.3.0 in /usr/local/lib/python3.10/dist-packages (from spacy) (0.13.0)\n",
            "Requirement already satisfied: tqdm<5.0.0,>=4.38.0 in /usr/local/lib/python3.10/dist-packages (from spacy) (4.66.6)\n",
            "Requirement already satisfied: requests<3.0.0,>=2.13.0 in /usr/local/lib/python3.10/dist-packages (from spacy) (2.32.3)\n",
            "Requirement already satisfied: pydantic!=1.8,!=1.8.1,<3.0.0,>=1.7.4 in /usr/local/lib/python3.10/dist-packages (from spacy) (2.9.2)\n",
            "Requirement already satisfied: jinja2 in /usr/local/lib/python3.10/dist-packages (from spacy) (3.1.4)\n",
            "Requirement already satisfied: setuptools in /usr/local/lib/python3.10/dist-packages (from spacy) (75.1.0)\n",
            "Requirement already satisfied: packaging>=20.0 in /usr/local/lib/python3.10/dist-packages (from spacy) (24.2)\n",
            "Requirement already satisfied: langcodes<4.0.0,>=3.2.0 in /usr/local/lib/python3.10/dist-packages (from spacy) (3.4.1)\n",
            "Requirement already satisfied: numpy>=1.19.0 in /usr/local/lib/python3.10/dist-packages (from spacy) (1.26.4)\n",
            "Requirement already satisfied: language-data>=1.2 in /usr/local/lib/python3.10/dist-packages (from langcodes<4.0.0,>=3.2.0->spacy) (1.2.0)\n",
            "Requirement already satisfied: annotated-types>=0.6.0 in /usr/local/lib/python3.10/dist-packages (from pydantic!=1.8,!=1.8.1,<3.0.0,>=1.7.4->spacy) (0.7.0)\n",
            "Requirement already satisfied: pydantic-core==2.23.4 in /usr/local/lib/python3.10/dist-packages (from pydantic!=1.8,!=1.8.1,<3.0.0,>=1.7.4->spacy) (2.23.4)\n",
            "Requirement already satisfied: typing-extensions>=4.6.1 in /usr/local/lib/python3.10/dist-packages (from pydantic!=1.8,!=1.8.1,<3.0.0,>=1.7.4->spacy) (4.12.2)\n",
            "Requirement already satisfied: charset-normalizer<4,>=2 in /usr/local/lib/python3.10/dist-packages (from requests<3.0.0,>=2.13.0->spacy) (3.4.0)\n",
            "Requirement already satisfied: idna<4,>=2.5 in /usr/local/lib/python3.10/dist-packages (from requests<3.0.0,>=2.13.0->spacy) (3.10)\n",
            "Requirement already satisfied: urllib3<3,>=1.21.1 in /usr/local/lib/python3.10/dist-packages (from requests<3.0.0,>=2.13.0->spacy) (2.2.3)\n",
            "Requirement already satisfied: certifi>=2017.4.17 in /usr/local/lib/python3.10/dist-packages (from requests<3.0.0,>=2.13.0->spacy) (2024.8.30)\n",
            "Requirement already satisfied: blis<0.8.0,>=0.7.8 in /usr/local/lib/python3.10/dist-packages (from thinc<8.3.0,>=8.2.2->spacy) (0.7.11)\n",
            "Requirement already satisfied: confection<1.0.0,>=0.0.1 in /usr/local/lib/python3.10/dist-packages (from thinc<8.3.0,>=8.2.2->spacy) (0.1.5)\n",
            "Requirement already satisfied: click>=8.0.0 in /usr/local/lib/python3.10/dist-packages (from typer<1.0.0,>=0.3.0->spacy) (8.1.7)\n",
            "Requirement already satisfied: shellingham>=1.3.0 in /usr/local/lib/python3.10/dist-packages (from typer<1.0.0,>=0.3.0->spacy) (1.5.4)\n",
            "Requirement already satisfied: rich>=10.11.0 in /usr/local/lib/python3.10/dist-packages (from typer<1.0.0,>=0.3.0->spacy) (13.9.4)\n",
            "Requirement already satisfied: cloudpathlib<1.0.0,>=0.7.0 in /usr/local/lib/python3.10/dist-packages (from weasel<0.5.0,>=0.1.0->spacy) (0.20.0)\n",
            "Requirement already satisfied: smart-open<8.0.0,>=5.2.1 in /usr/local/lib/python3.10/dist-packages (from weasel<0.5.0,>=0.1.0->spacy) (7.0.5)\n",
            "Requirement already satisfied: MarkupSafe>=2.0 in /usr/local/lib/python3.10/dist-packages (from jinja2->spacy) (3.0.2)\n",
            "Requirement already satisfied: marisa-trie>=0.7.7 in /usr/local/lib/python3.10/dist-packages (from language-data>=1.2->langcodes<4.0.0,>=3.2.0->spacy) (1.2.1)\n",
            "Requirement already satisfied: markdown-it-py>=2.2.0 in /usr/local/lib/python3.10/dist-packages (from rich>=10.11.0->typer<1.0.0,>=0.3.0->spacy) (3.0.0)\n",
            "Requirement already satisfied: pygments<3.0.0,>=2.13.0 in /usr/local/lib/python3.10/dist-packages (from rich>=10.11.0->typer<1.0.0,>=0.3.0->spacy) (2.18.0)\n",
            "Requirement already satisfied: wrapt in /usr/local/lib/python3.10/dist-packages (from smart-open<8.0.0,>=5.2.1->weasel<0.5.0,>=0.1.0->spacy) (1.16.0)\n",
            "Requirement already satisfied: mdurl~=0.1 in /usr/local/lib/python3.10/dist-packages (from markdown-it-py>=2.2.0->rich>=10.11.0->typer<1.0.0,>=0.3.0->spacy) (0.1.2)\n",
            "Requirement already satisfied: spacy in /usr/local/lib/python3.10/dist-packages (3.7.5)\n",
            "Requirement already satisfied: spacy-legacy<3.1.0,>=3.0.11 in /usr/local/lib/python3.10/dist-packages (from spacy) (3.0.12)\n",
            "Requirement already satisfied: spacy-loggers<2.0.0,>=1.0.0 in /usr/local/lib/python3.10/dist-packages (from spacy) (1.0.5)\n",
            "Requirement already satisfied: murmurhash<1.1.0,>=0.28.0 in /usr/local/lib/python3.10/dist-packages (from spacy) (1.0.10)\n",
            "Requirement already satisfied: cymem<2.1.0,>=2.0.2 in /usr/local/lib/python3.10/dist-packages (from spacy) (2.0.8)\n",
            "Requirement already satisfied: preshed<3.1.0,>=3.0.2 in /usr/local/lib/python3.10/dist-packages (from spacy) (3.0.9)\n",
            "Requirement already satisfied: thinc<8.3.0,>=8.2.2 in /usr/local/lib/python3.10/dist-packages (from spacy) (8.2.5)\n",
            "Requirement already satisfied: wasabi<1.2.0,>=0.9.1 in /usr/local/lib/python3.10/dist-packages (from spacy) (1.1.3)\n",
            "Requirement already satisfied: srsly<3.0.0,>=2.4.3 in /usr/local/lib/python3.10/dist-packages (from spacy) (2.4.8)\n",
            "Requirement already satisfied: catalogue<2.1.0,>=2.0.6 in /usr/local/lib/python3.10/dist-packages (from spacy) (2.0.10)\n",
            "Requirement already satisfied: weasel<0.5.0,>=0.1.0 in /usr/local/lib/python3.10/dist-packages (from spacy) (0.4.1)\n",
            "Requirement already satisfied: typer<1.0.0,>=0.3.0 in /usr/local/lib/python3.10/dist-packages (from spacy) (0.13.0)\n",
            "Requirement already satisfied: tqdm<5.0.0,>=4.38.0 in /usr/local/lib/python3.10/dist-packages (from spacy) (4.66.6)\n",
            "Requirement already satisfied: requests<3.0.0,>=2.13.0 in /usr/local/lib/python3.10/dist-packages (from spacy) (2.32.3)\n",
            "Requirement already satisfied: pydantic!=1.8,!=1.8.1,<3.0.0,>=1.7.4 in /usr/local/lib/python3.10/dist-packages (from spacy) (2.9.2)\n",
            "Requirement already satisfied: jinja2 in /usr/local/lib/python3.10/dist-packages (from spacy) (3.1.4)\n",
            "Requirement already satisfied: setuptools in /usr/local/lib/python3.10/dist-packages (from spacy) (75.1.0)\n",
            "Requirement already satisfied: packaging>=20.0 in /usr/local/lib/python3.10/dist-packages (from spacy) (24.2)\n",
            "Requirement already satisfied: langcodes<4.0.0,>=3.2.0 in /usr/local/lib/python3.10/dist-packages (from spacy) (3.4.1)\n",
            "Requirement already satisfied: numpy>=1.19.0 in /usr/local/lib/python3.10/dist-packages (from spacy) (1.26.4)\n",
            "Requirement already satisfied: language-data>=1.2 in /usr/local/lib/python3.10/dist-packages (from langcodes<4.0.0,>=3.2.0->spacy) (1.2.0)\n",
            "Requirement already satisfied: annotated-types>=0.6.0 in /usr/local/lib/python3.10/dist-packages (from pydantic!=1.8,!=1.8.1,<3.0.0,>=1.7.4->spacy) (0.7.0)\n",
            "Requirement already satisfied: pydantic-core==2.23.4 in /usr/local/lib/python3.10/dist-packages (from pydantic!=1.8,!=1.8.1,<3.0.0,>=1.7.4->spacy) (2.23.4)\n",
            "Requirement already satisfied: typing-extensions>=4.6.1 in /usr/local/lib/python3.10/dist-packages (from pydantic!=1.8,!=1.8.1,<3.0.0,>=1.7.4->spacy) (4.12.2)\n",
            "Requirement already satisfied: charset-normalizer<4,>=2 in /usr/local/lib/python3.10/dist-packages (from requests<3.0.0,>=2.13.0->spacy) (3.4.0)\n",
            "Requirement already satisfied: idna<4,>=2.5 in /usr/local/lib/python3.10/dist-packages (from requests<3.0.0,>=2.13.0->spacy) (3.10)\n",
            "Requirement already satisfied: urllib3<3,>=1.21.1 in /usr/local/lib/python3.10/dist-packages (from requests<3.0.0,>=2.13.0->spacy) (2.2.3)\n",
            "Requirement already satisfied: certifi>=2017.4.17 in /usr/local/lib/python3.10/dist-packages (from requests<3.0.0,>=2.13.0->spacy) (2024.8.30)\n",
            "Requirement already satisfied: blis<0.8.0,>=0.7.8 in /usr/local/lib/python3.10/dist-packages (from thinc<8.3.0,>=8.2.2->spacy) (0.7.11)\n",
            "Requirement already satisfied: confection<1.0.0,>=0.0.1 in /usr/local/lib/python3.10/dist-packages (from thinc<8.3.0,>=8.2.2->spacy) (0.1.5)\n",
            "Requirement already satisfied: click>=8.0.0 in /usr/local/lib/python3.10/dist-packages (from typer<1.0.0,>=0.3.0->spacy) (8.1.7)\n",
            "Requirement already satisfied: shellingham>=1.3.0 in /usr/local/lib/python3.10/dist-packages (from typer<1.0.0,>=0.3.0->spacy) (1.5.4)\n",
            "Requirement already satisfied: rich>=10.11.0 in /usr/local/lib/python3.10/dist-packages (from typer<1.0.0,>=0.3.0->spacy) (13.9.4)\n",
            "Requirement already satisfied: cloudpathlib<1.0.0,>=0.7.0 in /usr/local/lib/python3.10/dist-packages (from weasel<0.5.0,>=0.1.0->spacy) (0.20.0)\n",
            "Requirement already satisfied: smart-open<8.0.0,>=5.2.1 in /usr/local/lib/python3.10/dist-packages (from weasel<0.5.0,>=0.1.0->spacy) (7.0.5)\n",
            "Requirement already satisfied: MarkupSafe>=2.0 in /usr/local/lib/python3.10/dist-packages (from jinja2->spacy) (3.0.2)\n",
            "Requirement already satisfied: marisa-trie>=0.7.7 in /usr/local/lib/python3.10/dist-packages (from language-data>=1.2->langcodes<4.0.0,>=3.2.0->spacy) (1.2.1)\n",
            "Requirement already satisfied: markdown-it-py>=2.2.0 in /usr/local/lib/python3.10/dist-packages (from rich>=10.11.0->typer<1.0.0,>=0.3.0->spacy) (3.0.0)\n",
            "Requirement already satisfied: pygments<3.0.0,>=2.13.0 in /usr/local/lib/python3.10/dist-packages (from rich>=10.11.0->typer<1.0.0,>=0.3.0->spacy) (2.18.0)\n",
            "Requirement already satisfied: wrapt in /usr/local/lib/python3.10/dist-packages (from smart-open<8.0.0,>=5.2.1->weasel<0.5.0,>=0.1.0->spacy) (1.16.0)\n",
            "Requirement already satisfied: mdurl~=0.1 in /usr/local/lib/python3.10/dist-packages (from markdown-it-py>=2.2.0->rich>=10.11.0->typer<1.0.0,>=0.3.0->spacy) (0.1.2)\n"
          ]
        }
      ],
      "source": [
        "## SpaCy and en_core_web_sm installation\n",
        "!pip install spacy"
      ]
    },
    {
      "cell_type": "code",
      "execution_count": null,
      "metadata": {
        "colab": {
          "base_uri": "https://localhost:8080/"
        },
        "id": "CEL5rgDW9Xhf",
        "outputId": "d0b6cc01-5a41-47a2-d194-51f7cd2089fe"
      },
      "outputs": [
        {
          "output_type": "stream",
          "name": "stdout",
          "text": [
            "Collecting en-core-web-sm==3.7.1\n",
            "  Downloading https://github.com/explosion/spacy-models/releases/download/en_core_web_sm-3.7.1/en_core_web_sm-3.7.1-py3-none-any.whl (12.8 MB)\n",
            "\u001b[2K     \u001b[90m━━━━━━━━━━━━━━━━━━━━━━━━━━━━━━━━━━━━━━━━\u001b[0m \u001b[32m12.8/12.8 MB\u001b[0m \u001b[31m77.0 MB/s\u001b[0m eta \u001b[36m0:00:00\u001b[0m\n",
            "\u001b[?25hRequirement already satisfied: spacy<3.8.0,>=3.7.2 in /usr/local/lib/python3.10/dist-packages (from en-core-web-sm==3.7.1) (3.7.5)\n",
            "Requirement already satisfied: spacy-legacy<3.1.0,>=3.0.11 in /usr/local/lib/python3.10/dist-packages (from spacy<3.8.0,>=3.7.2->en-core-web-sm==3.7.1) (3.0.12)\n",
            "Requirement already satisfied: spacy-loggers<2.0.0,>=1.0.0 in /usr/local/lib/python3.10/dist-packages (from spacy<3.8.0,>=3.7.2->en-core-web-sm==3.7.1) (1.0.5)\n",
            "Requirement already satisfied: murmurhash<1.1.0,>=0.28.0 in /usr/local/lib/python3.10/dist-packages (from spacy<3.8.0,>=3.7.2->en-core-web-sm==3.7.1) (1.0.10)\n",
            "Requirement already satisfied: cymem<2.1.0,>=2.0.2 in /usr/local/lib/python3.10/dist-packages (from spacy<3.8.0,>=3.7.2->en-core-web-sm==3.7.1) (2.0.8)\n",
            "Requirement already satisfied: preshed<3.1.0,>=3.0.2 in /usr/local/lib/python3.10/dist-packages (from spacy<3.8.0,>=3.7.2->en-core-web-sm==3.7.1) (3.0.9)\n",
            "Requirement already satisfied: thinc<8.3.0,>=8.2.2 in /usr/local/lib/python3.10/dist-packages (from spacy<3.8.0,>=3.7.2->en-core-web-sm==3.7.1) (8.2.5)\n",
            "Requirement already satisfied: wasabi<1.2.0,>=0.9.1 in /usr/local/lib/python3.10/dist-packages (from spacy<3.8.0,>=3.7.2->en-core-web-sm==3.7.1) (1.1.3)\n",
            "Requirement already satisfied: srsly<3.0.0,>=2.4.3 in /usr/local/lib/python3.10/dist-packages (from spacy<3.8.0,>=3.7.2->en-core-web-sm==3.7.1) (2.4.8)\n",
            "Requirement already satisfied: catalogue<2.1.0,>=2.0.6 in /usr/local/lib/python3.10/dist-packages (from spacy<3.8.0,>=3.7.2->en-core-web-sm==3.7.1) (2.0.10)\n",
            "Requirement already satisfied: weasel<0.5.0,>=0.1.0 in /usr/local/lib/python3.10/dist-packages (from spacy<3.8.0,>=3.7.2->en-core-web-sm==3.7.1) (0.4.1)\n",
            "Requirement already satisfied: typer<1.0.0,>=0.3.0 in /usr/local/lib/python3.10/dist-packages (from spacy<3.8.0,>=3.7.2->en-core-web-sm==3.7.1) (0.13.0)\n",
            "Requirement already satisfied: tqdm<5.0.0,>=4.38.0 in /usr/local/lib/python3.10/dist-packages (from spacy<3.8.0,>=3.7.2->en-core-web-sm==3.7.1) (4.66.6)\n",
            "Requirement already satisfied: requests<3.0.0,>=2.13.0 in /usr/local/lib/python3.10/dist-packages (from spacy<3.8.0,>=3.7.2->en-core-web-sm==3.7.1) (2.32.3)\n",
            "Requirement already satisfied: pydantic!=1.8,!=1.8.1,<3.0.0,>=1.7.4 in /usr/local/lib/python3.10/dist-packages (from spacy<3.8.0,>=3.7.2->en-core-web-sm==3.7.1) (2.9.2)\n",
            "Requirement already satisfied: jinja2 in /usr/local/lib/python3.10/dist-packages (from spacy<3.8.0,>=3.7.2->en-core-web-sm==3.7.1) (3.1.4)\n",
            "Requirement already satisfied: setuptools in /usr/local/lib/python3.10/dist-packages (from spacy<3.8.0,>=3.7.2->en-core-web-sm==3.7.1) (75.1.0)\n",
            "Requirement already satisfied: packaging>=20.0 in /usr/local/lib/python3.10/dist-packages (from spacy<3.8.0,>=3.7.2->en-core-web-sm==3.7.1) (24.2)\n",
            "Requirement already satisfied: langcodes<4.0.0,>=3.2.0 in /usr/local/lib/python3.10/dist-packages (from spacy<3.8.0,>=3.7.2->en-core-web-sm==3.7.1) (3.4.1)\n",
            "Requirement already satisfied: numpy>=1.19.0 in /usr/local/lib/python3.10/dist-packages (from spacy<3.8.0,>=3.7.2->en-core-web-sm==3.7.1) (1.26.4)\n",
            "Requirement already satisfied: language-data>=1.2 in /usr/local/lib/python3.10/dist-packages (from langcodes<4.0.0,>=3.2.0->spacy<3.8.0,>=3.7.2->en-core-web-sm==3.7.1) (1.2.0)\n",
            "Requirement already satisfied: annotated-types>=0.6.0 in /usr/local/lib/python3.10/dist-packages (from pydantic!=1.8,!=1.8.1,<3.0.0,>=1.7.4->spacy<3.8.0,>=3.7.2->en-core-web-sm==3.7.1) (0.7.0)\n",
            "Requirement already satisfied: pydantic-core==2.23.4 in /usr/local/lib/python3.10/dist-packages (from pydantic!=1.8,!=1.8.1,<3.0.0,>=1.7.4->spacy<3.8.0,>=3.7.2->en-core-web-sm==3.7.1) (2.23.4)\n",
            "Requirement already satisfied: typing-extensions>=4.6.1 in /usr/local/lib/python3.10/dist-packages (from pydantic!=1.8,!=1.8.1,<3.0.0,>=1.7.4->spacy<3.8.0,>=3.7.2->en-core-web-sm==3.7.1) (4.12.2)\n",
            "Requirement already satisfied: charset-normalizer<4,>=2 in /usr/local/lib/python3.10/dist-packages (from requests<3.0.0,>=2.13.0->spacy<3.8.0,>=3.7.2->en-core-web-sm==3.7.1) (3.4.0)\n",
            "Requirement already satisfied: idna<4,>=2.5 in /usr/local/lib/python3.10/dist-packages (from requests<3.0.0,>=2.13.0->spacy<3.8.0,>=3.7.2->en-core-web-sm==3.7.1) (3.10)\n",
            "Requirement already satisfied: urllib3<3,>=1.21.1 in /usr/local/lib/python3.10/dist-packages (from requests<3.0.0,>=2.13.0->spacy<3.8.0,>=3.7.2->en-core-web-sm==3.7.1) (2.2.3)\n",
            "Requirement already satisfied: certifi>=2017.4.17 in /usr/local/lib/python3.10/dist-packages (from requests<3.0.0,>=2.13.0->spacy<3.8.0,>=3.7.2->en-core-web-sm==3.7.1) (2024.8.30)\n",
            "Requirement already satisfied: blis<0.8.0,>=0.7.8 in /usr/local/lib/python3.10/dist-packages (from thinc<8.3.0,>=8.2.2->spacy<3.8.0,>=3.7.2->en-core-web-sm==3.7.1) (0.7.11)\n",
            "Requirement already satisfied: confection<1.0.0,>=0.0.1 in /usr/local/lib/python3.10/dist-packages (from thinc<8.3.0,>=8.2.2->spacy<3.8.0,>=3.7.2->en-core-web-sm==3.7.1) (0.1.5)\n",
            "Requirement already satisfied: click>=8.0.0 in /usr/local/lib/python3.10/dist-packages (from typer<1.0.0,>=0.3.0->spacy<3.8.0,>=3.7.2->en-core-web-sm==3.7.1) (8.1.7)\n",
            "Requirement already satisfied: shellingham>=1.3.0 in /usr/local/lib/python3.10/dist-packages (from typer<1.0.0,>=0.3.0->spacy<3.8.0,>=3.7.2->en-core-web-sm==3.7.1) (1.5.4)\n",
            "Requirement already satisfied: rich>=10.11.0 in /usr/local/lib/python3.10/dist-packages (from typer<1.0.0,>=0.3.0->spacy<3.8.0,>=3.7.2->en-core-web-sm==3.7.1) (13.9.4)\n",
            "Requirement already satisfied: cloudpathlib<1.0.0,>=0.7.0 in /usr/local/lib/python3.10/dist-packages (from weasel<0.5.0,>=0.1.0->spacy<3.8.0,>=3.7.2->en-core-web-sm==3.7.1) (0.20.0)\n",
            "Requirement already satisfied: smart-open<8.0.0,>=5.2.1 in /usr/local/lib/python3.10/dist-packages (from weasel<0.5.0,>=0.1.0->spacy<3.8.0,>=3.7.2->en-core-web-sm==3.7.1) (7.0.5)\n",
            "Requirement already satisfied: MarkupSafe>=2.0 in /usr/local/lib/python3.10/dist-packages (from jinja2->spacy<3.8.0,>=3.7.2->en-core-web-sm==3.7.1) (3.0.2)\n",
            "Requirement already satisfied: marisa-trie>=0.7.7 in /usr/local/lib/python3.10/dist-packages (from language-data>=1.2->langcodes<4.0.0,>=3.2.0->spacy<3.8.0,>=3.7.2->en-core-web-sm==3.7.1) (1.2.1)\n",
            "Requirement already satisfied: markdown-it-py>=2.2.0 in /usr/local/lib/python3.10/dist-packages (from rich>=10.11.0->typer<1.0.0,>=0.3.0->spacy<3.8.0,>=3.7.2->en-core-web-sm==3.7.1) (3.0.0)\n",
            "Requirement already satisfied: pygments<3.0.0,>=2.13.0 in /usr/local/lib/python3.10/dist-packages (from rich>=10.11.0->typer<1.0.0,>=0.3.0->spacy<3.8.0,>=3.7.2->en-core-web-sm==3.7.1) (2.18.0)\n",
            "Requirement already satisfied: wrapt in /usr/local/lib/python3.10/dist-packages (from smart-open<8.0.0,>=5.2.1->weasel<0.5.0,>=0.1.0->spacy<3.8.0,>=3.7.2->en-core-web-sm==3.7.1) (1.16.0)\n",
            "Requirement already satisfied: mdurl~=0.1 in /usr/local/lib/python3.10/dist-packages (from markdown-it-py>=2.2.0->rich>=10.11.0->typer<1.0.0,>=0.3.0->spacy<3.8.0,>=3.7.2->en-core-web-sm==3.7.1) (0.1.2)\n",
            "\u001b[38;5;2m✔ Download and installation successful\u001b[0m\n",
            "You can now load the package via spacy.load('en_core_web_sm')\n",
            "\u001b[38;5;3m⚠ Restart to reload dependencies\u001b[0m\n",
            "If you are in a Jupyter or Colab notebook, you may need to restart Python in\n",
            "order to load all the package's dependencies. You can do this by selecting the\n",
            "'Restart kernel' or 'Restart runtime' option.\n"
          ]
        }
      ],
      "source": [
        "##run the following command in the console\n",
        "!python -m spacy download en_core_web_sm"
      ]
    },
    {
      "cell_type": "markdown",
      "metadata": {
        "id": "JuLFIymAL58u"
      },
      "source": [
        "## Importing the necessary libraries"
      ]
    },
    {
      "cell_type": "code",
      "execution_count": null,
      "metadata": {
        "id": "O-Q9pqrcJrFr"
      },
      "outputs": [],
      "source": [
        "import json\n",
        "import numpy as np\n",
        "import pandas as pd\n",
        "import re, string\n",
        "\n",
        "# Import NLTK libraries\n",
        "import nltk\n",
        "from nltk.tokenize import word_tokenize\n",
        "from nltk.corpus import stopwords\n",
        "from nltk.stem import WordNetLemmatizer\n",
        "\n",
        "# Import Spacy libraries\n",
        "import spacy\n",
        "import en_core_web_sm\n",
        "nlp = en_core_web_sm.load()\n",
        "\n",
        "import seaborn as sns\n",
        "import matplotlib.pyplot as plt\n",
        "%matplotlib inline\n",
        "\n",
        "from plotly.offline import plot\n",
        "import plotly.graph_objects as go\n",
        "import plotly.express as px\n",
        "\n",
        "from sklearn.feature_extraction.text import CountVectorizer, TfidfVectorizer, TfidfTransformer\n",
        "from pprint import pprint\n",
        "\n",
        "# Suppressing Warnings\n",
        "import warnings\n",
        "warnings.filterwarnings('ignore')"
      ]
    },
    {
      "cell_type": "markdown",
      "metadata": {
        "id": "At_l7dmCpTuQ"
      },
      "source": [
        "**NLTK (Natural Language Toolkit), una biblioteca en Python para realizar tareas de procesamiento de lenguaje natural (NLP). **"
      ]
    },
    {
      "cell_type": "code",
      "execution_count": null,
      "metadata": {
        "colab": {
          "base_uri": "https://localhost:8080/"
        },
        "id": "9Hobjrl59Xhh",
        "outputId": "c99a6c27-2372-49b5-add4-aabb089d47a9"
      },
      "outputs": [
        {
          "output_type": "stream",
          "name": "stderr",
          "text": [
            "[nltk_data] Downloading package stopwords to /root/nltk_data...\n",
            "[nltk_data]   Unzipping corpora/stopwords.zip.\n",
            "[nltk_data] Downloading package punkt to /root/nltk_data...\n",
            "[nltk_data]   Unzipping tokenizers/punkt.zip.\n",
            "[nltk_data] Downloading package wordnet to /root/nltk_data...\n",
            "[nltk_data] Downloading package omw-1.4 to /root/nltk_data...\n"
          ]
        },
        {
          "output_type": "execute_result",
          "data": {
            "text/plain": [
              "True"
            ]
          },
          "metadata": {},
          "execution_count": 5
        }
      ],
      "source": [
        "# Download NLTK resources\n",
        "\n",
        "nltk.download('stopwords')\n",
        "nltk.download('punkt')\n",
        "nltk.download('wordnet')\n",
        "nltk.download('omw-1.4')"
      ]
    },
    {
      "cell_type": "markdown",
      "metadata": {
        "id": "KtRLCsNVJrFt"
      },
      "source": [
        "## **3. Loading the data**\n",
        "\n",
        "Los datos están en formato JSON y necesitamos convertirlos a un dataframe.\n",
        "Se esta descargando un archivo JSON desde una URL de Google Drive usando la biblioteca requests, lo guardas localmente como complaints.json, luego se carga en Python utilizando json.load() y finalmente se convierten los datos JSON en un DataFrame de pandas para facilitar su análisis."
      ]
    },
    {
      "cell_type": "code",
      "execution_count": null,
      "metadata": {
        "id": "_bm1uey_gEC2"
      },
      "outputs": [],
      "source": [
        "import requests\n",
        "# URL del archivo JSON en Google Drive compartido\n",
        "url = 'https://drive.usercontent.google.com/download?id=1DFXAgFeZbOjYey59IFF1umyVx233LPOS&export=download&authuser=0&confirm=t&uuid=0fa3b723-7c61-432a-98ec-249c893c6fac&at=AENtkXYAwku0EbA2lF9lSL1fGUk0:1732037779732'\n",
        "\n",
        "# Hacer la solicitud para obtener los datos\n",
        "response = requests.get(url)\n",
        "\n",
        "# Guardar el contenido descargado en un archivo local\n",
        "with open('complaints.json', 'wb') as file:\n",
        "    file.write(response.content)\n",
        "\n",
        "# Cargar el archivo JSON usando json.load()\n",
        "with open('complaints.json', 'r') as json_file:\n",
        "    datos_json = json.load(json_file)\n",
        "\n",
        "# Convertir los datos cargados a un DataFrame\n",
        "df = pd.json_normalize(datos_json)"
      ]
    },
    {
      "cell_type": "code",
      "execution_count": null,
      "metadata": {
        "colab": {
          "base_uri": "https://localhost:8080/",
          "height": 673
        },
        "id": "OimffMXWAxWs",
        "outputId": "f8578c67-39af-4c99-de13-fbad592d18a0"
      },
      "outputs": [
        {
          "output_type": "execute_result",
          "data": {
            "text/plain": [
              "                _index      _type      _id  _score    _source.tags  \\\n",
              "0  complaint-public-v2  complaint  3211475     0.0            None   \n",
              "1  complaint-public-v2  complaint  3229299     0.0   Servicemember   \n",
              "2  complaint-public-v2  complaint  3199379     0.0            None   \n",
              "3  complaint-public-v2  complaint  2673060     0.0            None   \n",
              "4  complaint-public-v2  complaint  3203545     0.0            None   \n",
              "5  complaint-public-v2  complaint  3275312     0.0  Older American   \n",
              "6  complaint-public-v2  complaint  3238804     0.0            None   \n",
              "7  complaint-public-v2  complaint  3249272     0.0            None   \n",
              "8  complaint-public-v2  complaint  3351653     0.0            None   \n",
              "9  complaint-public-v2  complaint  3273612     0.0            None   \n",
              "\n",
              "  _source.zip_code _source.complaint_id                       _source.issue  \\\n",
              "0            90301              3211475   Attempts to collect debt not owed   \n",
              "1            319XX              3229299     Written notification about debt   \n",
              "2            77069              3199379  Other features, terms, or problems   \n",
              "3            48066              2673060      Trouble during payment process   \n",
              "4            10473              3203545                    Fees or interest   \n",
              "5            48227              3275312                 Managing an account   \n",
              "6            76262              3238804                 Managing an account   \n",
              "7            07753              3249272      Trouble during payment process   \n",
              "8            60621              3351653                  Closing an account   \n",
              "9            99354              3273612                 Managing an account   \n",
              "\n",
              "       _source.date_received _source.state  ...     _source.company_response  \\\n",
              "0  2019-04-13T12:00:00-05:00            CA  ...      Closed with explanation   \n",
              "1  2019-05-01T12:00:00-05:00            GA  ...      Closed with explanation   \n",
              "2  2019-04-02T12:00:00-05:00            TX  ...      Closed with explanation   \n",
              "3  2017-09-13T12:00:00-05:00            MI  ...      Closed with explanation   \n",
              "4  2019-04-05T12:00:00-05:00            NY  ...      Closed with explanation   \n",
              "5  2019-06-13T12:00:00-05:00            MI  ...  Closed with monetary relief   \n",
              "6  2019-05-10T12:00:00-05:00            TX  ...  Closed with monetary relief   \n",
              "7  2019-05-15T12:00:00-05:00            NJ  ...      Closed with explanation   \n",
              "8  2019-08-22T12:00:00-05:00            IL  ...      Closed with explanation   \n",
              "9  2019-06-11T12:00:00-05:00            WA  ...  Closed with monetary relief   \n",
              "\n",
              "        _source.company _source.submitted_via _source.date_sent_to_company  \\\n",
              "0  JPMORGAN CHASE & CO.                   Web    2019-04-13T12:00:00-05:00   \n",
              "1  JPMORGAN CHASE & CO.                   Web    2019-05-01T12:00:00-05:00   \n",
              "2  JPMORGAN CHASE & CO.                   Web    2019-04-02T12:00:00-05:00   \n",
              "3  JPMORGAN CHASE & CO.                   Web    2017-09-14T12:00:00-05:00   \n",
              "4  JPMORGAN CHASE & CO.              Referral    2019-04-05T12:00:00-05:00   \n",
              "5  JPMORGAN CHASE & CO.              Referral    2019-06-14T12:00:00-05:00   \n",
              "6  JPMORGAN CHASE & CO.                 Phone    2019-05-10T12:00:00-05:00   \n",
              "7  JPMORGAN CHASE & CO.              Referral    2019-05-21T12:00:00-05:00   \n",
              "8  JPMORGAN CHASE & CO.              Referral    2019-08-23T12:00:00-05:00   \n",
              "9  JPMORGAN CHASE & CO.              Referral    2019-06-17T12:00:00-05:00   \n",
              "\n",
              "  _source.company_public_response                         _source.sub_product  \\\n",
              "0                            None                            Credit card debt   \n",
              "1                            None                            Credit card debt   \n",
              "2                            None  General-purpose credit card or charge card   \n",
              "3                            None                  Conventional home mortgage   \n",
              "4                            None  General-purpose credit card or charge card   \n",
              "5                            None                            Checking account   \n",
              "6                            None                            Checking account   \n",
              "7                            None                  Conventional home mortgage   \n",
              "8                            None                            Checking account   \n",
              "9                            None                            Checking account   \n",
              "\n",
              "  _source.timely                    _source.complaint_what_happened  \\\n",
              "0            Yes                                                      \n",
              "1            Yes  Good morning my name is XXXX XXXX and I apprec...   \n",
              "2            Yes  I upgraded my XXXX XXXX card in XX/XX/2018 and...   \n",
              "3            Yes                                                      \n",
              "4            Yes                                                      \n",
              "5            Yes                                                      \n",
              "6            Yes                                                      \n",
              "7            Yes                                                      \n",
              "8            Yes                                                      \n",
              "9            Yes                                                      \n",
              "\n",
              "                                  _source.sub_issue  \\\n",
              "0                                 Debt is not yours   \n",
              "1  Didn't receive enough information to verify debt   \n",
              "2             Problem with rewards from credit card   \n",
              "3                                              None   \n",
              "4                         Charged too much interest   \n",
              "5                 Problem using a debit or ATM card   \n",
              "6                 Problem using a debit or ATM card   \n",
              "7                                              None   \n",
              "8                       Company closed your account   \n",
              "9                                   Cashing a check   \n",
              "\n",
              "  _source.consumer_consent_provided  \n",
              "0              Consent not provided  \n",
              "1                  Consent provided  \n",
              "2                  Consent provided  \n",
              "3              Consent not provided  \n",
              "4                               N/A  \n",
              "5                               N/A  \n",
              "6                               N/A  \n",
              "7                               N/A  \n",
              "8                               N/A  \n",
              "9                               N/A  \n",
              "\n",
              "[10 rows x 22 columns]"
            ],
            "text/html": [
              "\n",
              "  <div id=\"df-14c612c5-c541-4f2a-87ce-a157b5391f00\" class=\"colab-df-container\">\n",
              "    <div>\n",
              "<style scoped>\n",
              "    .dataframe tbody tr th:only-of-type {\n",
              "        vertical-align: middle;\n",
              "    }\n",
              "\n",
              "    .dataframe tbody tr th {\n",
              "        vertical-align: top;\n",
              "    }\n",
              "\n",
              "    .dataframe thead th {\n",
              "        text-align: right;\n",
              "    }\n",
              "</style>\n",
              "<table border=\"1\" class=\"dataframe\">\n",
              "  <thead>\n",
              "    <tr style=\"text-align: right;\">\n",
              "      <th></th>\n",
              "      <th>_index</th>\n",
              "      <th>_type</th>\n",
              "      <th>_id</th>\n",
              "      <th>_score</th>\n",
              "      <th>_source.tags</th>\n",
              "      <th>_source.zip_code</th>\n",
              "      <th>_source.complaint_id</th>\n",
              "      <th>_source.issue</th>\n",
              "      <th>_source.date_received</th>\n",
              "      <th>_source.state</th>\n",
              "      <th>...</th>\n",
              "      <th>_source.company_response</th>\n",
              "      <th>_source.company</th>\n",
              "      <th>_source.submitted_via</th>\n",
              "      <th>_source.date_sent_to_company</th>\n",
              "      <th>_source.company_public_response</th>\n",
              "      <th>_source.sub_product</th>\n",
              "      <th>_source.timely</th>\n",
              "      <th>_source.complaint_what_happened</th>\n",
              "      <th>_source.sub_issue</th>\n",
              "      <th>_source.consumer_consent_provided</th>\n",
              "    </tr>\n",
              "  </thead>\n",
              "  <tbody>\n",
              "    <tr>\n",
              "      <th>0</th>\n",
              "      <td>complaint-public-v2</td>\n",
              "      <td>complaint</td>\n",
              "      <td>3211475</td>\n",
              "      <td>0.0</td>\n",
              "      <td>None</td>\n",
              "      <td>90301</td>\n",
              "      <td>3211475</td>\n",
              "      <td>Attempts to collect debt not owed</td>\n",
              "      <td>2019-04-13T12:00:00-05:00</td>\n",
              "      <td>CA</td>\n",
              "      <td>...</td>\n",
              "      <td>Closed with explanation</td>\n",
              "      <td>JPMORGAN CHASE &amp; CO.</td>\n",
              "      <td>Web</td>\n",
              "      <td>2019-04-13T12:00:00-05:00</td>\n",
              "      <td>None</td>\n",
              "      <td>Credit card debt</td>\n",
              "      <td>Yes</td>\n",
              "      <td></td>\n",
              "      <td>Debt is not yours</td>\n",
              "      <td>Consent not provided</td>\n",
              "    </tr>\n",
              "    <tr>\n",
              "      <th>1</th>\n",
              "      <td>complaint-public-v2</td>\n",
              "      <td>complaint</td>\n",
              "      <td>3229299</td>\n",
              "      <td>0.0</td>\n",
              "      <td>Servicemember</td>\n",
              "      <td>319XX</td>\n",
              "      <td>3229299</td>\n",
              "      <td>Written notification about debt</td>\n",
              "      <td>2019-05-01T12:00:00-05:00</td>\n",
              "      <td>GA</td>\n",
              "      <td>...</td>\n",
              "      <td>Closed with explanation</td>\n",
              "      <td>JPMORGAN CHASE &amp; CO.</td>\n",
              "      <td>Web</td>\n",
              "      <td>2019-05-01T12:00:00-05:00</td>\n",
              "      <td>None</td>\n",
              "      <td>Credit card debt</td>\n",
              "      <td>Yes</td>\n",
              "      <td>Good morning my name is XXXX XXXX and I apprec...</td>\n",
              "      <td>Didn't receive enough information to verify debt</td>\n",
              "      <td>Consent provided</td>\n",
              "    </tr>\n",
              "    <tr>\n",
              "      <th>2</th>\n",
              "      <td>complaint-public-v2</td>\n",
              "      <td>complaint</td>\n",
              "      <td>3199379</td>\n",
              "      <td>0.0</td>\n",
              "      <td>None</td>\n",
              "      <td>77069</td>\n",
              "      <td>3199379</td>\n",
              "      <td>Other features, terms, or problems</td>\n",
              "      <td>2019-04-02T12:00:00-05:00</td>\n",
              "      <td>TX</td>\n",
              "      <td>...</td>\n",
              "      <td>Closed with explanation</td>\n",
              "      <td>JPMORGAN CHASE &amp; CO.</td>\n",
              "      <td>Web</td>\n",
              "      <td>2019-04-02T12:00:00-05:00</td>\n",
              "      <td>None</td>\n",
              "      <td>General-purpose credit card or charge card</td>\n",
              "      <td>Yes</td>\n",
              "      <td>I upgraded my XXXX XXXX card in XX/XX/2018 and...</td>\n",
              "      <td>Problem with rewards from credit card</td>\n",
              "      <td>Consent provided</td>\n",
              "    </tr>\n",
              "    <tr>\n",
              "      <th>3</th>\n",
              "      <td>complaint-public-v2</td>\n",
              "      <td>complaint</td>\n",
              "      <td>2673060</td>\n",
              "      <td>0.0</td>\n",
              "      <td>None</td>\n",
              "      <td>48066</td>\n",
              "      <td>2673060</td>\n",
              "      <td>Trouble during payment process</td>\n",
              "      <td>2017-09-13T12:00:00-05:00</td>\n",
              "      <td>MI</td>\n",
              "      <td>...</td>\n",
              "      <td>Closed with explanation</td>\n",
              "      <td>JPMORGAN CHASE &amp; CO.</td>\n",
              "      <td>Web</td>\n",
              "      <td>2017-09-14T12:00:00-05:00</td>\n",
              "      <td>None</td>\n",
              "      <td>Conventional home mortgage</td>\n",
              "      <td>Yes</td>\n",
              "      <td></td>\n",
              "      <td>None</td>\n",
              "      <td>Consent not provided</td>\n",
              "    </tr>\n",
              "    <tr>\n",
              "      <th>4</th>\n",
              "      <td>complaint-public-v2</td>\n",
              "      <td>complaint</td>\n",
              "      <td>3203545</td>\n",
              "      <td>0.0</td>\n",
              "      <td>None</td>\n",
              "      <td>10473</td>\n",
              "      <td>3203545</td>\n",
              "      <td>Fees or interest</td>\n",
              "      <td>2019-04-05T12:00:00-05:00</td>\n",
              "      <td>NY</td>\n",
              "      <td>...</td>\n",
              "      <td>Closed with explanation</td>\n",
              "      <td>JPMORGAN CHASE &amp; CO.</td>\n",
              "      <td>Referral</td>\n",
              "      <td>2019-04-05T12:00:00-05:00</td>\n",
              "      <td>None</td>\n",
              "      <td>General-purpose credit card or charge card</td>\n",
              "      <td>Yes</td>\n",
              "      <td></td>\n",
              "      <td>Charged too much interest</td>\n",
              "      <td>N/A</td>\n",
              "    </tr>\n",
              "    <tr>\n",
              "      <th>5</th>\n",
              "      <td>complaint-public-v2</td>\n",
              "      <td>complaint</td>\n",
              "      <td>3275312</td>\n",
              "      <td>0.0</td>\n",
              "      <td>Older American</td>\n",
              "      <td>48227</td>\n",
              "      <td>3275312</td>\n",
              "      <td>Managing an account</td>\n",
              "      <td>2019-06-13T12:00:00-05:00</td>\n",
              "      <td>MI</td>\n",
              "      <td>...</td>\n",
              "      <td>Closed with monetary relief</td>\n",
              "      <td>JPMORGAN CHASE &amp; CO.</td>\n",
              "      <td>Referral</td>\n",
              "      <td>2019-06-14T12:00:00-05:00</td>\n",
              "      <td>None</td>\n",
              "      <td>Checking account</td>\n",
              "      <td>Yes</td>\n",
              "      <td></td>\n",
              "      <td>Problem using a debit or ATM card</td>\n",
              "      <td>N/A</td>\n",
              "    </tr>\n",
              "    <tr>\n",
              "      <th>6</th>\n",
              "      <td>complaint-public-v2</td>\n",
              "      <td>complaint</td>\n",
              "      <td>3238804</td>\n",
              "      <td>0.0</td>\n",
              "      <td>None</td>\n",
              "      <td>76262</td>\n",
              "      <td>3238804</td>\n",
              "      <td>Managing an account</td>\n",
              "      <td>2019-05-10T12:00:00-05:00</td>\n",
              "      <td>TX</td>\n",
              "      <td>...</td>\n",
              "      <td>Closed with monetary relief</td>\n",
              "      <td>JPMORGAN CHASE &amp; CO.</td>\n",
              "      <td>Phone</td>\n",
              "      <td>2019-05-10T12:00:00-05:00</td>\n",
              "      <td>None</td>\n",
              "      <td>Checking account</td>\n",
              "      <td>Yes</td>\n",
              "      <td></td>\n",
              "      <td>Problem using a debit or ATM card</td>\n",
              "      <td>N/A</td>\n",
              "    </tr>\n",
              "    <tr>\n",
              "      <th>7</th>\n",
              "      <td>complaint-public-v2</td>\n",
              "      <td>complaint</td>\n",
              "      <td>3249272</td>\n",
              "      <td>0.0</td>\n",
              "      <td>None</td>\n",
              "      <td>07753</td>\n",
              "      <td>3249272</td>\n",
              "      <td>Trouble during payment process</td>\n",
              "      <td>2019-05-15T12:00:00-05:00</td>\n",
              "      <td>NJ</td>\n",
              "      <td>...</td>\n",
              "      <td>Closed with explanation</td>\n",
              "      <td>JPMORGAN CHASE &amp; CO.</td>\n",
              "      <td>Referral</td>\n",
              "      <td>2019-05-21T12:00:00-05:00</td>\n",
              "      <td>None</td>\n",
              "      <td>Conventional home mortgage</td>\n",
              "      <td>Yes</td>\n",
              "      <td></td>\n",
              "      <td>None</td>\n",
              "      <td>N/A</td>\n",
              "    </tr>\n",
              "    <tr>\n",
              "      <th>8</th>\n",
              "      <td>complaint-public-v2</td>\n",
              "      <td>complaint</td>\n",
              "      <td>3351653</td>\n",
              "      <td>0.0</td>\n",
              "      <td>None</td>\n",
              "      <td>60621</td>\n",
              "      <td>3351653</td>\n",
              "      <td>Closing an account</td>\n",
              "      <td>2019-08-22T12:00:00-05:00</td>\n",
              "      <td>IL</td>\n",
              "      <td>...</td>\n",
              "      <td>Closed with explanation</td>\n",
              "      <td>JPMORGAN CHASE &amp; CO.</td>\n",
              "      <td>Referral</td>\n",
              "      <td>2019-08-23T12:00:00-05:00</td>\n",
              "      <td>None</td>\n",
              "      <td>Checking account</td>\n",
              "      <td>Yes</td>\n",
              "      <td></td>\n",
              "      <td>Company closed your account</td>\n",
              "      <td>N/A</td>\n",
              "    </tr>\n",
              "    <tr>\n",
              "      <th>9</th>\n",
              "      <td>complaint-public-v2</td>\n",
              "      <td>complaint</td>\n",
              "      <td>3273612</td>\n",
              "      <td>0.0</td>\n",
              "      <td>None</td>\n",
              "      <td>99354</td>\n",
              "      <td>3273612</td>\n",
              "      <td>Managing an account</td>\n",
              "      <td>2019-06-11T12:00:00-05:00</td>\n",
              "      <td>WA</td>\n",
              "      <td>...</td>\n",
              "      <td>Closed with monetary relief</td>\n",
              "      <td>JPMORGAN CHASE &amp; CO.</td>\n",
              "      <td>Referral</td>\n",
              "      <td>2019-06-17T12:00:00-05:00</td>\n",
              "      <td>None</td>\n",
              "      <td>Checking account</td>\n",
              "      <td>Yes</td>\n",
              "      <td></td>\n",
              "      <td>Cashing a check</td>\n",
              "      <td>N/A</td>\n",
              "    </tr>\n",
              "  </tbody>\n",
              "</table>\n",
              "<p>10 rows × 22 columns</p>\n",
              "</div>\n",
              "    <div class=\"colab-df-buttons\">\n",
              "\n",
              "  <div class=\"colab-df-container\">\n",
              "    <button class=\"colab-df-convert\" onclick=\"convertToInteractive('df-14c612c5-c541-4f2a-87ce-a157b5391f00')\"\n",
              "            title=\"Convert this dataframe to an interactive table.\"\n",
              "            style=\"display:none;\">\n",
              "\n",
              "  <svg xmlns=\"http://www.w3.org/2000/svg\" height=\"24px\" viewBox=\"0 -960 960 960\">\n",
              "    <path d=\"M120-120v-720h720v720H120Zm60-500h600v-160H180v160Zm220 220h160v-160H400v160Zm0 220h160v-160H400v160ZM180-400h160v-160H180v160Zm440 0h160v-160H620v160ZM180-180h160v-160H180v160Zm440 0h160v-160H620v160Z\"/>\n",
              "  </svg>\n",
              "    </button>\n",
              "\n",
              "  <style>\n",
              "    .colab-df-container {\n",
              "      display:flex;\n",
              "      gap: 12px;\n",
              "    }\n",
              "\n",
              "    .colab-df-convert {\n",
              "      background-color: #E8F0FE;\n",
              "      border: none;\n",
              "      border-radius: 50%;\n",
              "      cursor: pointer;\n",
              "      display: none;\n",
              "      fill: #1967D2;\n",
              "      height: 32px;\n",
              "      padding: 0 0 0 0;\n",
              "      width: 32px;\n",
              "    }\n",
              "\n",
              "    .colab-df-convert:hover {\n",
              "      background-color: #E2EBFA;\n",
              "      box-shadow: 0px 1px 2px rgba(60, 64, 67, 0.3), 0px 1px 3px 1px rgba(60, 64, 67, 0.15);\n",
              "      fill: #174EA6;\n",
              "    }\n",
              "\n",
              "    .colab-df-buttons div {\n",
              "      margin-bottom: 4px;\n",
              "    }\n",
              "\n",
              "    [theme=dark] .colab-df-convert {\n",
              "      background-color: #3B4455;\n",
              "      fill: #D2E3FC;\n",
              "    }\n",
              "\n",
              "    [theme=dark] .colab-df-convert:hover {\n",
              "      background-color: #434B5C;\n",
              "      box-shadow: 0px 1px 3px 1px rgba(0, 0, 0, 0.15);\n",
              "      filter: drop-shadow(0px 1px 2px rgba(0, 0, 0, 0.3));\n",
              "      fill: #FFFFFF;\n",
              "    }\n",
              "  </style>\n",
              "\n",
              "    <script>\n",
              "      const buttonEl =\n",
              "        document.querySelector('#df-14c612c5-c541-4f2a-87ce-a157b5391f00 button.colab-df-convert');\n",
              "      buttonEl.style.display =\n",
              "        google.colab.kernel.accessAllowed ? 'block' : 'none';\n",
              "\n",
              "      async function convertToInteractive(key) {\n",
              "        const element = document.querySelector('#df-14c612c5-c541-4f2a-87ce-a157b5391f00');\n",
              "        const dataTable =\n",
              "          await google.colab.kernel.invokeFunction('convertToInteractive',\n",
              "                                                    [key], {});\n",
              "        if (!dataTable) return;\n",
              "\n",
              "        const docLinkHtml = 'Like what you see? Visit the ' +\n",
              "          '<a target=\"_blank\" href=https://colab.research.google.com/notebooks/data_table.ipynb>data table notebook</a>'\n",
              "          + ' to learn more about interactive tables.';\n",
              "        element.innerHTML = '';\n",
              "        dataTable['output_type'] = 'display_data';\n",
              "        await google.colab.output.renderOutput(dataTable, element);\n",
              "        const docLink = document.createElement('div');\n",
              "        docLink.innerHTML = docLinkHtml;\n",
              "        element.appendChild(docLink);\n",
              "      }\n",
              "    </script>\n",
              "  </div>\n",
              "\n",
              "\n",
              "<div id=\"df-74a8d453-4e67-4864-9a60-c4bdd28701ff\">\n",
              "  <button class=\"colab-df-quickchart\" onclick=\"quickchart('df-74a8d453-4e67-4864-9a60-c4bdd28701ff')\"\n",
              "            title=\"Suggest charts\"\n",
              "            style=\"display:none;\">\n",
              "\n",
              "<svg xmlns=\"http://www.w3.org/2000/svg\" height=\"24px\"viewBox=\"0 0 24 24\"\n",
              "     width=\"24px\">\n",
              "    <g>\n",
              "        <path d=\"M19 3H5c-1.1 0-2 .9-2 2v14c0 1.1.9 2 2 2h14c1.1 0 2-.9 2-2V5c0-1.1-.9-2-2-2zM9 17H7v-7h2v7zm4 0h-2V7h2v10zm4 0h-2v-4h2v4z\"/>\n",
              "    </g>\n",
              "</svg>\n",
              "  </button>\n",
              "\n",
              "<style>\n",
              "  .colab-df-quickchart {\n",
              "      --bg-color: #E8F0FE;\n",
              "      --fill-color: #1967D2;\n",
              "      --hover-bg-color: #E2EBFA;\n",
              "      --hover-fill-color: #174EA6;\n",
              "      --disabled-fill-color: #AAA;\n",
              "      --disabled-bg-color: #DDD;\n",
              "  }\n",
              "\n",
              "  [theme=dark] .colab-df-quickchart {\n",
              "      --bg-color: #3B4455;\n",
              "      --fill-color: #D2E3FC;\n",
              "      --hover-bg-color: #434B5C;\n",
              "      --hover-fill-color: #FFFFFF;\n",
              "      --disabled-bg-color: #3B4455;\n",
              "      --disabled-fill-color: #666;\n",
              "  }\n",
              "\n",
              "  .colab-df-quickchart {\n",
              "    background-color: var(--bg-color);\n",
              "    border: none;\n",
              "    border-radius: 50%;\n",
              "    cursor: pointer;\n",
              "    display: none;\n",
              "    fill: var(--fill-color);\n",
              "    height: 32px;\n",
              "    padding: 0;\n",
              "    width: 32px;\n",
              "  }\n",
              "\n",
              "  .colab-df-quickchart:hover {\n",
              "    background-color: var(--hover-bg-color);\n",
              "    box-shadow: 0 1px 2px rgba(60, 64, 67, 0.3), 0 1px 3px 1px rgba(60, 64, 67, 0.15);\n",
              "    fill: var(--button-hover-fill-color);\n",
              "  }\n",
              "\n",
              "  .colab-df-quickchart-complete:disabled,\n",
              "  .colab-df-quickchart-complete:disabled:hover {\n",
              "    background-color: var(--disabled-bg-color);\n",
              "    fill: var(--disabled-fill-color);\n",
              "    box-shadow: none;\n",
              "  }\n",
              "\n",
              "  .colab-df-spinner {\n",
              "    border: 2px solid var(--fill-color);\n",
              "    border-color: transparent;\n",
              "    border-bottom-color: var(--fill-color);\n",
              "    animation:\n",
              "      spin 1s steps(1) infinite;\n",
              "  }\n",
              "\n",
              "  @keyframes spin {\n",
              "    0% {\n",
              "      border-color: transparent;\n",
              "      border-bottom-color: var(--fill-color);\n",
              "      border-left-color: var(--fill-color);\n",
              "    }\n",
              "    20% {\n",
              "      border-color: transparent;\n",
              "      border-left-color: var(--fill-color);\n",
              "      border-top-color: var(--fill-color);\n",
              "    }\n",
              "    30% {\n",
              "      border-color: transparent;\n",
              "      border-left-color: var(--fill-color);\n",
              "      border-top-color: var(--fill-color);\n",
              "      border-right-color: var(--fill-color);\n",
              "    }\n",
              "    40% {\n",
              "      border-color: transparent;\n",
              "      border-right-color: var(--fill-color);\n",
              "      border-top-color: var(--fill-color);\n",
              "    }\n",
              "    60% {\n",
              "      border-color: transparent;\n",
              "      border-right-color: var(--fill-color);\n",
              "    }\n",
              "    80% {\n",
              "      border-color: transparent;\n",
              "      border-right-color: var(--fill-color);\n",
              "      border-bottom-color: var(--fill-color);\n",
              "    }\n",
              "    90% {\n",
              "      border-color: transparent;\n",
              "      border-bottom-color: var(--fill-color);\n",
              "    }\n",
              "  }\n",
              "</style>\n",
              "\n",
              "  <script>\n",
              "    async function quickchart(key) {\n",
              "      const quickchartButtonEl =\n",
              "        document.querySelector('#' + key + ' button');\n",
              "      quickchartButtonEl.disabled = true;  // To prevent multiple clicks.\n",
              "      quickchartButtonEl.classList.add('colab-df-spinner');\n",
              "      try {\n",
              "        const charts = await google.colab.kernel.invokeFunction(\n",
              "            'suggestCharts', [key], {});\n",
              "      } catch (error) {\n",
              "        console.error('Error during call to suggestCharts:', error);\n",
              "      }\n",
              "      quickchartButtonEl.classList.remove('colab-df-spinner');\n",
              "      quickchartButtonEl.classList.add('colab-df-quickchart-complete');\n",
              "    }\n",
              "    (() => {\n",
              "      let quickchartButtonEl =\n",
              "        document.querySelector('#df-74a8d453-4e67-4864-9a60-c4bdd28701ff button');\n",
              "      quickchartButtonEl.style.display =\n",
              "        google.colab.kernel.accessAllowed ? 'block' : 'none';\n",
              "    })();\n",
              "  </script>\n",
              "</div>\n",
              "\n",
              "    </div>\n",
              "  </div>\n"
            ],
            "application/vnd.google.colaboratory.intrinsic+json": {
              "type": "dataframe",
              "variable_name": "df"
            }
          },
          "metadata": {},
          "execution_count": 24
        }
      ],
      "source": [
        "df.head(10)"
      ]
    },
    {
      "cell_type": "markdown",
      "metadata": {
        "id": "_xYpH-sAJrFu"
      },
      "source": [
        "## **5. Data preparation**"
      ]
    },
    {
      "cell_type": "code",
      "execution_count": null,
      "metadata": {
        "colab": {
          "base_uri": "https://localhost:8080/"
        },
        "id": "Lf8ufHH5JrFu",
        "outputId": "a56f5e3d-c5b4-4800-cafe-a58bc6ec0728"
      },
      "outputs": [
        {
          "name": "stdout",
          "output_type": "stream",
          "text": [
            "                _index      _type      _id  _score   _source.tags  \\\n",
            "0  complaint-public-v2  complaint  3211475     0.0           None   \n",
            "1  complaint-public-v2  complaint  3229299     0.0  Servicemember   \n",
            "2  complaint-public-v2  complaint  3199379     0.0           None   \n",
            "3  complaint-public-v2  complaint  2673060     0.0           None   \n",
            "4  complaint-public-v2  complaint  3203545     0.0           None   \n",
            "\n",
            "  _source.zip_code _source.complaint_id                       _source.issue  \\\n",
            "0            90301              3211475   Attempts to collect debt not owed   \n",
            "1            319XX              3229299     Written notification about debt   \n",
            "2            77069              3199379  Other features, terms, or problems   \n",
            "3            48066              2673060      Trouble during payment process   \n",
            "4            10473              3203545                    Fees or interest   \n",
            "\n",
            "       _source.date_received _source.state  ... _source.company_response  \\\n",
            "0  2019-04-13T12:00:00-05:00            CA  ...  Closed with explanation   \n",
            "1  2019-05-01T12:00:00-05:00            GA  ...  Closed with explanation   \n",
            "2  2019-04-02T12:00:00-05:00            TX  ...  Closed with explanation   \n",
            "3  2017-09-13T12:00:00-05:00            MI  ...  Closed with explanation   \n",
            "4  2019-04-05T12:00:00-05:00            NY  ...  Closed with explanation   \n",
            "\n",
            "        _source.company _source.submitted_via _source.date_sent_to_company  \\\n",
            "0  JPMORGAN CHASE & CO.                   Web    2019-04-13T12:00:00-05:00   \n",
            "1  JPMORGAN CHASE & CO.                   Web    2019-05-01T12:00:00-05:00   \n",
            "2  JPMORGAN CHASE & CO.                   Web    2019-04-02T12:00:00-05:00   \n",
            "3  JPMORGAN CHASE & CO.                   Web    2017-09-14T12:00:00-05:00   \n",
            "4  JPMORGAN CHASE & CO.              Referral    2019-04-05T12:00:00-05:00   \n",
            "\n",
            "  _source.company_public_response                         _source.sub_product  \\\n",
            "0                            None                            Credit card debt   \n",
            "1                            None                            Credit card debt   \n",
            "2                            None  General-purpose credit card or charge card   \n",
            "3                            None                  Conventional home mortgage   \n",
            "4                            None  General-purpose credit card or charge card   \n",
            "\n",
            "  _source.timely                    _source.complaint_what_happened  \\\n",
            "0            Yes                                                      \n",
            "1            Yes  Good morning my name is XXXX XXXX and I apprec...   \n",
            "2            Yes  I upgraded my XXXX XXXX card in XX/XX/2018 and...   \n",
            "3            Yes                                                      \n",
            "4            Yes                                                      \n",
            "\n",
            "                                  _source.sub_issue  \\\n",
            "0                                 Debt is not yours   \n",
            "1  Didn't receive enough information to verify debt   \n",
            "2             Problem with rewards from credit card   \n",
            "3                                              None   \n",
            "4                         Charged too much interest   \n",
            "\n",
            "  _source.consumer_consent_provided  \n",
            "0              Consent not provided  \n",
            "1                  Consent provided  \n",
            "2                  Consent provided  \n",
            "3              Consent not provided  \n",
            "4                               N/A  \n",
            "\n",
            "[5 rows x 22 columns]\n"
          ]
        }
      ],
      "source": [
        "# Inspect the dataframe to understand the given data.\n",
        "print(df.head(5))"
      ]
    },
    {
      "cell_type": "code",
      "execution_count": null,
      "metadata": {
        "colab": {
          "base_uri": "https://localhost:8080/"
        },
        "id": "_FItQBedBBjs",
        "outputId": "94fd2aba-e11c-4db1-8ab3-d265ace8a8ed"
      },
      "outputs": [
        {
          "output_type": "execute_result",
          "data": {
            "text/plain": [
              "(78313, 22)"
            ]
          },
          "metadata": {},
          "execution_count": 25
        }
      ],
      "source": [
        "df.shape"
      ]
    },
    {
      "cell_type": "markdown",
      "source": [
        "1.\t<class 'pandas.core.frame.DataFrame'>: Indica que el objeto es un DataFrame de pandas.\n",
        "2.\tRangeIndex: 78313 entries, 0 to 78312: Hay 78,313 filas (entradas) en el DataFrame, numeradas del 0 al 78,312.\n",
        "3.\tData columns (total 22 columns): El DataFrame tiene un total de 22 columnas.\n",
        "4.\tColumn: Esta es la lista de las columnas en el DataFrame, junto con información sobre cuántos valores no nulos hay en cada columna y el tipo de dato de cada columna.\n",
        "o\tNon-Null Count: Muestra cuántos valores no nulos hay en cada columna. Por ejemplo, en la columna _source.tags, solo hay 10,900 valores no nulos, lo que significa que hay muchos valores faltantes.\n",
        "o\tDtype: Indica el tipo de dato de cada columna. En este caso, la mayoría son de tipo object (que generalmente representa texto), y hay una columna de tipo float64 (que representa números decimales).\n",
        "5.\tmemory usage: 13.1+ MB: Indica que el DataFrame utiliza aproximadamente 13.1 megabytes de memoria.\n",
        "Si necesitas más detalles sobre alguna parte específica del DataFrame o cómo trabajar con él, ¡dímelo!\n"
      ],
      "metadata": {
        "id": "9Z36K6_FQ91Q"
      }
    },
    {
      "cell_type": "code",
      "execution_count": null,
      "metadata": {
        "colab": {
          "base_uri": "https://localhost:8080/"
        },
        "id": "O5rgYhuMBONb",
        "outputId": "3e7fe94a-edf8-41ee-bc7f-63f1bd2c3e11"
      },
      "outputs": [
        {
          "name": "stdout",
          "output_type": "stream",
          "text": [
            "<class 'pandas.core.frame.DataFrame'>\n",
            "RangeIndex: 78313 entries, 0 to 78312\n",
            "Data columns (total 22 columns):\n",
            " #   Column                             Non-Null Count  Dtype  \n",
            "---  ------                             --------------  -----  \n",
            " 0   _index                             78313 non-null  object \n",
            " 1   _type                              78313 non-null  object \n",
            " 2   _id                                78313 non-null  object \n",
            " 3   _score                             78313 non-null  float64\n",
            " 4   _source.tags                       10900 non-null  object \n",
            " 5   _source.zip_code                   71556 non-null  object \n",
            " 6   _source.complaint_id               78313 non-null  object \n",
            " 7   _source.issue                      78313 non-null  object \n",
            " 8   _source.date_received              78313 non-null  object \n",
            " 9   _source.state                      76322 non-null  object \n",
            " 10  _source.consumer_disputed          78313 non-null  object \n",
            " 11  _source.product                    78313 non-null  object \n",
            " 12  _source.company_response           78313 non-null  object \n",
            " 13  _source.company                    78313 non-null  object \n",
            " 14  _source.submitted_via              78313 non-null  object \n",
            " 15  _source.date_sent_to_company       78313 non-null  object \n",
            " 16  _source.company_public_response    4 non-null      object \n",
            " 17  _source.sub_product                67742 non-null  object \n",
            " 18  _source.timely                     78313 non-null  object \n",
            " 19  _source.complaint_what_happened    78313 non-null  object \n",
            " 20  _source.sub_issue                  32016 non-null  object \n",
            " 21  _source.consumer_consent_provided  77305 non-null  object \n",
            "dtypes: float64(1), object(21)\n",
            "memory usage: 13.1+ MB\n",
            "None\n"
          ]
        }
      ],
      "source": [
        "print(df.info())"
      ]
    },
    {
      "cell_type": "code",
      "execution_count": null,
      "metadata": {
        "colab": {
          "base_uri": "https://localhost:8080/"
        },
        "id": "Dwcty-wmJrFw",
        "outputId": "06250dc4-e67d-4bba-fbcf-582f3dd70614"
      },
      "outputs": [
        {
          "name": "stdout",
          "output_type": "stream",
          "text": [
            "Index(['_index', '_type', '_id', '_score', '_source.tags', '_source.zip_code',\n",
            "       '_source.complaint_id', '_source.issue', '_source.date_received',\n",
            "       '_source.state', '_source.consumer_disputed', '_source.product',\n",
            "       '_source.company_response', '_source.company', '_source.submitted_via',\n",
            "       '_source.date_sent_to_company', '_source.company_public_response',\n",
            "       '_source.sub_product', '_source.timely',\n",
            "       '_source.complaint_what_happened', '_source.sub_issue',\n",
            "       '_source.consumer_consent_provided'],\n",
            "      dtype='object')\n"
          ]
        }
      ],
      "source": [
        "#print the column names\n",
        "print(df.columns)"
      ]
    },
    {
      "cell_type": "code",
      "execution_count": null,
      "metadata": {
        "id": "FYCtKXD1JrFw"
      },
      "outputs": [],
      "source": [
        "#Assign new column names\n",
        "df.columns = df.columns.str.replace('_source.', '', regex=False)\n",
        "# Reemplazamos el nombre de la columna\n",
        "df.rename(columns={'complaint_what_happened': 'complaints'}, inplace=True)"
      ]
    },
    {
      "cell_type": "code",
      "execution_count": null,
      "metadata": {
        "colab": {
          "base_uri": "https://localhost:8080/"
        },
        "id": "4UbfugzVE0P4",
        "outputId": "17588f60-c423-42a9-869b-e0d4e3f4c1ad"
      },
      "outputs": [
        {
          "output_type": "stream",
          "name": "stdout",
          "text": [
            "Index(['_index', '_type', '_id', '_score', 'tags', 'zip_code', 'complaint_id',\n",
            "       'issue', 'date_received', 'state', 'consumer_disputed', 'product',\n",
            "       'company_response', 'company', 'submitted_via', 'date_sent_to_company',\n",
            "       'company_public_response', 'sub_product', 'timely', 'complaints',\n",
            "       'sub_issue', 'consumer_consent_provided'],\n",
            "      dtype='object')\n"
          ]
        }
      ],
      "source": [
        "print(df.columns)"
      ]
    },
    {
      "cell_type": "markdown",
      "source": [
        "\n",
        "df.columns: Esto accede a los nombres de las columnas del DataFrame df.\n",
        ".str.replace('_source.', '', regex=False): Este método verifica cada nombre de columna y sustituye la subcadena '_source.' por una cadena vacía (''), es decir, elimina esta parte del nombre.\n",
        "regex=False: Esto indica que la búsqueda y reemplazo se debe hacer como una coincidencia exacta de la cadena, no usando expresiones regulares.\n",
        "Asignación: El resultado de esta operación se vuelve a asignar a df.columns, actualizando así los nombres de las columnas en el DataFrame.\n",
        "Por ejemplo, si un nombre de columna era _source.issue, después de esta operación, se convertirá en issue.\n",
        "\n",
        "2. Reemplazar el nombre de una columna específica\n",
        "python\n",
        "df.rename(columns={'complaint_what_happened': 'complaints'}, inplace=True)  \n",
        "df.rename(columns={'complaint_what_happened': 'complaints'}, inplace=True): Este método se usa para renombrar columnas específicas del DataFrame.\n",
        "columns={'complaint_what_happened': 'complaints'}: Aquí se está especificando que quieres cambiar el nombre de la columna complaint_what_happened a complaints.\n",
        "inplace=True: Esto significa que la operación se realiza directamente sobre el DataFrame df, sin necesidad de crear una copia. Si inplace fuera False, deberías guardar el resultado en una nueva variable.\n",
        "Resumen\n",
        "En resumen, este código:\n",
        "\n",
        "Elimina la parte '_source.' de cada nombre de columna en el DataFrame df.\n",
        "Cambia el nombre de la columna complaint_what_happened a complaints."
      ],
      "metadata": {
        "id": "lgX6TtE3VXVB"
      }
    },
    {
      "cell_type": "code",
      "source": [],
      "metadata": {
        "id": "Hodd4TnKVWiB"
      },
      "execution_count": null,
      "outputs": []
    },
    {
      "cell_type": "code",
      "execution_count": null,
      "metadata": {
        "id": "grQUPFL5JrFx"
      },
      "outputs": [],
      "source": [
        "#Assign nan in place of blanks in the complaints column\n",
        "df['complaints'] = df['complaints'].replace('', np.nan)"
      ]
    },
    {
      "cell_type": "code",
      "execution_count": null,
      "metadata": {
        "id": "Jfxd8VSmJrFy"
      },
      "outputs": [],
      "source": [
        "#Remove all rows where complaints column is nan\n",
        "df = df.dropna(subset=['complaints'])"
      ]
    },
    {
      "cell_type": "code",
      "execution_count": null,
      "metadata": {
        "colab": {
          "base_uri": "https://localhost:8080/"
        },
        "id": "XiHuh-JcoLZw",
        "outputId": "2e32636b-5f2e-43fa-f872-419624ee4d0b"
      },
      "outputs": [
        {
          "output_type": "execute_result",
          "data": {
            "text/plain": [
              "(21072, 22)"
            ]
          },
          "metadata": {},
          "execution_count": 10
        }
      ],
      "source": [
        "df.shape"
      ]
    },
    {
      "cell_type": "markdown",
      "metadata": {
        "id": "L944HZpsJrFy"
      },
      "source": [
        "## Prepare the text for topic modeling\n",
        "\n",
        "Una vez que haya eliminado todas las quejas en blanco, debe:\n",
        "\n",
        "* Make the text lowercase\n",
        "* Remove text in square brackets\n",
        "* Remove punctuation\n",
        "* Remove words containing numbers\n",
        "\n",
        "Una vez que haya realizado estas operaciones de limpieza, debe realizar lo siguiente:\n",
        "\n",
        "* Lemmatize the texts\n",
        "* Extract the POS tags of the lemmatized text and remove all the words which have tags other than NN[tag == \"NN\"].\n"
      ]
    },
    {
      "cell_type": "code",
      "execution_count": null,
      "metadata": {
        "id": "dAel9cY6uroJ"
      },
      "outputs": [],
      "source": [
        "# Funcion para limpieza y preproceso del texto\n",
        "# Function to preprocess text\n",
        "def preprocess_text(text):\n",
        "    # Convertir a minúsculas\n",
        "    text = text.lower()\n",
        "\n",
        "    # Eliminar texto entre corchetes\n",
        "    text = re.sub(r'\\[.*?\\]', '', text)\n",
        "\n",
        "    # Eliminar palabras que contengan números\n",
        "    text = re.sub(r'\\b\\w*\\d\\w*\\b', '', text)\n",
        "\n",
        "    # Eliminar texto que contenga \"xx\", \"xxx\" o \"xxxx\"\n",
        "    text = re.sub(r'\\b\\w*xx\\w*\\b|\\b\\w*xxx\\w*\\b|\\b\\w*xxxx\\w*\\b', '', text)\n",
        "\n",
        "    # Eliminar puntuación\n",
        "    text = re.sub(r'[^\\w\\s]', '', text)\n",
        "\n",
        "    # Eliminar espacios en blanco adicionales\n",
        "    text = re.sub(r'\\s+', ' ', text).strip()\n",
        "\n",
        "    return text\n",
        "\n",
        "df['complaints'] = df['complaints'].apply(preprocess_text)"
      ]
    },
    {
      "cell_type": "markdown",
      "source": [
        "Interpretación:\n",
        "Primero, limpias el texto eliminando quejas en blanco, convirtiéndolo a minúsculas, quitando texto en corchetes, eliminando puntuación y palabras con números.\n",
        "Luego, aplicas lematización y extraes las etiquetas de partes del habla, manteniendo solo las palabras que son sustantivos"
      ],
      "metadata": {
        "id": "VELCk9EpW6sH"
      }
    },
    {
      "cell_type": "code",
      "execution_count": null,
      "metadata": {
        "colab": {
          "base_uri": "https://localhost:8080/"
        },
        "id": "f5gj6eBov-5Z",
        "outputId": "0aa4b36a-55fa-406a-b716-9e34a9a8a6f3"
      },
      "outputs": [
        {
          "output_type": "stream",
          "name": "stdout",
          "text": [
            "1     good morning my name is and i appreciate it if...\n",
            "2     i upgraded my card in and was told by the agen...\n",
            "10    chase card was reported on however fraudulent ...\n",
            "11    on while trying to book a ticket i came across...\n",
            "14    my grand son give me check for i deposit it in...\n",
            "15                        can you please remove inquiry\n",
            "17    with out notice jp morgan chase restricted my ...\n",
            "20    during the summer months i experience a declin...\n",
            "21    on i made a payment to an online retailer usin...\n",
            "23    i have a chase credit card which is incorrectl...\n",
            "Name: complaints, dtype: object\n"
          ]
        }
      ],
      "source": [
        "print(df['complaints'].head(10))"
      ]
    },
    {
      "cell_type": "code",
      "execution_count": null,
      "metadata": {
        "id": "1utChBG8zUw5"
      },
      "outputs": [],
      "source": [
        "df_clean = df[['complaints']]\n",
        "df_clean['complaint_clean'] = df_clean['complaints']"
      ]
    },
    {
      "cell_type": "code",
      "execution_count": null,
      "metadata": {
        "id": "zgOu8t8HJrFz"
      },
      "outputs": [],
      "source": [
        "# Write your function to Lemmatize the texts\n",
        "# Cargar el modelo\n",
        "nlp = spacy.load('en_core_web_sm')\n",
        "\n",
        "# Función para lematizar el texto\n",
        "def lematizar_texto(texto):\n",
        "    doc = nlp(texto)\n",
        "    # Devolver los lemas de las palabras, combinados como una cadena\n",
        "    return \" \".join([token.lemma_ for token in doc])\n",
        "\n",
        "# Aplicar la lematización a la columna 'complaint_what_happened'\n",
        "df['complaint_lemmatized'] = df['complaints'].apply(lematizar_texto)"
      ]
    },
    {
      "cell_type": "markdown",
      "source": [
        "Cargar el modelo de spaCy:\n",
        "\n",
        "Se carga un modelo de lenguaje llamado en_core_web_sm de spaCy, que es un modelo preentrenado para el idioma inglés. Este modelo incluye herramientas para analizar y procesar texto, como el análisis sintáctico y la lematización, que es el proceso de reducir las palabras a su forma base.\n",
        "Definir una función:\n",
        "\n",
        "Se crea una función que se encargará de lematizar el texto. Esta función toma un texto como entrada, representado como un string.\n",
        "Procesar el texto de entrada:\n",
        "\n",
        "Dentro de la función, el texto se procesa utilizando el modelo de spaCy. Este procesamiento tiene como resultado una estructura de datos que contiene información sobre cada palabra del texto, permitiendo acceder a diversos atributos lingüísticos de cada palabra (como su forma base).\n",
        "Obtener lemas:\n",
        "\n",
        "Se extraen los lemas de cada palabra procesada. El lema es la forma básica de una palabra. Por ejemplo, los lemas de \"caminando\" y \"caminé\" serían \"caminar\". Todos los lemas se agrupan para formar una nueva cadena de texto.\n",
        "Aplicar la función a datos en un DataFrame:\n",
        "\n",
        "Finalmente, se utiliza la función de lematización para procesar cada queja contenida en una columna de un DataFrame. El resultado de este procesamiento se almacena en una nueva columna que contendrá las versiones lematizadas de las quejas originales."
      ],
      "metadata": {
        "id": "p4O0S3FfYodt"
      }
    },
    {
      "cell_type": "code",
      "execution_count": null,
      "metadata": {
        "id": "uXnN7aa_JrF0"
      },
      "outputs": [],
      "source": [
        "# Create a dataframe('df_clean') that will have only the complaints and the lemmatized complaints\n",
        "df_clean[['complaints', 'complaint_lemmatized']] = df[['complaints', 'complaint_lemmatized']]\n",
        "df_clean['complaint_clean'] = df_clean['complaint_lemmatized']"
      ]
    },
    {
      "cell_type": "markdown",
      "source": [
        "Interpretación:\n",
        "\n",
        "En resumen, este fragmento de código está realizando las siguientes acciones:\n",
        "\n",
        "Primera línea: Copia las columnas complaints y complaint_lemmatized del DataFrame original df al nuevo DataFrame df_clean.\n",
        "Segunda línea: Crea una nueva columna en df_clean que es una copia directa de la columna complaint_lemmatized.\n",
        "Esto permite que df_clean tenga tanto las quejas originales como las lematizadas, y también añade una nueva columna para facilitar el acceso o la referencia a las quejas lematizadas bajo un nombre diferente. Si necesitas más aclaraciones o información adicional, ¡házmelo saber!"
      ],
      "metadata": {
        "id": "M5SC556lZYAm"
      }
    },
    {
      "cell_type": "code",
      "execution_count": null,
      "metadata": {
        "colab": {
          "base_uri": "https://localhost:8080/",
          "height": 424
        },
        "id": "nOiDVvEIJrF0",
        "outputId": "58d4f8f1-9969-406e-caa5-4aace87a3457"
      },
      "outputs": [
        {
          "data": {
            "application/vnd.google.colaboratory.intrinsic+json": {
              "summary": "{\n  \"name\": \"df_clean\",\n  \"rows\": 21072,\n  \"fields\": [\n    {\n      \"column\": \"complaints\",\n      \"properties\": {\n        \"dtype\": \"string\",\n        \"num_unique_values\": 20840,\n        \"samples\": [\n          \"back in i entered demographic information to an online chase bank that was never responded to i never received an account number savings account number or debit card so because their were no chase branches in i went to to visit a branch unfortunately it wasnt accessible to pedestrians i then saw the same offer i went to a branch opened an account when it was time for the promotional offer if a new chase customer you get for opening a checking and for opening a savings account when it was time to pay they said i had an account already the promotion is only for new chase customers\",\n          \"chase received the following notice on to chase message center co decision to lower credit line on account ending remains contested on fairness and abuse ofdiscretion your decision to lower credit line on account ending remains contested on fairness and abuse ofdiscretion your decision to close credit line on account ending remains contested on fairness and abuse ofdiscretion chase cardservice based on the action below is inviolation of or certain provisions of the followinglaws truth in lending act tila fair credit billing act fcba fair credit reporting act fcra fair debt collection practice act fdcpa the credit card act cca equal credit opportunity act ecoa and including butnot limited to electronic funds transfer act efta while some courts and administrative agencies havedetermined fairness to mean hiking up an interestrate on an existing balance or allowing a customer togo overlimit and then imposing an overlimit fee currentlaw supports a significant change by a creditor is to beaccompanied by notice fortyfive days prior to thechange in this case chase lowered account ending without notice and proper cause violates the law this account having several months in the customerscredit file significantly changed the customer s ficocredit score and perception creditworthiness amongst othercreditors these changes subject chase cardservices andaffiliates to liability for damages including thenegative fico impact to customer because your action isneither supported by sufficient reasoning nor byapplicable federal law in this case chase closed account ending without notice and proper cause violates the law this account having several months in the customerscredit file significantly changed the customer s ficocredit score and perception creditworthiness amongst othercreditors these changes subject chase cardservices andaffiliates to liability for damages including thenegative fico impact to customer because your action isneither supported by sufficient reasoning nor byapplicable federal law in this case chase cardservice lowered account ending without notice and proper cause violates the law this account having several months in the customerscredit file significantly changed the customer s ficocredit score and perception creditworthiness amongst othercreditors these changes subject chase cardservices andaffiliates to liability for damages including thenegative fico impact to customer because your action isneither supported by sufficient reasoning nor byapplicable federal law customer notes he has always paid this and all accountsontime without delinquency the generic reasoning inyour prior letter correspondence is vague overbroad lacks good faith and does not sufficiently or timelynotify the customer of your action pursuant to applicablelaw thus demand is for apr reduction to percent introand reinstatement based on your generic reasoning to ensure reduced risk of credit exposure and further your action on all accounts impacts acustomer that resides in a lowtomoderate incomecommunity in president obamastownship if your action is found to be inequitable basedon zipcode or other demographic information that mayinfluence your companies credit decisions you may besubject to punitive fines and other penalties on the basisof redlining violations of ecoa and otherantidiscriminatory laws we respectfully request that you reconsider your decision\",\n          \"i am a victim of predatory lending by chase bank i was preyed upon by a chase loan officer following an accident and he talked me into consolidating my existing mortgage line of credit and other debts into a ridiculously unaffordable and impractical year interestonly mortgage that would then become a year variable rate mortgage in effect i would have ended up paying off my house three times i realized this within a month and contacted chase asking to convert the loan to a year fixed loan eliminating the years interestonly portion which would have saved me many many thousands of dollars they refused to work with me in any way and were completely unmoved by my medical condition and inability to pay off this loan i know for a fact that the loan officer falsified documents to secure approval of this nodoc loan ultimately the sheriff showed up and gave me two weeks to vacate there were no legal papers served no notifications or warnings of any kind new york is a judicial foreclosure state meaning that any foreclosure must be approved by a judge there were no hearings no attorneys no court appearances and therefore new york state law was not followed in effect chase stole my home from me without due process i have contacted them numerous times and quite mysteriously all of the documents supporting my claim are unavailable is no longer employed by chase and they are unwilling to discuss a settlement of any kind i believe i am legally entitled to some form of restitution for their unlawful actions i have many documents to support my claim\"\n        ],\n        \"semantic_type\": \"\",\n        \"description\": \"\"\n      }\n    },\n    {\n      \"column\": \"complaint_clean\",\n      \"properties\": {\n        \"dtype\": \"string\",\n        \"num_unique_values\": 20834,\n        \"samples\": [\n          \"be show inquiry on my credit report that I do not authorize and I have contact about correct and remove these item\",\n          \"I receive a message from company who say it be attempt to collect a debt I owe I call the number back who say it be a non working number for chase this same company leave a message on other phone number that have never be associate with any account I have it be disclose on answer machinesvoicemail that they be attempt to collect a debt from I\",\n          \"one of my check be be steal from the recipient and somebody else cash the check of us dollar in I contact chase bank over time and send back the form they requite time and they claim they never receive it and ask I to send again\"\n        ],\n        \"semantic_type\": \"\",\n        \"description\": \"\"\n      }\n    },\n    {\n      \"column\": \"complaint_lemmatized\",\n      \"properties\": {\n        \"dtype\": \"string\",\n        \"num_unique_values\": 20834,\n        \"samples\": [\n          \"be show inquiry on my credit report that I do not authorize and I have contact about correct and remove these item\",\n          \"I receive a message from company who say it be attempt to collect a debt I owe I call the number back who say it be a non working number for chase this same company leave a message on other phone number that have never be associate with any account I have it be disclose on answer machinesvoicemail that they be attempt to collect a debt from I\",\n          \"one of my check be be steal from the recipient and somebody else cash the check of us dollar in I contact chase bank over time and send back the form they requite time and they claim they never receive it and ask I to send again\"\n        ],\n        \"semantic_type\": \"\",\n        \"description\": \"\"\n      }\n    }\n  ]\n}",
              "type": "dataframe",
              "variable_name": "df_clean"
            },
            "text/html": [
              "\n",
              "  <div id=\"df-d27304ef-3b7e-48f4-96d4-dcaf9054c594\" class=\"colab-df-container\">\n",
              "    <div>\n",
              "<style scoped>\n",
              "    .dataframe tbody tr th:only-of-type {\n",
              "        vertical-align: middle;\n",
              "    }\n",
              "\n",
              "    .dataframe tbody tr th {\n",
              "        vertical-align: top;\n",
              "    }\n",
              "\n",
              "    .dataframe thead th {\n",
              "        text-align: right;\n",
              "    }\n",
              "</style>\n",
              "<table border=\"1\" class=\"dataframe\">\n",
              "  <thead>\n",
              "    <tr style=\"text-align: right;\">\n",
              "      <th></th>\n",
              "      <th>complaints</th>\n",
              "      <th>complaint_clean</th>\n",
              "      <th>complaint_lemmatized</th>\n",
              "    </tr>\n",
              "  </thead>\n",
              "  <tbody>\n",
              "    <tr>\n",
              "      <th>1</th>\n",
              "      <td>good morning my name is and i appreciate it if...</td>\n",
              "      <td>good morning my name be and I appreciate it if...</td>\n",
              "      <td>good morning my name be and I appreciate it if...</td>\n",
              "    </tr>\n",
              "    <tr>\n",
              "      <th>2</th>\n",
              "      <td>i upgraded my card in and was told by the agen...</td>\n",
              "      <td>I upgrade my card in and be tell by the agent ...</td>\n",
              "      <td>I upgrade my card in and be tell by the agent ...</td>\n",
              "    </tr>\n",
              "    <tr>\n",
              "      <th>10</th>\n",
              "      <td>chase card was reported on however fraudulent ...</td>\n",
              "      <td>chase card be report on however fraudulent app...</td>\n",
              "      <td>chase card be report on however fraudulent app...</td>\n",
              "    </tr>\n",
              "    <tr>\n",
              "      <th>11</th>\n",
              "      <td>on while trying to book a ticket i came across...</td>\n",
              "      <td>on while try to book a ticket I come across an...</td>\n",
              "      <td>on while try to book a ticket I come across an...</td>\n",
              "    </tr>\n",
              "    <tr>\n",
              "      <th>14</th>\n",
              "      <td>my grand son give me check for i deposit it in...</td>\n",
              "      <td>my grand son give I check for I deposit it int...</td>\n",
              "      <td>my grand son give I check for I deposit it int...</td>\n",
              "    </tr>\n",
              "    <tr>\n",
              "      <th>...</th>\n",
              "      <td>...</td>\n",
              "      <td>...</td>\n",
              "      <td>...</td>\n",
              "    </tr>\n",
              "    <tr>\n",
              "      <th>78303</th>\n",
              "      <td>after being a chase card customer for well ove...</td>\n",
              "      <td>after be a chase card customer for well over a...</td>\n",
              "      <td>after be a chase card customer for well over a...</td>\n",
              "    </tr>\n",
              "    <tr>\n",
              "      <th>78309</th>\n",
              "      <td>on wednesday i called chas my visa credit card...</td>\n",
              "      <td>on wednesday I call chas my visa credit card p...</td>\n",
              "      <td>on wednesday I call chas my visa credit card p...</td>\n",
              "    </tr>\n",
              "    <tr>\n",
              "      <th>78310</th>\n",
              "      <td>i am not familiar with pay and did not underst...</td>\n",
              "      <td>I be not familiar with pay and do not understa...</td>\n",
              "      <td>I be not familiar with pay and do not understa...</td>\n",
              "    </tr>\n",
              "    <tr>\n",
              "      <th>78311</th>\n",
              "      <td>i have had flawless credit for yrs ive had cha...</td>\n",
              "      <td>I have have flawless credit for yrs I ve have ...</td>\n",
              "      <td>I have have flawless credit for yrs I ve have ...</td>\n",
              "    </tr>\n",
              "    <tr>\n",
              "      <th>78312</th>\n",
              "      <td>roughly years ago i closed out my accounts wit...</td>\n",
              "      <td>roughly year ago I close out my account with j...</td>\n",
              "      <td>roughly year ago I close out my account with j...</td>\n",
              "    </tr>\n",
              "  </tbody>\n",
              "</table>\n",
              "<p>21072 rows × 3 columns</p>\n",
              "</div>\n",
              "    <div class=\"colab-df-buttons\">\n",
              "\n",
              "  <div class=\"colab-df-container\">\n",
              "    <button class=\"colab-df-convert\" onclick=\"convertToInteractive('df-d27304ef-3b7e-48f4-96d4-dcaf9054c594')\"\n",
              "            title=\"Convert this dataframe to an interactive table.\"\n",
              "            style=\"display:none;\">\n",
              "\n",
              "  <svg xmlns=\"http://www.w3.org/2000/svg\" height=\"24px\" viewBox=\"0 -960 960 960\">\n",
              "    <path d=\"M120-120v-720h720v720H120Zm60-500h600v-160H180v160Zm220 220h160v-160H400v160Zm0 220h160v-160H400v160ZM180-400h160v-160H180v160Zm440 0h160v-160H620v160ZM180-180h160v-160H180v160Zm440 0h160v-160H620v160Z\"/>\n",
              "  </svg>\n",
              "    </button>\n",
              "\n",
              "  <style>\n",
              "    .colab-df-container {\n",
              "      display:flex;\n",
              "      gap: 12px;\n",
              "    }\n",
              "\n",
              "    .colab-df-convert {\n",
              "      background-color: #E8F0FE;\n",
              "      border: none;\n",
              "      border-radius: 50%;\n",
              "      cursor: pointer;\n",
              "      display: none;\n",
              "      fill: #1967D2;\n",
              "      height: 32px;\n",
              "      padding: 0 0 0 0;\n",
              "      width: 32px;\n",
              "    }\n",
              "\n",
              "    .colab-df-convert:hover {\n",
              "      background-color: #E2EBFA;\n",
              "      box-shadow: 0px 1px 2px rgba(60, 64, 67, 0.3), 0px 1px 3px 1px rgba(60, 64, 67, 0.15);\n",
              "      fill: #174EA6;\n",
              "    }\n",
              "\n",
              "    .colab-df-buttons div {\n",
              "      margin-bottom: 4px;\n",
              "    }\n",
              "\n",
              "    [theme=dark] .colab-df-convert {\n",
              "      background-color: #3B4455;\n",
              "      fill: #D2E3FC;\n",
              "    }\n",
              "\n",
              "    [theme=dark] .colab-df-convert:hover {\n",
              "      background-color: #434B5C;\n",
              "      box-shadow: 0px 1px 3px 1px rgba(0, 0, 0, 0.15);\n",
              "      filter: drop-shadow(0px 1px 2px rgba(0, 0, 0, 0.3));\n",
              "      fill: #FFFFFF;\n",
              "    }\n",
              "  </style>\n",
              "\n",
              "    <script>\n",
              "      const buttonEl =\n",
              "        document.querySelector('#df-d27304ef-3b7e-48f4-96d4-dcaf9054c594 button.colab-df-convert');\n",
              "      buttonEl.style.display =\n",
              "        google.colab.kernel.accessAllowed ? 'block' : 'none';\n",
              "\n",
              "      async function convertToInteractive(key) {\n",
              "        const element = document.querySelector('#df-d27304ef-3b7e-48f4-96d4-dcaf9054c594');\n",
              "        const dataTable =\n",
              "          await google.colab.kernel.invokeFunction('convertToInteractive',\n",
              "                                                    [key], {});\n",
              "        if (!dataTable) return;\n",
              "\n",
              "        const docLinkHtml = 'Like what you see? Visit the ' +\n",
              "          '<a target=\"_blank\" href=https://colab.research.google.com/notebooks/data_table.ipynb>data table notebook</a>'\n",
              "          + ' to learn more about interactive tables.';\n",
              "        element.innerHTML = '';\n",
              "        dataTable['output_type'] = 'display_data';\n",
              "        await google.colab.output.renderOutput(dataTable, element);\n",
              "        const docLink = document.createElement('div');\n",
              "        docLink.innerHTML = docLinkHtml;\n",
              "        element.appendChild(docLink);\n",
              "      }\n",
              "    </script>\n",
              "  </div>\n",
              "\n",
              "\n",
              "<div id=\"df-5959ab18-b4ce-480b-8800-2bc914441626\">\n",
              "  <button class=\"colab-df-quickchart\" onclick=\"quickchart('df-5959ab18-b4ce-480b-8800-2bc914441626')\"\n",
              "            title=\"Suggest charts\"\n",
              "            style=\"display:none;\">\n",
              "\n",
              "<svg xmlns=\"http://www.w3.org/2000/svg\" height=\"24px\"viewBox=\"0 0 24 24\"\n",
              "     width=\"24px\">\n",
              "    <g>\n",
              "        <path d=\"M19 3H5c-1.1 0-2 .9-2 2v14c0 1.1.9 2 2 2h14c1.1 0 2-.9 2-2V5c0-1.1-.9-2-2-2zM9 17H7v-7h2v7zm4 0h-2V7h2v10zm4 0h-2v-4h2v4z\"/>\n",
              "    </g>\n",
              "</svg>\n",
              "  </button>\n",
              "\n",
              "<style>\n",
              "  .colab-df-quickchart {\n",
              "      --bg-color: #E8F0FE;\n",
              "      --fill-color: #1967D2;\n",
              "      --hover-bg-color: #E2EBFA;\n",
              "      --hover-fill-color: #174EA6;\n",
              "      --disabled-fill-color: #AAA;\n",
              "      --disabled-bg-color: #DDD;\n",
              "  }\n",
              "\n",
              "  [theme=dark] .colab-df-quickchart {\n",
              "      --bg-color: #3B4455;\n",
              "      --fill-color: #D2E3FC;\n",
              "      --hover-bg-color: #434B5C;\n",
              "      --hover-fill-color: #FFFFFF;\n",
              "      --disabled-bg-color: #3B4455;\n",
              "      --disabled-fill-color: #666;\n",
              "  }\n",
              "\n",
              "  .colab-df-quickchart {\n",
              "    background-color: var(--bg-color);\n",
              "    border: none;\n",
              "    border-radius: 50%;\n",
              "    cursor: pointer;\n",
              "    display: none;\n",
              "    fill: var(--fill-color);\n",
              "    height: 32px;\n",
              "    padding: 0;\n",
              "    width: 32px;\n",
              "  }\n",
              "\n",
              "  .colab-df-quickchart:hover {\n",
              "    background-color: var(--hover-bg-color);\n",
              "    box-shadow: 0 1px 2px rgba(60, 64, 67, 0.3), 0 1px 3px 1px rgba(60, 64, 67, 0.15);\n",
              "    fill: var(--button-hover-fill-color);\n",
              "  }\n",
              "\n",
              "  .colab-df-quickchart-complete:disabled,\n",
              "  .colab-df-quickchart-complete:disabled:hover {\n",
              "    background-color: var(--disabled-bg-color);\n",
              "    fill: var(--disabled-fill-color);\n",
              "    box-shadow: none;\n",
              "  }\n",
              "\n",
              "  .colab-df-spinner {\n",
              "    border: 2px solid var(--fill-color);\n",
              "    border-color: transparent;\n",
              "    border-bottom-color: var(--fill-color);\n",
              "    animation:\n",
              "      spin 1s steps(1) infinite;\n",
              "  }\n",
              "\n",
              "  @keyframes spin {\n",
              "    0% {\n",
              "      border-color: transparent;\n",
              "      border-bottom-color: var(--fill-color);\n",
              "      border-left-color: var(--fill-color);\n",
              "    }\n",
              "    20% {\n",
              "      border-color: transparent;\n",
              "      border-left-color: var(--fill-color);\n",
              "      border-top-color: var(--fill-color);\n",
              "    }\n",
              "    30% {\n",
              "      border-color: transparent;\n",
              "      border-left-color: var(--fill-color);\n",
              "      border-top-color: var(--fill-color);\n",
              "      border-right-color: var(--fill-color);\n",
              "    }\n",
              "    40% {\n",
              "      border-color: transparent;\n",
              "      border-right-color: var(--fill-color);\n",
              "      border-top-color: var(--fill-color);\n",
              "    }\n",
              "    60% {\n",
              "      border-color: transparent;\n",
              "      border-right-color: var(--fill-color);\n",
              "    }\n",
              "    80% {\n",
              "      border-color: transparent;\n",
              "      border-right-color: var(--fill-color);\n",
              "      border-bottom-color: var(--fill-color);\n",
              "    }\n",
              "    90% {\n",
              "      border-color: transparent;\n",
              "      border-bottom-color: var(--fill-color);\n",
              "    }\n",
              "  }\n",
              "</style>\n",
              "\n",
              "  <script>\n",
              "    async function quickchart(key) {\n",
              "      const quickchartButtonEl =\n",
              "        document.querySelector('#' + key + ' button');\n",
              "      quickchartButtonEl.disabled = true;  // To prevent multiple clicks.\n",
              "      quickchartButtonEl.classList.add('colab-df-spinner');\n",
              "      try {\n",
              "        const charts = await google.colab.kernel.invokeFunction(\n",
              "            'suggestCharts', [key], {});\n",
              "      } catch (error) {\n",
              "        console.error('Error during call to suggestCharts:', error);\n",
              "      }\n",
              "      quickchartButtonEl.classList.remove('colab-df-spinner');\n",
              "      quickchartButtonEl.classList.add('colab-df-quickchart-complete');\n",
              "    }\n",
              "    (() => {\n",
              "      let quickchartButtonEl =\n",
              "        document.querySelector('#df-5959ab18-b4ce-480b-8800-2bc914441626 button');\n",
              "      quickchartButtonEl.style.display =\n",
              "        google.colab.kernel.accessAllowed ? 'block' : 'none';\n",
              "    })();\n",
              "  </script>\n",
              "</div>\n",
              "\n",
              "  <div id=\"id_b63f21ed-d631-4e59-812b-75fad0ea6847\">\n",
              "    <style>\n",
              "      .colab-df-generate {\n",
              "        background-color: #E8F0FE;\n",
              "        border: none;\n",
              "        border-radius: 50%;\n",
              "        cursor: pointer;\n",
              "        display: none;\n",
              "        fill: #1967D2;\n",
              "        height: 32px;\n",
              "        padding: 0 0 0 0;\n",
              "        width: 32px;\n",
              "      }\n",
              "\n",
              "      .colab-df-generate:hover {\n",
              "        background-color: #E2EBFA;\n",
              "        box-shadow: 0px 1px 2px rgba(60, 64, 67, 0.3), 0px 1px 3px 1px rgba(60, 64, 67, 0.15);\n",
              "        fill: #174EA6;\n",
              "      }\n",
              "\n",
              "      [theme=dark] .colab-df-generate {\n",
              "        background-color: #3B4455;\n",
              "        fill: #D2E3FC;\n",
              "      }\n",
              "\n",
              "      [theme=dark] .colab-df-generate:hover {\n",
              "        background-color: #434B5C;\n",
              "        box-shadow: 0px 1px 3px 1px rgba(0, 0, 0, 0.15);\n",
              "        filter: drop-shadow(0px 1px 2px rgba(0, 0, 0, 0.3));\n",
              "        fill: #FFFFFF;\n",
              "      }\n",
              "    </style>\n",
              "    <button class=\"colab-df-generate\" onclick=\"generateWithVariable('df_clean')\"\n",
              "            title=\"Generate code using this dataframe.\"\n",
              "            style=\"display:none;\">\n",
              "\n",
              "  <svg xmlns=\"http://www.w3.org/2000/svg\" height=\"24px\"viewBox=\"0 0 24 24\"\n",
              "       width=\"24px\">\n",
              "    <path d=\"M7,19H8.4L18.45,9,17,7.55,7,17.6ZM5,21V16.75L18.45,3.32a2,2,0,0,1,2.83,0l1.4,1.43a1.91,1.91,0,0,1,.58,1.4,1.91,1.91,0,0,1-.58,1.4L9.25,21ZM18.45,9,17,7.55Zm-12,3A5.31,5.31,0,0,0,4.9,8.1,5.31,5.31,0,0,0,1,6.5,5.31,5.31,0,0,0,4.9,4.9,5.31,5.31,0,0,0,6.5,1,5.31,5.31,0,0,0,8.1,4.9,5.31,5.31,0,0,0,12,6.5,5.46,5.46,0,0,0,6.5,12Z\"/>\n",
              "  </svg>\n",
              "    </button>\n",
              "    <script>\n",
              "      (() => {\n",
              "      const buttonEl =\n",
              "        document.querySelector('#id_b63f21ed-d631-4e59-812b-75fad0ea6847 button.colab-df-generate');\n",
              "      buttonEl.style.display =\n",
              "        google.colab.kernel.accessAllowed ? 'block' : 'none';\n",
              "\n",
              "      buttonEl.onclick = () => {\n",
              "        google.colab.notebook.generateWithVariable('df_clean');\n",
              "      }\n",
              "      })();\n",
              "    </script>\n",
              "  </div>\n",
              "\n",
              "    </div>\n",
              "  </div>\n"
            ],
            "text/plain": [
              "                                              complaints  \\\n",
              "1      good morning my name is and i appreciate it if...   \n",
              "2      i upgraded my card in and was told by the agen...   \n",
              "10     chase card was reported on however fraudulent ...   \n",
              "11     on while trying to book a ticket i came across...   \n",
              "14     my grand son give me check for i deposit it in...   \n",
              "...                                                  ...   \n",
              "78303  after being a chase card customer for well ove...   \n",
              "78309  on wednesday i called chas my visa credit card...   \n",
              "78310  i am not familiar with pay and did not underst...   \n",
              "78311  i have had flawless credit for yrs ive had cha...   \n",
              "78312  roughly years ago i closed out my accounts wit...   \n",
              "\n",
              "                                         complaint_clean  \\\n",
              "1      good morning my name be and I appreciate it if...   \n",
              "2      I upgrade my card in and be tell by the agent ...   \n",
              "10     chase card be report on however fraudulent app...   \n",
              "11     on while try to book a ticket I come across an...   \n",
              "14     my grand son give I check for I deposit it int...   \n",
              "...                                                  ...   \n",
              "78303  after be a chase card customer for well over a...   \n",
              "78309  on wednesday I call chas my visa credit card p...   \n",
              "78310  I be not familiar with pay and do not understa...   \n",
              "78311  I have have flawless credit for yrs I ve have ...   \n",
              "78312  roughly year ago I close out my account with j...   \n",
              "\n",
              "                                    complaint_lemmatized  \n",
              "1      good morning my name be and I appreciate it if...  \n",
              "2      I upgrade my card in and be tell by the agent ...  \n",
              "10     chase card be report on however fraudulent app...  \n",
              "11     on while try to book a ticket I come across an...  \n",
              "14     my grand son give I check for I deposit it int...  \n",
              "...                                                  ...  \n",
              "78303  after be a chase card customer for well over a...  \n",
              "78309  on wednesday I call chas my visa credit card p...  \n",
              "78310  I be not familiar with pay and do not understa...  \n",
              "78311  I have have flawless credit for yrs I ve have ...  \n",
              "78312  roughly year ago I close out my account with j...  \n",
              "\n",
              "[21072 rows x 3 columns]"
            ]
          },
          "execution_count": 16,
          "metadata": {},
          "output_type": "execute_result"
        }
      ],
      "source": [
        "df_clean"
      ]
    },
    {
      "cell_type": "code",
      "execution_count": null,
      "metadata": {
        "colab": {
          "base_uri": "https://localhost:8080/"
        },
        "id": "Kk7fc4DuJrF1",
        "outputId": "a862c9be-9d7b-4552-d747-5e7e170c2316"
      },
      "outputs": [
        {
          "name": "stdout",
          "output_type": "stream",
          "text": [
            "                                              complaints  \\\n",
            "1      good morning my name is and i appreciate it if...   \n",
            "2      i upgraded my card in and was told by the agen...   \n",
            "10     chase card was reported on however fraudulent ...   \n",
            "11     on while trying to book a ticket i came across...   \n",
            "14     my grand son give me check for i deposit it in...   \n",
            "...                                                  ...   \n",
            "78303  after being a chase card customer for well ove...   \n",
            "78309  on wednesday i called chas my visa credit card...   \n",
            "78310  i am not familiar with pay and did not underst...   \n",
            "78311  i have had flawless credit for yrs ive had cha...   \n",
            "78312  roughly years ago i closed out my accounts wit...   \n",
            "\n",
            "                                   complaint_POS_removed  \n",
            "1      morning name stop bank cardmember service ask ...  \n",
            "2      card agent anniversary date agent information ...  \n",
            "10     chase card report application identity consent...  \n",
            "11     ticket offer ticket reward card information of...  \n",
            "14     son chase account fund chase bank account mone...  \n",
            "...                                                  ...  \n",
            "78303  chase card customer decade solicitation credit...  \n",
            "78309  visa credit card provider claim purchase prote...  \n",
            "78310  pay risk consumer chase bank app chase year ba...  \n",
            "78311  credit yrs chase credit card chase freedom pro...  \n",
            "78312  year account order line credit account payment...  \n",
            "\n",
            "[21072 rows x 2 columns]\n"
          ]
        }
      ],
      "source": [
        "#Write your function to extract the POS tags\n",
        "\n",
        "# Función para extraer las etiquetas POS de un texto\n",
        "def pos_tag(texto):\n",
        "    doc = nlp(texto)\n",
        "    # Extraer la etiqueta POS de cada token en el texto\n",
        "    pos_tags = [token.pos_ for token in doc]\n",
        "    return pos_tags  # Devuelve una lista de etiquetas POS\n",
        "\n",
        "# Aplicar la función a una columna del DataFrame y crear la columna 'complaint_pos_tags'\n",
        "df['complaint_pos_tags'] = df['complaint_lemmatized'].apply(pos_tag)\n"
      ]
    },
    {
      "cell_type": "markdown",
      "source": [
        "En resumen, este código realiza lo siguiente:\n",
        "\n",
        "Define una función pos_tag que extrae etiquetas de partes del discurso de un texto dado.\n",
        "Procesa el texto usando spaCy para crear un objeto estructurado que permite analizar las palabras.\n",
        "Extrae las etiquetas POS de cada palabra en el texto y las devuelve como una lista.\n",
        "Aplica esta función a una columna de un DataFrame y almacena el resultado en una nueva columna, complaint_pos_tags, que contendra las etiquetas gramaticales correspondientes a las quejas lematizadas."
      ],
      "metadata": {
        "id": "emPc1pn8abLl"
      }
    },
    {
      "cell_type": "code",
      "source": [],
      "metadata": {
        "id": "thpJzb70aa3N"
      },
      "execution_count": null,
      "outputs": []
    },
    {
      "cell_type": "code",
      "execution_count": null,
      "metadata": {
        "colab": {
          "base_uri": "https://localhost:8080/",
          "height": 458
        },
        "id": "WCMsEWol6aQi",
        "outputId": "ef7d73a3-f6fa-4035-85c8-d1dfce89dd05"
      },
      "outputs": [
        {
          "data": {
            "text/html": [
              "<div>\n",
              "<style scoped>\n",
              "    .dataframe tbody tr th:only-of-type {\n",
              "        vertical-align: middle;\n",
              "    }\n",
              "\n",
              "    .dataframe tbody tr th {\n",
              "        vertical-align: top;\n",
              "    }\n",
              "\n",
              "    .dataframe thead th {\n",
              "        text-align: right;\n",
              "    }\n",
              "</style>\n",
              "<table border=\"1\" class=\"dataframe\">\n",
              "  <thead>\n",
              "    <tr style=\"text-align: right;\">\n",
              "      <th></th>\n",
              "      <th>complaint_pos_tags</th>\n",
              "    </tr>\n",
              "  </thead>\n",
              "  <tbody>\n",
              "    <tr>\n",
              "      <th>1</th>\n",
              "      <td>[SPACE, NOUN, ADP, NOUN, ADP, PRON, NOUN]</td>\n",
              "    </tr>\n",
              "    <tr>\n",
              "      <th>2</th>\n",
              "      <td>[SPACE, VERB, DET, NOUN, ADP, DET, NOUN, PRON,...</td>\n",
              "    </tr>\n",
              "    <tr>\n",
              "      <th>10</th>\n",
              "      <td>[SPACE, ADV, SPACE, ADJ, NOUN, AUX, AUX, VERB,...</td>\n",
              "    </tr>\n",
              "    <tr>\n",
              "      <th>11</th>\n",
              "      <td>[SPACE, PRON, AUX, ADV, AUX, VERB, ADP, PRON, ...</td>\n",
              "    </tr>\n",
              "    <tr>\n",
              "      <th>14</th>\n",
              "      <td>[SPACE, ADP, NOUN]</td>\n",
              "    </tr>\n",
              "    <tr>\n",
              "      <th>...</th>\n",
              "      <td>...</td>\n",
              "    </tr>\n",
              "    <tr>\n",
              "      <th>78303</th>\n",
              "      <td>[SPACE, NOUN, CCONJ, VERB, PART, VERB, NOUN, N...</td>\n",
              "    </tr>\n",
              "    <tr>\n",
              "      <th>78309</th>\n",
              "      <td>[SPACE, VERB, ADP, PRON, SPACE, CCONJ, PRON, V...</td>\n",
              "    </tr>\n",
              "    <tr>\n",
              "      <th>78310</th>\n",
              "      <td>[SPACE, VERB, NOUN, NOUN, ADP, DET, NOUN, SPAC...</td>\n",
              "    </tr>\n",
              "    <tr>\n",
              "      <th>78311</th>\n",
              "      <td>[SPACE, PRON, VERB, PRON, ADV, SPACE, NOUN, SP...</td>\n",
              "    </tr>\n",
              "    <tr>\n",
              "      <th>78312</th>\n",
              "      <td>[SPACE, ADP, NOUN, PART, VERB, ADP, DET, ADJ, ...</td>\n",
              "    </tr>\n",
              "  </tbody>\n",
              "</table>\n",
              "<p>21072 rows × 1 columns</p>\n",
              "</div><br><label><b>dtype:</b> object</label>"
            ],
            "text/plain": [
              "1                [SPACE, NOUN, ADP, NOUN, ADP, PRON, NOUN]\n",
              "2        [SPACE, VERB, DET, NOUN, ADP, DET, NOUN, PRON,...\n",
              "10       [SPACE, ADV, SPACE, ADJ, NOUN, AUX, AUX, VERB,...\n",
              "11       [SPACE, PRON, AUX, ADV, AUX, VERB, ADP, PRON, ...\n",
              "14                                      [SPACE, ADP, NOUN]\n",
              "                               ...                        \n",
              "78303    [SPACE, NOUN, CCONJ, VERB, PART, VERB, NOUN, N...\n",
              "78309    [SPACE, VERB, ADP, PRON, SPACE, CCONJ, PRON, V...\n",
              "78310    [SPACE, VERB, NOUN, NOUN, ADP, DET, NOUN, SPAC...\n",
              "78311    [SPACE, PRON, VERB, PRON, ADV, SPACE, NOUN, SP...\n",
              "78312    [SPACE, ADP, NOUN, PART, VERB, ADP, DET, ADJ, ...\n",
              "Name: complaint_pos_tags, Length: 21072, dtype: object"
            ]
          },
          "execution_count": 87,
          "metadata": {},
          "output_type": "execute_result"
        }
      ],
      "source": [
        "df['complaint_pos_tags']"
      ]
    },
    {
      "cell_type": "code",
      "execution_count": null,
      "metadata": {
        "colab": {
          "base_uri": "https://localhost:8080/"
        },
        "id": "B4ouAvGcHgcD",
        "outputId": "81360fd6-1b69-466b-8375-130faa2d7fd1"
      },
      "outputs": [
        {
          "name": "stdout",
          "output_type": "stream",
          "text": [
            "                                              complaints  \\\n",
            "1                       thanks in advance for your help    \n",
            "2       has the recording of the agent who was misled...   \n",
            "10        however  fraudulent application have been s...   \n",
            "11        this is now being reported in my credit rep...   \n",
            "14                                            with chase   \n",
            "...                                                  ...   \n",
            "78303   enrollment and failed to credit airline charg...   \n",
            "78309   sent to me  and she said that she is not an a...   \n",
            "78310   integrated banking apps to the public  i unde...   \n",
            "78311      they offer everyone else    terms  they ch...   \n",
            "78312   in order to close out an unsecured line of cr...   \n",
            "\n",
            "                                   complaint_POS_removed  \n",
            "1                                     thank advance help  \n",
            "2                                        recording agent  \n",
            "10     application identity consent service credit id...  \n",
            "11     credit report chase information credit report ...  \n",
            "14                                                 chase  \n",
            "...                                                  ...  \n",
            "78303                          enrollment airline charge  \n",
            "78309  adjuster adjuster hold file hold claim textboo...  \n",
            "78310  banking app public fraud scamming banking mogu...  \n",
            "78311  term term payment transfer fee balance card pa...  \n",
            "78312  order line credit account payment account paym...  \n",
            "\n",
            "[21072 rows x 2 columns]\n"
          ]
        }
      ],
      "source": [
        "#this column should contain lemmatized text with all the words removed which have tags other than NN[tag == \"NN\"].\n",
        "# Function to lemmatize and filter by POS tags\n",
        "def lemmatize_and_filter_nouns(text):\n",
        "    doc = nlp(text)\n",
        "    # Keep only nouns (tag == \"NN\") and lemmatize them\n",
        "    nouns_lemmatized = [token.lemma_ for token in doc if token.pos_ == \"NOUN\"]\n",
        "    # Return as a single string\n",
        "    return \" \".join(nouns_lemmatized)\n",
        "\n",
        "# Assuming df is your DataFrame with a 'complaints' column\n",
        "df['complaint_POS_removed'] = df['complaints'].apply(lemmatize_and_filter_nouns)\n",
        "\n",
        "# Display the updated DataFrame\n",
        "print(df[['complaints', 'complaint_POS_removed']])"
      ]
    },
    {
      "cell_type": "markdown",
      "source": [
        "En resumen, el código realiza las siguientes acciones:\n",
        "\n",
        "Define una función lemmatize_and_filter_nouns que lematiza el texto y filtra para mantener solo los sustantivos.\n",
        "Procesa cada queja en la columna complaints del DataFrame utilizando spaCy.\n",
        "Filtra todas las palabras, conservando solo los sustantivos lematizados en un nuevo string.\n",
        "Almacena estos resultados en una nueva columna complaint_POS_removed.\n",
        "Imprime el DataFrame resultante para comparar las quejas originales con las quejas lematizadas que contienen solo sustantivos.\n",
        "Esto es muy útil en el procesamiento de texto y análisis de datos, ya que ayuda a centrarse en las palabras clave (sustantivos) de las quejas, lo que puede facilitar un análisis más enfocado"
      ],
      "metadata": {
        "id": "w-PjWYCBbbs8"
      }
    },
    {
      "cell_type": "code",
      "execution_count": null,
      "metadata": {
        "id": "3BktJujmAfbu"
      },
      "outputs": [],
      "source": [
        "df_clean[['complaint_POS_removed']] = df[['complaint_POS_removed']]"
      ]
    },
    {
      "cell_type": "code",
      "execution_count": null,
      "metadata": {
        "colab": {
          "base_uri": "https://localhost:8080/",
          "height": 424
        },
        "id": "CMc2gomaMblk",
        "outputId": "62196904-8442-4093-c70b-77feae23ddc8"
      },
      "outputs": [
        {
          "data": {
            "application/vnd.google.colaboratory.intrinsic+json": {
              "summary": "{\n  \"name\": \"df_clean\",\n  \"rows\": 21072,\n  \"fields\": [\n    {\n      \"column\": \"complaints\",\n      \"properties\": {\n        \"dtype\": \"string\",\n        \"num_unique_values\": 20840,\n        \"samples\": [\n          \"back in i entered demographic information to an online chase bank that was never responded to i never received an account number savings account number or debit card so because their were no chase branches in i went to to visit a branch unfortunately it wasnt accessible to pedestrians i then saw the same offer i went to a branch opened an account when it was time for the promotional offer if a new chase customer you get for opening a checking and for opening a savings account when it was time to pay they said i had an account already the promotion is only for new chase customers\",\n          \"chase received the following notice on to chase message center co decision to lower credit line on account ending remains contested on fairness and abuse ofdiscretion your decision to lower credit line on account ending remains contested on fairness and abuse ofdiscretion your decision to close credit line on account ending remains contested on fairness and abuse ofdiscretion chase cardservice based on the action below is inviolation of or certain provisions of the followinglaws truth in lending act tila fair credit billing act fcba fair credit reporting act fcra fair debt collection practice act fdcpa the credit card act cca equal credit opportunity act ecoa and including butnot limited to electronic funds transfer act efta while some courts and administrative agencies havedetermined fairness to mean hiking up an interestrate on an existing balance or allowing a customer togo overlimit and then imposing an overlimit fee currentlaw supports a significant change by a creditor is to beaccompanied by notice fortyfive days prior to thechange in this case chase lowered account ending without notice and proper cause violates the law this account having several months in the customerscredit file significantly changed the customer s ficocredit score and perception creditworthiness amongst othercreditors these changes subject chase cardservices andaffiliates to liability for damages including thenegative fico impact to customer because your action isneither supported by sufficient reasoning nor byapplicable federal law in this case chase closed account ending without notice and proper cause violates the law this account having several months in the customerscredit file significantly changed the customer s ficocredit score and perception creditworthiness amongst othercreditors these changes subject chase cardservices andaffiliates to liability for damages including thenegative fico impact to customer because your action isneither supported by sufficient reasoning nor byapplicable federal law in this case chase cardservice lowered account ending without notice and proper cause violates the law this account having several months in the customerscredit file significantly changed the customer s ficocredit score and perception creditworthiness amongst othercreditors these changes subject chase cardservices andaffiliates to liability for damages including thenegative fico impact to customer because your action isneither supported by sufficient reasoning nor byapplicable federal law customer notes he has always paid this and all accountsontime without delinquency the generic reasoning inyour prior letter correspondence is vague overbroad lacks good faith and does not sufficiently or timelynotify the customer of your action pursuant to applicablelaw thus demand is for apr reduction to percent introand reinstatement based on your generic reasoning to ensure reduced risk of credit exposure and further your action on all accounts impacts acustomer that resides in a lowtomoderate incomecommunity in president obamastownship if your action is found to be inequitable basedon zipcode or other demographic information that mayinfluence your companies credit decisions you may besubject to punitive fines and other penalties on the basisof redlining violations of ecoa and otherantidiscriminatory laws we respectfully request that you reconsider your decision\",\n          \"i am a victim of predatory lending by chase bank i was preyed upon by a chase loan officer following an accident and he talked me into consolidating my existing mortgage line of credit and other debts into a ridiculously unaffordable and impractical year interestonly mortgage that would then become a year variable rate mortgage in effect i would have ended up paying off my house three times i realized this within a month and contacted chase asking to convert the loan to a year fixed loan eliminating the years interestonly portion which would have saved me many many thousands of dollars they refused to work with me in any way and were completely unmoved by my medical condition and inability to pay off this loan i know for a fact that the loan officer falsified documents to secure approval of this nodoc loan ultimately the sheriff showed up and gave me two weeks to vacate there were no legal papers served no notifications or warnings of any kind new york is a judicial foreclosure state meaning that any foreclosure must be approved by a judge there were no hearings no attorneys no court appearances and therefore new york state law was not followed in effect chase stole my home from me without due process i have contacted them numerous times and quite mysteriously all of the documents supporting my claim are unavailable is no longer employed by chase and they are unwilling to discuss a settlement of any kind i believe i am legally entitled to some form of restitution for their unlawful actions i have many documents to support my claim\"\n        ],\n        \"semantic_type\": \"\",\n        \"description\": \"\"\n      }\n    },\n    {\n      \"column\": \"complaint_clean\",\n      \"properties\": {\n        \"dtype\": \"string\",\n        \"num_unique_values\": 20731,\n        \"samples\": [\n          \"headphone unbox ear music one work concern customer support phone return label return form item return facility refund post account support document attach copy return form return label track information proof delivery\",\n          \"mortgage chase payment system customer service issue payment amount payment payment payment date day month month chase customer service month payment chase deduct amount duress amount show month payment chase customer service system\",\n          \"phone hour minute chase employee fraud dept chase point credit card criminal husband phone call criminal boss management hour minute call customer service measure meantime chase replacement card replacement card time account card time card card theft idea kind screen processidentification process use call one office peep email response chase call yesterday line boss name case one call case number customer year ignore today joke bank customer bank card chase answer ignore\"\n        ],\n        \"semantic_type\": \"\",\n        \"description\": \"\"\n      }\n    },\n    {\n      \"column\": \"complaint_lemmatized\",\n      \"properties\": {\n        \"dtype\": \"string\",\n        \"num_unique_values\": 20834,\n        \"samples\": [\n          \"be show inquiry on my credit report that I do not authorize and I have contact about correct and remove these item\",\n          \"I receive a message from company who say it be attempt to collect a debt I owe I call the number back who say it be a non working number for chase this same company leave a message on other phone number that have never be associate with any account I have it be disclose on answer machinesvoicemail that they be attempt to collect a debt from I\",\n          \"one of my check be be steal from the recipient and somebody else cash the check of us dollar in I contact chase bank over time and send back the form they requite time and they claim they never receive it and ask I to send again\"\n        ],\n        \"semantic_type\": \"\",\n        \"description\": \"\"\n      }\n    },\n    {\n      \"column\": \"complaint_POS_removed\",\n      \"properties\": {\n        \"dtype\": \"string\",\n        \"num_unique_values\": 20731,\n        \"samples\": [\n          \"headphone unbox ear music one work concern customer support phone return label return form item return facility refund post account support document attach copy return form return label track information proof delivery\",\n          \"mortgage chase payment system customer service issue payment amount payment payment payment date day month month chase customer service month payment chase deduct amount duress amount show month payment chase customer service system\",\n          \"phone hour minute chase employee fraud dept chase point credit card criminal husband phone call criminal boss management hour minute call customer service measure meantime chase replacement card replacement card time account card time card card theft idea kind screen processidentification process use call one office peep email response chase call yesterday line boss name case one call case number customer year ignore today joke bank customer bank card chase answer ignore\"\n        ],\n        \"semantic_type\": \"\",\n        \"description\": \"\"\n      }\n    }\n  ]\n}",
              "type": "dataframe",
              "variable_name": "df_clean"
            },
            "text/html": [
              "\n",
              "  <div id=\"df-4c17ec6e-c178-4c7a-996c-0db4f246e511\" class=\"colab-df-container\">\n",
              "    <div>\n",
              "<style scoped>\n",
              "    .dataframe tbody tr th:only-of-type {\n",
              "        vertical-align: middle;\n",
              "    }\n",
              "\n",
              "    .dataframe tbody tr th {\n",
              "        vertical-align: top;\n",
              "    }\n",
              "\n",
              "    .dataframe thead th {\n",
              "        text-align: right;\n",
              "    }\n",
              "</style>\n",
              "<table border=\"1\" class=\"dataframe\">\n",
              "  <thead>\n",
              "    <tr style=\"text-align: right;\">\n",
              "      <th></th>\n",
              "      <th>complaints</th>\n",
              "      <th>complaint_clean</th>\n",
              "      <th>complaint_lemmatized</th>\n",
              "      <th>complaint_POS_removed</th>\n",
              "    </tr>\n",
              "  </thead>\n",
              "  <tbody>\n",
              "    <tr>\n",
              "      <th>1</th>\n",
              "      <td>good morning my name is and i appreciate it if...</td>\n",
              "      <td>morning name stop bank cardmember service ask ...</td>\n",
              "      <td>good morning my name be and I appreciate it if...</td>\n",
              "      <td>morning name stop bank cardmember service ask ...</td>\n",
              "    </tr>\n",
              "    <tr>\n",
              "      <th>2</th>\n",
              "      <td>i upgraded my card in and was told by the agen...</td>\n",
              "      <td>card agent anniversary date agent information ...</td>\n",
              "      <td>I upgrade my card in and be tell by the agent ...</td>\n",
              "      <td>card agent anniversary date agent information ...</td>\n",
              "    </tr>\n",
              "    <tr>\n",
              "      <th>10</th>\n",
              "      <td>chase card was reported on however fraudulent ...</td>\n",
              "      <td>chase card report application identity consent...</td>\n",
              "      <td>chase card be report on however fraudulent app...</td>\n",
              "      <td>chase card report application identity consent...</td>\n",
              "    </tr>\n",
              "    <tr>\n",
              "      <th>11</th>\n",
              "      <td>on while trying to book a ticket i came across...</td>\n",
              "      <td>ticket offer ticket reward card information of...</td>\n",
              "      <td>on while try to book a ticket I come across an...</td>\n",
              "      <td>ticket offer ticket reward card information of...</td>\n",
              "    </tr>\n",
              "    <tr>\n",
              "      <th>14</th>\n",
              "      <td>my grand son give me check for i deposit it in...</td>\n",
              "      <td>son chase account fund chase bank account mone...</td>\n",
              "      <td>my grand son give I check for I deposit it int...</td>\n",
              "      <td>son chase account fund chase bank account mone...</td>\n",
              "    </tr>\n",
              "    <tr>\n",
              "      <th>...</th>\n",
              "      <td>...</td>\n",
              "      <td>...</td>\n",
              "      <td>...</td>\n",
              "      <td>...</td>\n",
              "    </tr>\n",
              "    <tr>\n",
              "      <th>78303</th>\n",
              "      <td>after being a chase card customer for well ove...</td>\n",
              "      <td>chase card customer decade solicitation credit...</td>\n",
              "      <td>after be a chase card customer for well over a...</td>\n",
              "      <td>chase card customer decade solicitation credit...</td>\n",
              "    </tr>\n",
              "    <tr>\n",
              "      <th>78309</th>\n",
              "      <td>on wednesday i called chas my visa credit card...</td>\n",
              "      <td>visa credit card provider claim purchase prote...</td>\n",
              "      <td>on wednesday I call chas my visa credit card p...</td>\n",
              "      <td>visa credit card provider claim purchase prote...</td>\n",
              "    </tr>\n",
              "    <tr>\n",
              "      <th>78310</th>\n",
              "      <td>i am not familiar with pay and did not underst...</td>\n",
              "      <td>pay risk consumer chase bank app chase year ba...</td>\n",
              "      <td>I be not familiar with pay and do not understa...</td>\n",
              "      <td>pay risk consumer chase bank app chase year ba...</td>\n",
              "    </tr>\n",
              "    <tr>\n",
              "      <th>78311</th>\n",
              "      <td>i have had flawless credit for yrs ive had cha...</td>\n",
              "      <td>credit yrs chase credit card chase freedom pro...</td>\n",
              "      <td>I have have flawless credit for yrs I ve have ...</td>\n",
              "      <td>credit yrs chase credit card chase freedom pro...</td>\n",
              "    </tr>\n",
              "    <tr>\n",
              "      <th>78312</th>\n",
              "      <td>roughly years ago i closed out my accounts wit...</td>\n",
              "      <td>year account order line credit account payment...</td>\n",
              "      <td>roughly year ago I close out my account with j...</td>\n",
              "      <td>year account order line credit account payment...</td>\n",
              "    </tr>\n",
              "  </tbody>\n",
              "</table>\n",
              "<p>21072 rows × 4 columns</p>\n",
              "</div>\n",
              "    <div class=\"colab-df-buttons\">\n",
              "\n",
              "  <div class=\"colab-df-container\">\n",
              "    <button class=\"colab-df-convert\" onclick=\"convertToInteractive('df-4c17ec6e-c178-4c7a-996c-0db4f246e511')\"\n",
              "            title=\"Convert this dataframe to an interactive table.\"\n",
              "            style=\"display:none;\">\n",
              "\n",
              "  <svg xmlns=\"http://www.w3.org/2000/svg\" height=\"24px\" viewBox=\"0 -960 960 960\">\n",
              "    <path d=\"M120-120v-720h720v720H120Zm60-500h600v-160H180v160Zm220 220h160v-160H400v160Zm0 220h160v-160H400v160ZM180-400h160v-160H180v160Zm440 0h160v-160H620v160ZM180-180h160v-160H180v160Zm440 0h160v-160H620v160Z\"/>\n",
              "  </svg>\n",
              "    </button>\n",
              "\n",
              "  <style>\n",
              "    .colab-df-container {\n",
              "      display:flex;\n",
              "      gap: 12px;\n",
              "    }\n",
              "\n",
              "    .colab-df-convert {\n",
              "      background-color: #E8F0FE;\n",
              "      border: none;\n",
              "      border-radius: 50%;\n",
              "      cursor: pointer;\n",
              "      display: none;\n",
              "      fill: #1967D2;\n",
              "      height: 32px;\n",
              "      padding: 0 0 0 0;\n",
              "      width: 32px;\n",
              "    }\n",
              "\n",
              "    .colab-df-convert:hover {\n",
              "      background-color: #E2EBFA;\n",
              "      box-shadow: 0px 1px 2px rgba(60, 64, 67, 0.3), 0px 1px 3px 1px rgba(60, 64, 67, 0.15);\n",
              "      fill: #174EA6;\n",
              "    }\n",
              "\n",
              "    .colab-df-buttons div {\n",
              "      margin-bottom: 4px;\n",
              "    }\n",
              "\n",
              "    [theme=dark] .colab-df-convert {\n",
              "      background-color: #3B4455;\n",
              "      fill: #D2E3FC;\n",
              "    }\n",
              "\n",
              "    [theme=dark] .colab-df-convert:hover {\n",
              "      background-color: #434B5C;\n",
              "      box-shadow: 0px 1px 3px 1px rgba(0, 0, 0, 0.15);\n",
              "      filter: drop-shadow(0px 1px 2px rgba(0, 0, 0, 0.3));\n",
              "      fill: #FFFFFF;\n",
              "    }\n",
              "  </style>\n",
              "\n",
              "    <script>\n",
              "      const buttonEl =\n",
              "        document.querySelector('#df-4c17ec6e-c178-4c7a-996c-0db4f246e511 button.colab-df-convert');\n",
              "      buttonEl.style.display =\n",
              "        google.colab.kernel.accessAllowed ? 'block' : 'none';\n",
              "\n",
              "      async function convertToInteractive(key) {\n",
              "        const element = document.querySelector('#df-4c17ec6e-c178-4c7a-996c-0db4f246e511');\n",
              "        const dataTable =\n",
              "          await google.colab.kernel.invokeFunction('convertToInteractive',\n",
              "                                                    [key], {});\n",
              "        if (!dataTable) return;\n",
              "\n",
              "        const docLinkHtml = 'Like what you see? Visit the ' +\n",
              "          '<a target=\"_blank\" href=https://colab.research.google.com/notebooks/data_table.ipynb>data table notebook</a>'\n",
              "          + ' to learn more about interactive tables.';\n",
              "        element.innerHTML = '';\n",
              "        dataTable['output_type'] = 'display_data';\n",
              "        await google.colab.output.renderOutput(dataTable, element);\n",
              "        const docLink = document.createElement('div');\n",
              "        docLink.innerHTML = docLinkHtml;\n",
              "        element.appendChild(docLink);\n",
              "      }\n",
              "    </script>\n",
              "  </div>\n",
              "\n",
              "\n",
              "<div id=\"df-89d04f69-b23d-4108-b89c-4dba5d06eb22\">\n",
              "  <button class=\"colab-df-quickchart\" onclick=\"quickchart('df-89d04f69-b23d-4108-b89c-4dba5d06eb22')\"\n",
              "            title=\"Suggest charts\"\n",
              "            style=\"display:none;\">\n",
              "\n",
              "<svg xmlns=\"http://www.w3.org/2000/svg\" height=\"24px\"viewBox=\"0 0 24 24\"\n",
              "     width=\"24px\">\n",
              "    <g>\n",
              "        <path d=\"M19 3H5c-1.1 0-2 .9-2 2v14c0 1.1.9 2 2 2h14c1.1 0 2-.9 2-2V5c0-1.1-.9-2-2-2zM9 17H7v-7h2v7zm4 0h-2V7h2v10zm4 0h-2v-4h2v4z\"/>\n",
              "    </g>\n",
              "</svg>\n",
              "  </button>\n",
              "\n",
              "<style>\n",
              "  .colab-df-quickchart {\n",
              "      --bg-color: #E8F0FE;\n",
              "      --fill-color: #1967D2;\n",
              "      --hover-bg-color: #E2EBFA;\n",
              "      --hover-fill-color: #174EA6;\n",
              "      --disabled-fill-color: #AAA;\n",
              "      --disabled-bg-color: #DDD;\n",
              "  }\n",
              "\n",
              "  [theme=dark] .colab-df-quickchart {\n",
              "      --bg-color: #3B4455;\n",
              "      --fill-color: #D2E3FC;\n",
              "      --hover-bg-color: #434B5C;\n",
              "      --hover-fill-color: #FFFFFF;\n",
              "      --disabled-bg-color: #3B4455;\n",
              "      --disabled-fill-color: #666;\n",
              "  }\n",
              "\n",
              "  .colab-df-quickchart {\n",
              "    background-color: var(--bg-color);\n",
              "    border: none;\n",
              "    border-radius: 50%;\n",
              "    cursor: pointer;\n",
              "    display: none;\n",
              "    fill: var(--fill-color);\n",
              "    height: 32px;\n",
              "    padding: 0;\n",
              "    width: 32px;\n",
              "  }\n",
              "\n",
              "  .colab-df-quickchart:hover {\n",
              "    background-color: var(--hover-bg-color);\n",
              "    box-shadow: 0 1px 2px rgba(60, 64, 67, 0.3), 0 1px 3px 1px rgba(60, 64, 67, 0.15);\n",
              "    fill: var(--button-hover-fill-color);\n",
              "  }\n",
              "\n",
              "  .colab-df-quickchart-complete:disabled,\n",
              "  .colab-df-quickchart-complete:disabled:hover {\n",
              "    background-color: var(--disabled-bg-color);\n",
              "    fill: var(--disabled-fill-color);\n",
              "    box-shadow: none;\n",
              "  }\n",
              "\n",
              "  .colab-df-spinner {\n",
              "    border: 2px solid var(--fill-color);\n",
              "    border-color: transparent;\n",
              "    border-bottom-color: var(--fill-color);\n",
              "    animation:\n",
              "      spin 1s steps(1) infinite;\n",
              "  }\n",
              "\n",
              "  @keyframes spin {\n",
              "    0% {\n",
              "      border-color: transparent;\n",
              "      border-bottom-color: var(--fill-color);\n",
              "      border-left-color: var(--fill-color);\n",
              "    }\n",
              "    20% {\n",
              "      border-color: transparent;\n",
              "      border-left-color: var(--fill-color);\n",
              "      border-top-color: var(--fill-color);\n",
              "    }\n",
              "    30% {\n",
              "      border-color: transparent;\n",
              "      border-left-color: var(--fill-color);\n",
              "      border-top-color: var(--fill-color);\n",
              "      border-right-color: var(--fill-color);\n",
              "    }\n",
              "    40% {\n",
              "      border-color: transparent;\n",
              "      border-right-color: var(--fill-color);\n",
              "      border-top-color: var(--fill-color);\n",
              "    }\n",
              "    60% {\n",
              "      border-color: transparent;\n",
              "      border-right-color: var(--fill-color);\n",
              "    }\n",
              "    80% {\n",
              "      border-color: transparent;\n",
              "      border-right-color: var(--fill-color);\n",
              "      border-bottom-color: var(--fill-color);\n",
              "    }\n",
              "    90% {\n",
              "      border-color: transparent;\n",
              "      border-bottom-color: var(--fill-color);\n",
              "    }\n",
              "  }\n",
              "</style>\n",
              "\n",
              "  <script>\n",
              "    async function quickchart(key) {\n",
              "      const quickchartButtonEl =\n",
              "        document.querySelector('#' + key + ' button');\n",
              "      quickchartButtonEl.disabled = true;  // To prevent multiple clicks.\n",
              "      quickchartButtonEl.classList.add('colab-df-spinner');\n",
              "      try {\n",
              "        const charts = await google.colab.kernel.invokeFunction(\n",
              "            'suggestCharts', [key], {});\n",
              "      } catch (error) {\n",
              "        console.error('Error during call to suggestCharts:', error);\n",
              "      }\n",
              "      quickchartButtonEl.classList.remove('colab-df-spinner');\n",
              "      quickchartButtonEl.classList.add('colab-df-quickchart-complete');\n",
              "    }\n",
              "    (() => {\n",
              "      let quickchartButtonEl =\n",
              "        document.querySelector('#df-89d04f69-b23d-4108-b89c-4dba5d06eb22 button');\n",
              "      quickchartButtonEl.style.display =\n",
              "        google.colab.kernel.accessAllowed ? 'block' : 'none';\n",
              "    })();\n",
              "  </script>\n",
              "</div>\n",
              "\n",
              "  <div id=\"id_7a00cb74-4c54-4693-8b67-7084107fdc9e\">\n",
              "    <style>\n",
              "      .colab-df-generate {\n",
              "        background-color: #E8F0FE;\n",
              "        border: none;\n",
              "        border-radius: 50%;\n",
              "        cursor: pointer;\n",
              "        display: none;\n",
              "        fill: #1967D2;\n",
              "        height: 32px;\n",
              "        padding: 0 0 0 0;\n",
              "        width: 32px;\n",
              "      }\n",
              "\n",
              "      .colab-df-generate:hover {\n",
              "        background-color: #E2EBFA;\n",
              "        box-shadow: 0px 1px 2px rgba(60, 64, 67, 0.3), 0px 1px 3px 1px rgba(60, 64, 67, 0.15);\n",
              "        fill: #174EA6;\n",
              "      }\n",
              "\n",
              "      [theme=dark] .colab-df-generate {\n",
              "        background-color: #3B4455;\n",
              "        fill: #D2E3FC;\n",
              "      }\n",
              "\n",
              "      [theme=dark] .colab-df-generate:hover {\n",
              "        background-color: #434B5C;\n",
              "        box-shadow: 0px 1px 3px 1px rgba(0, 0, 0, 0.15);\n",
              "        filter: drop-shadow(0px 1px 2px rgba(0, 0, 0, 0.3));\n",
              "        fill: #FFFFFF;\n",
              "      }\n",
              "    </style>\n",
              "    <button class=\"colab-df-generate\" onclick=\"generateWithVariable('df_clean')\"\n",
              "            title=\"Generate code using this dataframe.\"\n",
              "            style=\"display:none;\">\n",
              "\n",
              "  <svg xmlns=\"http://www.w3.org/2000/svg\" height=\"24px\"viewBox=\"0 0 24 24\"\n",
              "       width=\"24px\">\n",
              "    <path d=\"M7,19H8.4L18.45,9,17,7.55,7,17.6ZM5,21V16.75L18.45,3.32a2,2,0,0,1,2.83,0l1.4,1.43a1.91,1.91,0,0,1,.58,1.4,1.91,1.91,0,0,1-.58,1.4L9.25,21ZM18.45,9,17,7.55Zm-12,3A5.31,5.31,0,0,0,4.9,8.1,5.31,5.31,0,0,0,1,6.5,5.31,5.31,0,0,0,4.9,4.9,5.31,5.31,0,0,0,6.5,1,5.31,5.31,0,0,0,8.1,4.9,5.31,5.31,0,0,0,12,6.5,5.46,5.46,0,0,0,6.5,12Z\"/>\n",
              "  </svg>\n",
              "    </button>\n",
              "    <script>\n",
              "      (() => {\n",
              "      const buttonEl =\n",
              "        document.querySelector('#id_7a00cb74-4c54-4693-8b67-7084107fdc9e button.colab-df-generate');\n",
              "      buttonEl.style.display =\n",
              "        google.colab.kernel.accessAllowed ? 'block' : 'none';\n",
              "\n",
              "      buttonEl.onclick = () => {\n",
              "        google.colab.notebook.generateWithVariable('df_clean');\n",
              "      }\n",
              "      })();\n",
              "    </script>\n",
              "  </div>\n",
              "\n",
              "    </div>\n",
              "  </div>\n"
            ],
            "text/plain": [
              "                                              complaints  \\\n",
              "1      good morning my name is and i appreciate it if...   \n",
              "2      i upgraded my card in and was told by the agen...   \n",
              "10     chase card was reported on however fraudulent ...   \n",
              "11     on while trying to book a ticket i came across...   \n",
              "14     my grand son give me check for i deposit it in...   \n",
              "...                                                  ...   \n",
              "78303  after being a chase card customer for well ove...   \n",
              "78309  on wednesday i called chas my visa credit card...   \n",
              "78310  i am not familiar with pay and did not underst...   \n",
              "78311  i have had flawless credit for yrs ive had cha...   \n",
              "78312  roughly years ago i closed out my accounts wit...   \n",
              "\n",
              "                                         complaint_clean  \\\n",
              "1      morning name stop bank cardmember service ask ...   \n",
              "2      card agent anniversary date agent information ...   \n",
              "10     chase card report application identity consent...   \n",
              "11     ticket offer ticket reward card information of...   \n",
              "14     son chase account fund chase bank account mone...   \n",
              "...                                                  ...   \n",
              "78303  chase card customer decade solicitation credit...   \n",
              "78309  visa credit card provider claim purchase prote...   \n",
              "78310  pay risk consumer chase bank app chase year ba...   \n",
              "78311  credit yrs chase credit card chase freedom pro...   \n",
              "78312  year account order line credit account payment...   \n",
              "\n",
              "                                    complaint_lemmatized  \\\n",
              "1      good morning my name be and I appreciate it if...   \n",
              "2      I upgrade my card in and be tell by the agent ...   \n",
              "10     chase card be report on however fraudulent app...   \n",
              "11     on while try to book a ticket I come across an...   \n",
              "14     my grand son give I check for I deposit it int...   \n",
              "...                                                  ...   \n",
              "78303  after be a chase card customer for well over a...   \n",
              "78309  on wednesday I call chas my visa credit card p...   \n",
              "78310  I be not familiar with pay and do not understa...   \n",
              "78311  I have have flawless credit for yrs I ve have ...   \n",
              "78312  roughly year ago I close out my account with j...   \n",
              "\n",
              "                                   complaint_POS_removed  \n",
              "1      morning name stop bank cardmember service ask ...  \n",
              "2      card agent anniversary date agent information ...  \n",
              "10     chase card report application identity consent...  \n",
              "11     ticket offer ticket reward card information of...  \n",
              "14     son chase account fund chase bank account mone...  \n",
              "...                                                  ...  \n",
              "78303  chase card customer decade solicitation credit...  \n",
              "78309  visa credit card provider claim purchase prote...  \n",
              "78310  pay risk consumer chase bank app chase year ba...  \n",
              "78311  credit yrs chase credit card chase freedom pro...  \n",
              "78312  year account order line credit account payment...  \n",
              "\n",
              "[21072 rows x 4 columns]"
            ]
          },
          "execution_count": 19,
          "metadata": {},
          "output_type": "execute_result"
        }
      ],
      "source": [
        "df_clean['complaint_clean'] = df_clean['complaint_POS_removed']\n",
        "df_clean"
      ]
    },
    {
      "cell_type": "code",
      "execution_count": null,
      "metadata": {
        "id": "Sv_DeU-6UKW4"
      },
      "outputs": [],
      "source": [
        "# Guardar el DataFrame en un archivo CSV\n",
        "df_clean.to_csv('complaints_limp.csv', index=False, encoding='utf-8-sig')"
      ]
    },
    {
      "cell_type": "markdown",
      "source": [
        "Se carga la data lograda en un archvo csv, para evitar que se cargue y reinicie cada vez que se ejecute"
      ],
      "metadata": {
        "id": "qQq2edXFcD65"
      }
    },
    {
      "cell_type": "markdown",
      "source": [],
      "metadata": {
        "id": "-YUGHiuhcUqr"
      }
    },
    {
      "cell_type": "markdown",
      "metadata": {
        "id": "_7Un1AElJrF2"
      },
      "source": [
        "# **4. Exploratory data analysis to get familiar with the data**\n",
        "\n",
        "Escriba el código en esta tarea para realizar lo siguiente:\n",
        "\n",
        "* Visualiza los datos según la longitud del carácteres 'Complaint'\n",
        "* Usando una nube de palabras, encuentre las top 40 palabras más frecuentes de todos los artículos después de procesar el texto\n",
        "* Encuentre los mejores unigramas, bigramas y trigramas por frecuencia entre todas las quejas después de procesar el texto. '"
      ]
    },
    {
      "cell_type": "code",
      "execution_count": null,
      "metadata": {
        "colab": {
          "base_uri": "https://localhost:8080/"
        },
        "id": "q-zaqJF6JrF2",
        "outputId": "b76a384c-e24d-4a19-ce9d-79731b82f238"
      },
      "outputs": [
        {
          "name": "stdout",
          "output_type": "stream",
          "text": [
            "                                         complaint_clean  complaint_length\n",
            "1096   right experience relate issue place care unit ...             12560\n",
            "6262   security disclosure identity theft dispute pos...             12376\n",
            "26169  disclosure identity theft dispute position ide...             10495\n",
            "31952  response co mortgage reference number document...             10482\n",
            "48112  majority owner proxy holder head email phone e...             10070\n",
            "...                                                  ...               ...\n",
            "11632                                              money                 5\n",
            "25414                                              chase                 5\n",
            "7066                                                case                 4\n",
            "11806                                               card                 4\n",
            "4721                                                                     0\n",
            "\n",
            "[21072 rows x 2 columns]\n"
          ]
        }
      ],
      "source": [
        "# Write your code here to visualise the data according to the 'Complaint' character length\n",
        "\n",
        "# Agregar una columna que calcule la longitud de los caracteres en 'complaint_what_happened'\n",
        "df_clean['complaint_length'] = df_clean['complaint_clean'].apply(len)\n",
        "\n",
        "# Ordenar el DataFrame por la longitud de los caracteres en orden descendente\n",
        "df_clean_sorted = df_clean.sort_values(by='complaint_length', ascending=False)\n",
        "\n",
        "# Mostrar el DataFrame ordenado\n",
        "print(df_clean_sorted[['complaint_clean', 'complaint_length']])"
      ]
    },
    {
      "cell_type": "markdown",
      "source": [
        "Resumen General\n",
        "En resumen, el código realiza las siguientes operaciones:\n",
        "\n",
        "Calcula la longitud de cada queja en la columna complaint_clean y almacena el resultado en una nueva columna llamada complaint_length.\n",
        "Ordena el DataFrame df_clean en base a la longitud de las quejas de manera descendente, resultando en un nuevo DataFrame df_clean_sorted.\n",
        "Imprime las columnas complaint_clean y complaint_length de este DataFrame ordenado."
      ],
      "metadata": {
        "id": "a8MIIQeOdbp5"
      }
    },
    {
      "cell_type": "markdown",
      "metadata": {
        "id": "T9jD_6SeJrF3"
      },
      "source": [
        "#### Find the top 40 words by frequency among all the articles after processing the text."
      ]
    },
    {
      "cell_type": "code",
      "execution_count": null,
      "metadata": {
        "colab": {
          "base_uri": "https://localhost:8080/"
        },
        "id": "szLF3emnGGy0",
        "outputId": "c1824920-7286-4966-f592-7038c16ed6e7"
      },
      "outputs": [
        {
          "name": "stdout",
          "output_type": "stream",
          "text": [
            "           Word  Frequency\n",
            "0         chase      54326\n",
            "1       account      47508\n",
            "2        credit      33512\n",
            "3          card      30315\n",
            "4          bank      21892\n",
            "5       payment      21163\n",
            "6          time      16036\n",
            "7        charge      14274\n",
            "8           day      13193\n",
            "9         check      12288\n",
            "10        money      11955\n",
            "11         loan      10953\n",
            "12       letter       9641\n",
            "13  information       9640\n",
            "14       report       8976\n",
            "15          fee       8894\n",
            "16         call       8808\n",
            "17       number       8630\n",
            "18  transaction       8589\n",
            "19        month       8553\n",
            "20       amount       8424\n",
            "21         year       8378\n",
            "22     customer       8160\n",
            "23     mortgage       8125\n",
            "24      balance       7769\n",
            "25      service       7720\n",
            "26        phone       7622\n",
            "27      company       7592\n",
            "28        claim       7407\n",
            "29        state       7348\n",
            "30         fund       7058\n",
            "31        fraud       6934\n",
            "32        issue       6478\n",
            "33         date       6350\n",
            "34        email       6106\n",
            "35      dispute       5950\n",
            "36     business       5567\n",
            "37     interest       5303\n",
            "38      request       5295\n",
            "39         name       5267\n"
          ]
        }
      ],
      "source": [
        "from collections import Counter\n",
        "# Step 1: Combine all complaints into a single string\n",
        "all_text = ' '.join(df_clean['complaint_clean'])\n",
        "\n",
        "# Step 2: Tokenize the text into words\n",
        "words = all_text.split()\n",
        "\n",
        "# Step 3: Count frequencies of each word\n",
        "word_counts = Counter(words)\n",
        "\n",
        "# Step 4: Get the top 40 most common words\n",
        "top_40_words = word_counts.most_common(40)\n",
        "\n",
        "# Convert to DataFrame for better readability (optional)\n",
        "top_40_df = pd.DataFrame(top_40_words, columns=['Word', 'Frequency'])\n",
        "\n",
        "print(top_40_df)"
      ]
    },
    {
      "cell_type": "markdown",
      "source": [
        "Resumen General\n",
        "En resumen, el código realiza las siguientes operaciones:\n",
        "\n",
        "Combina todas las quejas en un solo string, facilitando el análisis.\n",
        "Tokeniza este texto en una lista de palabras.\n",
        "Cuenta la frecuencia de cada palabra utilizando Counter.\n",
        "Extrae las 40 palabras más comunes y sus frecuencias.\n",
        "Convierte estos resultados en un DataFrame de pandas para facilitar la visualización.\n",
        "Imprime el DataFrame, mostrando las palabras más frecuentes y cuántas veces aparecen."
      ],
      "metadata": {
        "id": "qyYXbkPJeKdU"
      }
    },
    {
      "cell_type": "code",
      "execution_count": null,
      "metadata": {
        "colab": {
          "base_uri": "https://localhost:8080/",
          "height": 452
        },
        "id": "K1v7WwJ5MFXV",
        "outputId": "c4f4587e-580e-45d9-959e-7df3205b6ff6"
      },
      "outputs": [
        {
          "data": {
            "image/png": "[encoded data removed]",
            "text/plain": [
              "<Figure size 1000x500 with 1 Axes>"
            ]
          },
          "metadata": {},
          "output_type": "display_data"
        }
      ],
      "source": [
        "from wordcloud import WordCloud\n",
        "# Crear la nube de palabras\n",
        "wordcloud = WordCloud(width=800, height=400, background_color='white').generate(all_text)\n",
        "\n",
        "# Mostrar la nube de palabras\n",
        "plt.figure(figsize=(10, 5))\n",
        "plt.imshow(wordcloud, interpolation='bilinear')\n",
        "plt.axis('off')  # No mostrar ejes\n",
        "plt.title('Nube de Palabras de Quejas', fontsize=20)\n",
        "plt.show()"
      ]
    },
    {
      "cell_type": "markdown",
      "source": [
        "#Análisis de la Nube de Palabras\n",
        "\n",
        "\"**credit\" y \"card**\": Estas palabras son prominentes, lo que sugiere que muchas de las quejas están relacionadas con las tarjetas de crédito. Esto puede incluir problemas como cargos incorrectos o dificultades con el uso de la tarjeta.\n",
        "\"bank\" y \"chase\": La presencia notable de \"bank\" y \"chase\" indica que la mayoría de las quejas provienen de clientes de Chase Bank, lo que resalta la importancia de esta institución en el contexto de las quejas.\n",
        "\"account\": Se menciona frecuentemente, lo que sugiere que los problemas pueden estar relacionados con cuentas bancarias, como acceso, gestión o errores en el saldo.\n",
        "Otras Palabras Relevantes:\n",
        "\n",
        "**\"issue\" y \"problem\"**: Estas palabras indican que los clientes están expresando preocupaciones o dificultades específicas, enfatizando la insatisfacción con el servicio.\n",
        "**\"time,\" \"day,\" y \"month\":** Estas palabras podrían señalar que muchos clientes están reportando problemas relacionados con la duración de los procesos o la tardanza en la resolución de sus quejas.\n",
        "\"customer\" y \"service\": La inclusión de estas palabras sugiere que muchos clientes están insatisfechos con el servicio al cliente, lo que puede indicar una falta de respuesta adecuada o soluciones a sus problemas.\n",
        "Tendencias Generales:\n",
        "\n",
        "La nube refleja una fuerte conexión entre las quejas y la gestión de cuentas de tarjetas de crédito en Chase Bank. Los clientes parecen tener problemas recurrentes con sus cuentas, la atención al cliente, y la resolución de disputas o cobros.\n",
        "Las palabras relacionadas con el tiempo (como \"day\" y \"month\") pueden indicar frustración relacionada con la duración del proceso de resolución de quejas.\n",
        "Frases como \"credit report\" y \"transaction\" sugieren que algunos problemas pueden estar vinculados a la gestión de crédito y transacciones específicas.\n",
        "Conclusión\n",
        "La nube de palabras evidencia un patrón de quejas concentradas en cuestiones relacionadas con tarjetas de crédito y cuentas en Chase Bank, junto con críticas hacia la atención al cliente y tiempos de respuesta. Este análisis visual puede ser útil para los responsables de la entidad financiera, permitiéndoles identificar áreas específicas que requieren atención y mejora para optimizar la experiencia del cliente."
      ],
      "metadata": {
        "id": "sO7h4u8pgCeL"
      }
    },
    {
      "cell_type": "markdown",
      "source": [
        "Resumen General\n",
        "En resumen, este código realiza los siguientes pasos para crear y visualizar una nube de palabras:\n",
        "\n",
        "Importa la clase WordCloud para generar nubes de palabras.\n",
        "Combina todas las quejas en un único string y utiliza este texto para crear la nube de palabras, especificando dimensiones y color de fondo.\n",
        "Configura una figura para mostrar la nube, ajustando su tamaño.\n",
        "Muestra la nube de palabras, suavizando sus bordes para mejor visualización.\n",
        "Desactiva los ejes de la figura para una presentación más limpia.\n",
        "Agrega un título a la visualización.\n",
        "Renderiza y muestra la figura en pantalla.\n",
        "En resumen, renderizar implica convertir algo que existe en una forma digital (ya sea datos, modelos o instrucciones de visualización) en una imagen o forma que puede ser visualizada y entendida por los humanos.\n"
      ],
      "metadata": {
        "id": "2G47VlLhevfV"
      }
    },
    {
      "cell_type": "markdown",
      "metadata": {
        "id": "5DfCSbbmJrF4"
      },
      "source": [
        "#### Find the top unigrams,bigrams and trigrams by frequency among all the complaints after processing the text."
      ]
    },
    {
      "cell_type": "code",
      "execution_count": null,
      "metadata": {
        "colab": {
          "base_uri": "https://localhost:8080/"
        },
        "id": "5mbk5DS5JrF4",
        "outputId": "eca9dc06-33e7-4301-c3dd-fbb420b0da3c"
      },
      "outputs": [
        {
          "name": "stdout",
          "output_type": "stream",
          "text": [
            "        Unigram  Frequency\n",
            "0         chase      54326\n",
            "1       account      47508\n",
            "2        credit      33512\n",
            "3          card      30315\n",
            "4          bank      21892\n",
            "5       payment      21163\n",
            "6          time      16036\n",
            "7        charge      14274\n",
            "8           day      13193\n",
            "9         check      12288\n",
            "10        money      11955\n",
            "11         loan      10953\n",
            "12       letter       9641\n",
            "13  information       9640\n",
            "14       report       8976\n",
            "15          fee       8894\n",
            "16         call       8808\n",
            "17       number       8630\n",
            "18  transaction       8589\n",
            "19        month       8553\n",
            "20       amount       8424\n",
            "21         year       8378\n",
            "22     customer       8160\n",
            "23     mortgage       8125\n",
            "24      balance       7769\n",
            "25      service       7720\n",
            "26        phone       7622\n",
            "27      company       7592\n",
            "28        claim       7407\n",
            "29        state       7348\n"
          ]
        }
      ],
      "source": [
        "#Write your code here to find the top 30 unigram frequency among the complaints in the cleaned datafram(df_clean).\n",
        "\n",
        "# Step 1: Combine all complaints into a single string\n",
        "all_text = ' '.join(df_clean['complaint_clean'])\n",
        "\n",
        "# Step 2: Tokenize the text into unigrams (words)\n",
        "unigrams = all_text.split()\n",
        "\n",
        "# Step 3: Count frequencies of each unigram\n",
        "unigram_counts = Counter(unigrams)\n",
        "\n",
        "# Step 4: Get the top 30 most common unigrams\n",
        "top_30_unigrams = unigram_counts.most_common(30)\n",
        "\n",
        "# Convert to DataFrame for better readability (optional)\n",
        "top_30_df = pd.DataFrame(top_30_unigrams, columns=['Unigram', 'Frequency'])\n",
        "\n",
        "print(top_30_df)"
      ]
    },
    {
      "cell_type": "markdown",
      "source": [
        "Este paso toma la columna complaint_clean del DataFrame df_clean, que se supone contiene las quejas ya limpias (sin caracteres especiales o ruido innecesario). La función **join combina todas estas quejas en una sola cadena**, separando cada queja por un espacio. El resultado es un texto largo que contiene todas las quejas.\n",
        "Se utiliza **Counter de la biblioteca collections** para contar la frecuencia de cada palabra en la lista unigrams. Counter crea un diccionario donde las claves son las palabras y los valores son las cantidades de veces que cada palabra aparece. El resultado es un objeto Counter que refleja la frecuencia de cada unigram.\n",
        "El método **most_common(30**) devuelve una lista de las 30 palabras más comunes y sus frecuencias en formato de tupling. Cada tupla contiene una palabra y su correspondiente frecuencia. Esto te da una vista rápida de cuáles son las palabras más frecuentes en las quejas.\n",
        "En este paso,** conviertes la lista de los 30 unigrams más comunes en un DataFrame de pandas,** lo que te permite tener una representación tabular. Este DataFrame tiene dos columnas: 'Unigram' (la palabra) y 'Frequency' (la cantidad de veces que aparece)."
      ],
      "metadata": {
        "id": "g21J8xlwOSdw"
      }
    },
    {
      "cell_type": "code",
      "execution_count": null,
      "metadata": {
        "colab": {
          "base_uri": "https://localhost:8080/"
        },
        "id": "YX7fedm1JrF8",
        "outputId": "04fbf2df-99fc-4ac3-8b2a-279a9b2395bc"
      },
      "outputs": [
        {
          "name": "stdout",
          "output_type": "stream",
          "text": [
            "   Unigram  Frequency\n",
            "0    chase      54326\n",
            "1  account      47508\n",
            "2   credit      33512\n",
            "3     card      30315\n",
            "4     bank      21892\n",
            "5  payment      21163\n",
            "6     time      16036\n",
            "7   charge      14274\n",
            "8      day      13193\n",
            "9    check      12288\n"
          ]
        }
      ],
      "source": [
        "#Print the top 10 words in the unigram frequency\n",
        "# Step 4: Get the top 10 most common unigrams\n",
        "top_10_unigrams = unigram_counts.most_common(10)\n",
        "\n",
        "# Convert to DataFrame for better readability (optional)\n",
        "top_10_df = pd.DataFrame(top_10_unigrams, columns=['Unigram', 'Frequency'])\n",
        "\n",
        "# Print the top 10 unigrams\n",
        "print(top_10_df)"
      ]
    },
    {
      "cell_type": "markdown",
      "source": [
        "El código esta bien estructurado y hace uso eficiente de las funcionalidades de Counter y pandas para extraer y mostrar los datos relevantes. Si todo está funcionando como esperabas, este código debería proporcionarte una visión clara de las palabras más comunes en las quejas. Si tienes más preguntas o si hay algo más que quieras incluir, ¡házmelo saber!"
      ],
      "metadata": {
        "id": "tjfV8zvhW20c"
      }
    },
    {
      "cell_type": "markdown",
      "source": [
        "Descripción: En este paso, estás creando un DataFrame de pandas a partir de la lista de los 10 unigrams más comunes. El DataFrame tiene dos columnas:\n",
        "Unigram: contiene la palabra (unigram)."
      ],
      "metadata": {
        "id": "TmxjKIcNW2WB"
      }
    },
    {
      "cell_type": "code",
      "execution_count": null,
      "metadata": {
        "colab": {
          "base_uri": "https://localhost:8080/"
        },
        "id": "aV7kD7w8JrF8",
        "outputId": "68b7aca9-707c-4eee-a27d-0dd55315e19b"
      },
      "outputs": [
        {
          "name": "stdout",
          "output_type": "stream",
          "text": [
            "                 Bigram  Frequency\n",
            "0        (credit, card)      12857\n",
            "1      (credit, report)       3957\n",
            "2      (account, chase)       3167\n",
            "3   (customer, service)       3076\n",
            "4       (chase, credit)       2921\n",
            "5      (chase, account)       2723\n",
            "6       (bank, account)       2465\n",
            "7    (account, account)       2405\n",
            "8      (check, account)       2302\n",
            "9         (chase, bank)       2183\n",
            "10        (debit, card)       2030\n",
            "11  (checking, account)       1955\n",
            "12        (chase, card)       1864\n",
            "13      (credit, score)       1709\n",
            "14      (card, account)       1678\n",
            "15        (phone, call)       1660\n",
            "16        (card, chase)       1647\n",
            "17    (account, credit)       1565\n",
            "18   (payment, payment)       1406\n",
            "19      (account, bank)       1347\n",
            "20     (money, account)       1338\n",
            "21     (interest, rate)       1293\n",
            "22      (business, day)       1257\n",
            "23      (phone, number)       1245\n",
            "24    (account, number)       1182\n",
            "25      (card, company)       1121\n",
            "26       (chase, chase)       1113\n",
            "27    (charge, account)       1091\n",
            "28         (card, card)       1090\n",
            "29       (card, credit)       1063\n"
          ]
        }
      ],
      "source": [
        "from nltk import bigrams\n",
        "#Write your code here to find the top 30 bigram frequency among the complaints in the cleaned datafram(df_clean).\n",
        "# Step 1: Combine all complaints into a single string\n",
        "all_text = ' '.join(df_clean['complaint_clean'])\n",
        "\n",
        "# Step 2: Tokenize the text into words\n",
        "words = all_text.split()\n",
        "\n",
        "# Step 3: Generate bigrams from the list of words\n",
        "bigram_list = list(bigrams(words))\n",
        "\n",
        "# Step 4: Count frequencies of each bigram\n",
        "bigram_counts = Counter(bigram_list)\n",
        "\n",
        "# Step 5: Get the top 30 most common bigrams\n",
        "top_30_bigrams = bigram_counts.most_common(30)\n",
        "\n",
        "# Convert to DataFrame for better readability (optional)\n",
        "top_30_df = pd.DataFrame(top_30_bigrams, columns=['Bigram', 'Frequency'])\n",
        "\n",
        "# Print the top 30 bigrams\n",
        "print(top_30_df)"
      ]
    },
    {
      "cell_type": "markdown",
      "source": [
        "Tomaremos la columna complaint_clean del DataFrame df_clean, que contiene las quejas limpias. Usando join, combinas todas estas quejas en una sola cadena, separadas por espacios. Esto produce un largo texto con todas las quejas.\n",
        "Usando el método split(), divides el texto combinado en palabras individuales. El resultado, words, es una lista que contiene todas las palabras que se encuentran en el texto.\n",
        "Se utilizó la función bigrams de nltk, que toma la lista de palabras words y genera todos los pares adyacentes de palabras (bigramos). Cada bigrama es representado como una tupla de dos palabras. El resultado es una lista llamada bigram_list que contiene todos los bigramas extraídos del texto.Aquí usas Counter de la biblioteca collections para contar la frecuencia de cada bigrama en la lista bigram_list. Esto genera un objeto Counter que actúa como un diccionario, donde las claves son los bigramas (tuplas de palabras) y los valores son sus conteos respectivos.\n",
        "Se usa Counter de la biblioteca collections para contar la frecuencia de cada bigrama en la lista bigram_list. Esto genera un objeto Counter que actúa como un diccionario, donde las claves son los bigramas (tuplas de palabras) y los valores son sus conteos respectivos.\n",
        "Descripción: El método most_common(30) devuelve una lista de los 30 bigramas más frecuentes, junto con sus frecuencias. Cada elemento de la lista es una tupla que consiste en un bigrama y su frecuencia.\n"
      ],
      "metadata": {
        "id": "UHdwq6JbdRJm"
      }
    },
    {
      "cell_type": "code",
      "execution_count": null,
      "metadata": {
        "colab": {
          "base_uri": "https://localhost:8080/"
        },
        "id": "NPnMNIpyJrF9",
        "outputId": "1d0f92a3-aebd-44ba-b43d-0d93c1c2aabb"
      },
      "outputs": [
        {
          "name": "stdout",
          "output_type": "stream",
          "text": [
            "                Bigram  Frequency\n",
            "0       (credit, card)      12857\n",
            "1     (credit, report)       3957\n",
            "2     (account, chase)       3167\n",
            "3  (customer, service)       3076\n",
            "4      (chase, credit)       2921\n",
            "5     (chase, account)       2723\n",
            "6      (bank, account)       2465\n",
            "7   (account, account)       2405\n",
            "8     (check, account)       2302\n",
            "9        (chase, bank)       2183\n"
          ]
        }
      ],
      "source": [
        "#Print the top 10 words in the bigram frequency\n",
        "# Step 5: Get the top 10 most common bigrams\n",
        "top_10_bigrams = bigram_counts.most_common(10)\n",
        "\n",
        "# Convert to DataFrame for better readability (optional)\n",
        "top_10_df = pd.DataFrame(top_10_bigrams, columns=['Bigram', 'Frequency'])\n",
        "\n",
        "# Print the top 10 bigrams\n",
        "print(top_10_df)"
      ]
    },
    {
      "cell_type": "code",
      "execution_count": null,
      "metadata": {
        "colab": {
          "base_uri": "https://localhost:8080/"
        },
        "id": "Xkh7vtbtJrF-",
        "outputId": "857f1355-a604-442f-964b-8d0122526e25"
      },
      "outputs": [
        {
          "name": "stdout",
          "output_type": "stream",
          "text": [
            "                                Trigram  Frequency\n",
            "0                 (chase, credit, card)       1948\n",
            "1               (credit, card, account)       1096\n",
            "2               (credit, card, company)        987\n",
            "3                 (credit, card, chase)        744\n",
            "4             (inquiry, credit, report)        522\n",
            "5                (credit, card, credit)        521\n",
            "6               (account, credit, card)        488\n",
            "7                  (card, credit, card)        414\n",
            "8                (charge, credit, card)        409\n",
            "9            (chase, customer, service)        392\n",
            "10             (credit, report, credit)        381\n",
            "11          (credit, reporting, agency)        381\n",
            "12           (chase, checking, account)        379\n",
            "13  (customer, service, representative)        336\n",
            "14              (credit, card, payment)        304\n",
            "15            (account, chase, account)        301\n",
            "16               (chase, bank, account)        291\n",
            "17            (account, credit, report)        290\n",
            "18                 (bank, credit, card)        286\n",
            "19               (credit, card, charge)        285\n",
            "20              (credit, card, balance)        265\n",
            "21                 (credit, card, card)        263\n",
            "22               (chase, card, service)        263\n",
            "23               (chase, auto, finance)        259\n",
            "24             (credit, reporting, act)        258\n",
            "25              (credit, report, chase)        251\n",
            "26              (payment, credit, card)        251\n",
            "27            (victim, identity, theft)        250\n",
            "28                 (credit, card, bank)        236\n",
            "29              (freedom, credit, card)        233\n"
          ]
        }
      ],
      "source": [
        "from nltk import trigrams\n",
        "#Write your code here to find the top 30 trigram frequency among the complaints in the cleaned datafram(df_clean).\n",
        "# Step 1: Combine all complaints into a single string\n",
        "all_text = ' '.join(df_clean['complaint_clean'])\n",
        "\n",
        "# Step 2: Tokenize the text into words\n",
        "words = all_text.split()\n",
        "\n",
        "# Step 3: Generate trigrams from the list of words\n",
        "trigram_list = list(trigrams(words))\n",
        "\n",
        "# Step 4: Count frequencies of each trigram\n",
        "trigram_counts = Counter(trigram_list)\n",
        "\n",
        "# Step 5: Get the top 30 most common trigrams\n",
        "top_30_trigrams = trigram_counts.most_common(30)\n",
        "\n",
        "# Convert to DataFrame for better readability (optional)\n",
        "top_30_df = pd.DataFrame(top_30_trigrams, columns=['Trigram', 'Frequency'])\n",
        "\n",
        "# Print the top 30 trigrams\n",
        "print(top_30_df)"
      ]
    },
    {
      "cell_type": "code",
      "execution_count": null,
      "metadata": {
        "colab": {
          "base_uri": "https://localhost:8080/"
        },
        "id": "REcVxNfvJrF-",
        "outputId": "ce573919-90b5-4278-ae79-7e1f7b0e095c"
      },
      "outputs": [
        {
          "name": "stdout",
          "output_type": "stream",
          "text": [
            "                      Trigram  Frequency\n",
            "0       (chase, credit, card)       1948\n",
            "1     (credit, card, account)       1096\n",
            "2     (credit, card, company)        987\n",
            "3       (credit, card, chase)        744\n",
            "4   (inquiry, credit, report)        522\n",
            "5      (credit, card, credit)        521\n",
            "6     (account, credit, card)        488\n",
            "7        (card, credit, card)        414\n",
            "8      (charge, credit, card)        409\n",
            "9  (chase, customer, service)        392\n"
          ]
        }
      ],
      "source": [
        "#Print the top 10 words in the trigram frequency\n",
        "# Step 5: Get the top 10 most common trigrams\n",
        "top_10_trigrams = trigram_counts.most_common(10)\n",
        "\n",
        "# Convert to DataFrame for better readability (optional)\n",
        "top_10_df = pd.DataFrame(top_10_trigrams, columns=['Trigram', 'Frequency'])\n",
        "\n",
        "# Print the top 10 trigrams\n",
        "print(top_10_df)"
      ]
    },
    {
      "cell_type": "markdown",
      "metadata": {
        "id": "yUXzFji0JrF_"
      },
      "source": [
        "## The personal details of customer has been masked in the dataset with xxxx. Let's remove the masked text as this will be of no use for our analysis"
      ]
    },
    {
      "cell_type": "code",
      "execution_count": null,
      "metadata": {
        "colab": {
          "base_uri": "https://localhost:8080/",
          "height": 597
        },
        "id": "5VYSu-AnVPnK",
        "outputId": "f7feb355-495f-4e2b-d0e4-a2ce2b2580ca"
      },
      "outputs": [
        {
          "output_type": "execute_result",
          "data": {
            "text/plain": [
              "                                              complaints  \\\n",
              "0      good morning my name is and i appreciate it if...   \n",
              "1      i upgraded my card in and was told by the agen...   \n",
              "2      chase card was reported on however fraudulent ...   \n",
              "3      on while trying to book a ticket i came across...   \n",
              "4      my grand son give me check for i deposit it in...   \n",
              "...                                                  ...   \n",
              "21067  after being a chase card customer for well ove...   \n",
              "21068  on wednesday i called chas my visa credit card...   \n",
              "21069  i am not familiar with pay and did not underst...   \n",
              "21070  i have had flawless credit for yrs ive had cha...   \n",
              "21071  roughly years ago i closed out my accounts wit...   \n",
              "\n",
              "                                         complaint_clean  \\\n",
              "0      morning name stop bank cardmember service ask ...   \n",
              "1      card agent anniversary date agent information ...   \n",
              "2      chase card report application identity consent...   \n",
              "3      ticket offer ticket reward card information of...   \n",
              "4      son chase account fund chase bank account mone...   \n",
              "...                                                  ...   \n",
              "21067  chase card customer decade solicitation credit...   \n",
              "21068  visa credit card provider claim purchase prote...   \n",
              "21069  pay risk consumer chase bank app chase year ba...   \n",
              "21070  credit yrs chase credit card chase freedom pro...   \n",
              "21071  year account order line credit account payment...   \n",
              "\n",
              "                                    complaint_lemmatized  \\\n",
              "0      good morning my name be and I appreciate it if...   \n",
              "1      I upgrade my card in and be tell by the agent ...   \n",
              "2      chase card be report on however fraudulent app...   \n",
              "3      on while try to book a ticket I come across an...   \n",
              "4      my grand son give I check for I deposit it int...   \n",
              "...                                                  ...   \n",
              "21067  after be a chase card customer for well over a...   \n",
              "21068  on wednesday I call chas my visa credit card p...   \n",
              "21069  I be not familiar with pay and do not understa...   \n",
              "21070  I have have flawless credit for yrs I ve have ...   \n",
              "21071  roughly year ago I close out my account with j...   \n",
              "\n",
              "                                   complaint_POS_removed  \n",
              "0      morning name stop bank cardmember service ask ...  \n",
              "1      card agent anniversary date agent information ...  \n",
              "2      chase card report application identity consent...  \n",
              "3      ticket offer ticket reward card information of...  \n",
              "4      son chase account fund chase bank account mone...  \n",
              "...                                                  ...  \n",
              "21067  chase card customer decade solicitation credit...  \n",
              "21068  visa credit card provider claim purchase prote...  \n",
              "21069  pay risk consumer chase bank app chase year ba...  \n",
              "21070  credit yrs chase credit card chase freedom pro...  \n",
              "21071  year account order line credit account payment...  \n",
              "\n",
              "[21072 rows x 4 columns]"
            ],
            "text/html": [
              "\n",
              "  <div id=\"df-41a08f77-40cd-40e6-901d-fcff5fe9a14a\" class=\"colab-df-container\">\n",
              "    <div>\n",
              "<style scoped>\n",
              "    .dataframe tbody tr th:only-of-type {\n",
              "        vertical-align: middle;\n",
              "    }\n",
              "\n",
              "    .dataframe tbody tr th {\n",
              "        vertical-align: top;\n",
              "    }\n",
              "\n",
              "    .dataframe thead th {\n",
              "        text-align: right;\n",
              "    }\n",
              "</style>\n",
              "<table border=\"1\" class=\"dataframe\">\n",
              "  <thead>\n",
              "    <tr style=\"text-align: right;\">\n",
              "      <th></th>\n",
              "      <th>complaints</th>\n",
              "      <th>complaint_clean</th>\n",
              "      <th>complaint_lemmatized</th>\n",
              "      <th>complaint_POS_removed</th>\n",
              "    </tr>\n",
              "  </thead>\n",
              "  <tbody>\n",
              "    <tr>\n",
              "      <th>0</th>\n",
              "      <td>good morning my name is and i appreciate it if...</td>\n",
              "      <td>morning name stop bank cardmember service ask ...</td>\n",
              "      <td>good morning my name be and I appreciate it if...</td>\n",
              "      <td>morning name stop bank cardmember service ask ...</td>\n",
              "    </tr>\n",
              "    <tr>\n",
              "      <th>1</th>\n",
              "      <td>i upgraded my card in and was told by the agen...</td>\n",
              "      <td>card agent anniversary date agent information ...</td>\n",
              "      <td>I upgrade my card in and be tell by the agent ...</td>\n",
              "      <td>card agent anniversary date agent information ...</td>\n",
              "    </tr>\n",
              "    <tr>\n",
              "      <th>2</th>\n",
              "      <td>chase card was reported on however fraudulent ...</td>\n",
              "      <td>chase card report application identity consent...</td>\n",
              "      <td>chase card be report on however fraudulent app...</td>\n",
              "      <td>chase card report application identity consent...</td>\n",
              "    </tr>\n",
              "    <tr>\n",
              "      <th>3</th>\n",
              "      <td>on while trying to book a ticket i came across...</td>\n",
              "      <td>ticket offer ticket reward card information of...</td>\n",
              "      <td>on while try to book a ticket I come across an...</td>\n",
              "      <td>ticket offer ticket reward card information of...</td>\n",
              "    </tr>\n",
              "    <tr>\n",
              "      <th>4</th>\n",
              "      <td>my grand son give me check for i deposit it in...</td>\n",
              "      <td>son chase account fund chase bank account mone...</td>\n",
              "      <td>my grand son give I check for I deposit it int...</td>\n",
              "      <td>son chase account fund chase bank account mone...</td>\n",
              "    </tr>\n",
              "    <tr>\n",
              "      <th>...</th>\n",
              "      <td>...</td>\n",
              "      <td>...</td>\n",
              "      <td>...</td>\n",
              "      <td>...</td>\n",
              "    </tr>\n",
              "    <tr>\n",
              "      <th>21067</th>\n",
              "      <td>after being a chase card customer for well ove...</td>\n",
              "      <td>chase card customer decade solicitation credit...</td>\n",
              "      <td>after be a chase card customer for well over a...</td>\n",
              "      <td>chase card customer decade solicitation credit...</td>\n",
              "    </tr>\n",
              "    <tr>\n",
              "      <th>21068</th>\n",
              "      <td>on wednesday i called chas my visa credit card...</td>\n",
              "      <td>visa credit card provider claim purchase prote...</td>\n",
              "      <td>on wednesday I call chas my visa credit card p...</td>\n",
              "      <td>visa credit card provider claim purchase prote...</td>\n",
              "    </tr>\n",
              "    <tr>\n",
              "      <th>21069</th>\n",
              "      <td>i am not familiar with pay and did not underst...</td>\n",
              "      <td>pay risk consumer chase bank app chase year ba...</td>\n",
              "      <td>I be not familiar with pay and do not understa...</td>\n",
              "      <td>pay risk consumer chase bank app chase year ba...</td>\n",
              "    </tr>\n",
              "    <tr>\n",
              "      <th>21070</th>\n",
              "      <td>i have had flawless credit for yrs ive had cha...</td>\n",
              "      <td>credit yrs chase credit card chase freedom pro...</td>\n",
              "      <td>I have have flawless credit for yrs I ve have ...</td>\n",
              "      <td>credit yrs chase credit card chase freedom pro...</td>\n",
              "    </tr>\n",
              "    <tr>\n",
              "      <th>21071</th>\n",
              "      <td>roughly years ago i closed out my accounts wit...</td>\n",
              "      <td>year account order line credit account payment...</td>\n",
              "      <td>roughly year ago I close out my account with j...</td>\n",
              "      <td>year account order line credit account payment...</td>\n",
              "    </tr>\n",
              "  </tbody>\n",
              "</table>\n",
              "<p>21072 rows × 4 columns</p>\n",
              "</div>\n",
              "    <div class=\"colab-df-buttons\">\n",
              "\n",
              "  <div class=\"colab-df-container\">\n",
              "    <button class=\"colab-df-convert\" onclick=\"convertToInteractive('df-41a08f77-40cd-40e6-901d-fcff5fe9a14a')\"\n",
              "            title=\"Convert this dataframe to an interactive table.\"\n",
              "            style=\"display:none;\">\n",
              "\n",
              "  <svg xmlns=\"http://www.w3.org/2000/svg\" height=\"24px\" viewBox=\"0 -960 960 960\">\n",
              "    <path d=\"M120-120v-720h720v720H120Zm60-500h600v-160H180v160Zm220 220h160v-160H400v160Zm0 220h160v-160H400v160ZM180-400h160v-160H180v160Zm440 0h160v-160H620v160ZM180-180h160v-160H180v160Zm440 0h160v-160H620v160Z\"/>\n",
              "  </svg>\n",
              "    </button>\n",
              "\n",
              "  <style>\n",
              "    .colab-df-container {\n",
              "      display:flex;\n",
              "      gap: 12px;\n",
              "    }\n",
              "\n",
              "    .colab-df-convert {\n",
              "      background-color: #E8F0FE;\n",
              "      border: none;\n",
              "      border-radius: 50%;\n",
              "      cursor: pointer;\n",
              "      display: none;\n",
              "      fill: #1967D2;\n",
              "      height: 32px;\n",
              "      padding: 0 0 0 0;\n",
              "      width: 32px;\n",
              "    }\n",
              "\n",
              "    .colab-df-convert:hover {\n",
              "      background-color: #E2EBFA;\n",
              "      box-shadow: 0px 1px 2px rgba(60, 64, 67, 0.3), 0px 1px 3px 1px rgba(60, 64, 67, 0.15);\n",
              "      fill: #174EA6;\n",
              "    }\n",
              "\n",
              "    .colab-df-buttons div {\n",
              "      margin-bottom: 4px;\n",
              "    }\n",
              "\n",
              "    [theme=dark] .colab-df-convert {\n",
              "      background-color: #3B4455;\n",
              "      fill: #D2E3FC;\n",
              "    }\n",
              "\n",
              "    [theme=dark] .colab-df-convert:hover {\n",
              "      background-color: #434B5C;\n",
              "      box-shadow: 0px 1px 3px 1px rgba(0, 0, 0, 0.15);\n",
              "      filter: drop-shadow(0px 1px 2px rgba(0, 0, 0, 0.3));\n",
              "      fill: #FFFFFF;\n",
              "    }\n",
              "  </style>\n",
              "\n",
              "    <script>\n",
              "      const buttonEl =\n",
              "        document.querySelector('#df-41a08f77-40cd-40e6-901d-fcff5fe9a14a button.colab-df-convert');\n",
              "      buttonEl.style.display =\n",
              "        google.colab.kernel.accessAllowed ? 'block' : 'none';\n",
              "\n",
              "      async function convertToInteractive(key) {\n",
              "        const element = document.querySelector('#df-41a08f77-40cd-40e6-901d-fcff5fe9a14a');\n",
              "        const dataTable =\n",
              "          await google.colab.kernel.invokeFunction('convertToInteractive',\n",
              "                                                    [key], {});\n",
              "        if (!dataTable) return;\n",
              "\n",
              "        const docLinkHtml = 'Like what you see? Visit the ' +\n",
              "          '<a target=\"_blank\" href=https://colab.research.google.com/notebooks/data_table.ipynb>data table notebook</a>'\n",
              "          + ' to learn more about interactive tables.';\n",
              "        element.innerHTML = '';\n",
              "        dataTable['output_type'] = 'display_data';\n",
              "        await google.colab.output.renderOutput(dataTable, element);\n",
              "        const docLink = document.createElement('div');\n",
              "        docLink.innerHTML = docLinkHtml;\n",
              "        element.appendChild(docLink);\n",
              "      }\n",
              "    </script>\n",
              "  </div>\n",
              "\n",
              "\n",
              "<div id=\"df-d85fe10f-6931-42bb-b0b3-7678a49817ac\">\n",
              "  <button class=\"colab-df-quickchart\" onclick=\"quickchart('df-d85fe10f-6931-42bb-b0b3-7678a49817ac')\"\n",
              "            title=\"Suggest charts\"\n",
              "            style=\"display:none;\">\n",
              "\n",
              "<svg xmlns=\"http://www.w3.org/2000/svg\" height=\"24px\"viewBox=\"0 0 24 24\"\n",
              "     width=\"24px\">\n",
              "    <g>\n",
              "        <path d=\"M19 3H5c-1.1 0-2 .9-2 2v14c0 1.1.9 2 2 2h14c1.1 0 2-.9 2-2V5c0-1.1-.9-2-2-2zM9 17H7v-7h2v7zm4 0h-2V7h2v10zm4 0h-2v-4h2v4z\"/>\n",
              "    </g>\n",
              "</svg>\n",
              "  </button>\n",
              "\n",
              "<style>\n",
              "  .colab-df-quickchart {\n",
              "      --bg-color: #E8F0FE;\n",
              "      --fill-color: #1967D2;\n",
              "      --hover-bg-color: #E2EBFA;\n",
              "      --hover-fill-color: #174EA6;\n",
              "      --disabled-fill-color: #AAA;\n",
              "      --disabled-bg-color: #DDD;\n",
              "  }\n",
              "\n",
              "  [theme=dark] .colab-df-quickchart {\n",
              "      --bg-color: #3B4455;\n",
              "      --fill-color: #D2E3FC;\n",
              "      --hover-bg-color: #434B5C;\n",
              "      --hover-fill-color: #FFFFFF;\n",
              "      --disabled-bg-color: #3B4455;\n",
              "      --disabled-fill-color: #666;\n",
              "  }\n",
              "\n",
              "  .colab-df-quickchart {\n",
              "    background-color: var(--bg-color);\n",
              "    border: none;\n",
              "    border-radius: 50%;\n",
              "    cursor: pointer;\n",
              "    display: none;\n",
              "    fill: var(--fill-color);\n",
              "    height: 32px;\n",
              "    padding: 0;\n",
              "    width: 32px;\n",
              "  }\n",
              "\n",
              "  .colab-df-quickchart:hover {\n",
              "    background-color: var(--hover-bg-color);\n",
              "    box-shadow: 0 1px 2px rgba(60, 64, 67, 0.3), 0 1px 3px 1px rgba(60, 64, 67, 0.15);\n",
              "    fill: var(--button-hover-fill-color);\n",
              "  }\n",
              "\n",
              "  .colab-df-quickchart-complete:disabled,\n",
              "  .colab-df-quickchart-complete:disabled:hover {\n",
              "    background-color: var(--disabled-bg-color);\n",
              "    fill: var(--disabled-fill-color);\n",
              "    box-shadow: none;\n",
              "  }\n",
              "\n",
              "  .colab-df-spinner {\n",
              "    border: 2px solid var(--fill-color);\n",
              "    border-color: transparent;\n",
              "    border-bottom-color: var(--fill-color);\n",
              "    animation:\n",
              "      spin 1s steps(1) infinite;\n",
              "  }\n",
              "\n",
              "  @keyframes spin {\n",
              "    0% {\n",
              "      border-color: transparent;\n",
              "      border-bottom-color: var(--fill-color);\n",
              "      border-left-color: var(--fill-color);\n",
              "    }\n",
              "    20% {\n",
              "      border-color: transparent;\n",
              "      border-left-color: var(--fill-color);\n",
              "      border-top-color: var(--fill-color);\n",
              "    }\n",
              "    30% {\n",
              "      border-color: transparent;\n",
              "      border-left-color: var(--fill-color);\n",
              "      border-top-color: var(--fill-color);\n",
              "      border-right-color: var(--fill-color);\n",
              "    }\n",
              "    40% {\n",
              "      border-color: transparent;\n",
              "      border-right-color: var(--fill-color);\n",
              "      border-top-color: var(--fill-color);\n",
              "    }\n",
              "    60% {\n",
              "      border-color: transparent;\n",
              "      border-right-color: var(--fill-color);\n",
              "    }\n",
              "    80% {\n",
              "      border-color: transparent;\n",
              "      border-right-color: var(--fill-color);\n",
              "      border-bottom-color: var(--fill-color);\n",
              "    }\n",
              "    90% {\n",
              "      border-color: transparent;\n",
              "      border-bottom-color: var(--fill-color);\n",
              "    }\n",
              "  }\n",
              "</style>\n",
              "\n",
              "  <script>\n",
              "    async function quickchart(key) {\n",
              "      const quickchartButtonEl =\n",
              "        document.querySelector('#' + key + ' button');\n",
              "      quickchartButtonEl.disabled = true;  // To prevent multiple clicks.\n",
              "      quickchartButtonEl.classList.add('colab-df-spinner');\n",
              "      try {\n",
              "        const charts = await google.colab.kernel.invokeFunction(\n",
              "            'suggestCharts', [key], {});\n",
              "      } catch (error) {\n",
              "        console.error('Error during call to suggestCharts:', error);\n",
              "      }\n",
              "      quickchartButtonEl.classList.remove('colab-df-spinner');\n",
              "      quickchartButtonEl.classList.add('colab-df-quickchart-complete');\n",
              "    }\n",
              "    (() => {\n",
              "      let quickchartButtonEl =\n",
              "        document.querySelector('#df-d85fe10f-6931-42bb-b0b3-7678a49817ac button');\n",
              "      quickchartButtonEl.style.display =\n",
              "        google.colab.kernel.accessAllowed ? 'block' : 'none';\n",
              "    })();\n",
              "  </script>\n",
              "</div>\n",
              "\n",
              "  <div id=\"id_56b218e2-0b54-4387-9c87-568685e0c167\">\n",
              "    <style>\n",
              "      .colab-df-generate {\n",
              "        background-color: #E8F0FE;\n",
              "        border: none;\n",
              "        border-radius: 50%;\n",
              "        cursor: pointer;\n",
              "        display: none;\n",
              "        fill: #1967D2;\n",
              "        height: 32px;\n",
              "        padding: 0 0 0 0;\n",
              "        width: 32px;\n",
              "      }\n",
              "\n",
              "      .colab-df-generate:hover {\n",
              "        background-color: #E2EBFA;\n",
              "        box-shadow: 0px 1px 2px rgba(60, 64, 67, 0.3), 0px 1px 3px 1px rgba(60, 64, 67, 0.15);\n",
              "        fill: #174EA6;\n",
              "      }\n",
              "\n",
              "      [theme=dark] .colab-df-generate {\n",
              "        background-color: #3B4455;\n",
              "        fill: #D2E3FC;\n",
              "      }\n",
              "\n",
              "      [theme=dark] .colab-df-generate:hover {\n",
              "        background-color: #434B5C;\n",
              "        box-shadow: 0px 1px 3px 1px rgba(0, 0, 0, 0.15);\n",
              "        filter: drop-shadow(0px 1px 2px rgba(0, 0, 0, 0.3));\n",
              "        fill: #FFFFFF;\n",
              "      }\n",
              "    </style>\n",
              "    <button class=\"colab-df-generate\" onclick=\"generateWithVariable('df_clean')\"\n",
              "            title=\"Generate code using this dataframe.\"\n",
              "            style=\"display:none;\">\n",
              "\n",
              "  <svg xmlns=\"http://www.w3.org/2000/svg\" height=\"24px\"viewBox=\"0 0 24 24\"\n",
              "       width=\"24px\">\n",
              "    <path d=\"M7,19H8.4L18.45,9,17,7.55,7,17.6ZM5,21V16.75L18.45,3.32a2,2,0,0,1,2.83,0l1.4,1.43a1.91,1.91,0,0,1,.58,1.4,1.91,1.91,0,0,1-.58,1.4L9.25,21ZM18.45,9,17,7.55Zm-12,3A5.31,5.31,0,0,0,4.9,8.1,5.31,5.31,0,0,0,1,6.5,5.31,5.31,0,0,0,4.9,4.9,5.31,5.31,0,0,0,6.5,1,5.31,5.31,0,0,0,8.1,4.9,5.31,5.31,0,0,0,12,6.5,5.46,5.46,0,0,0,6.5,12Z\"/>\n",
              "  </svg>\n",
              "    </button>\n",
              "    <script>\n",
              "      (() => {\n",
              "      const buttonEl =\n",
              "        document.querySelector('#id_56b218e2-0b54-4387-9c87-568685e0c167 button.colab-df-generate');\n",
              "      buttonEl.style.display =\n",
              "        google.colab.kernel.accessAllowed ? 'block' : 'none';\n",
              "\n",
              "      buttonEl.onclick = () => {\n",
              "        google.colab.notebook.generateWithVariable('df_clean');\n",
              "      }\n",
              "      })();\n",
              "    </script>\n",
              "  </div>\n",
              "\n",
              "    </div>\n",
              "  </div>\n"
            ],
            "application/vnd.google.colaboratory.intrinsic+json": {
              "type": "dataframe",
              "variable_name": "df_clean",
              "summary": "{\n  \"name\": \"df_clean\",\n  \"rows\": 21072,\n  \"fields\": [\n    {\n      \"column\": \"complaints\",\n      \"properties\": {\n        \"dtype\": \"string\",\n        \"num_unique_values\": 20840,\n        \"samples\": [\n          \"back in i entered demographic information to an online chase bank that was never responded to i never received an account number savings account number or debit card so because their were no chase branches in i went to to visit a branch unfortunately it wasnt accessible to pedestrians i then saw the same offer i went to a branch opened an account when it was time for the promotional offer if a new chase customer you get for opening a checking and for opening a savings account when it was time to pay they said i had an account already the promotion is only for new chase customers\",\n          \"chase received the following notice on to chase message center co decision to lower credit line on account ending remains contested on fairness and abuse ofdiscretion your decision to lower credit line on account ending remains contested on fairness and abuse ofdiscretion your decision to close credit line on account ending remains contested on fairness and abuse ofdiscretion chase cardservice based on the action below is inviolation of or certain provisions of the followinglaws truth in lending act tila fair credit billing act fcba fair credit reporting act fcra fair debt collection practice act fdcpa the credit card act cca equal credit opportunity act ecoa and including butnot limited to electronic funds transfer act efta while some courts and administrative agencies havedetermined fairness to mean hiking up an interestrate on an existing balance or allowing a customer togo overlimit and then imposing an overlimit fee currentlaw supports a significant change by a creditor is to beaccompanied by notice fortyfive days prior to thechange in this case chase lowered account ending without notice and proper cause violates the law this account having several months in the customerscredit file significantly changed the customer s ficocredit score and perception creditworthiness amongst othercreditors these changes subject chase cardservices andaffiliates to liability for damages including thenegative fico impact to customer because your action isneither supported by sufficient reasoning nor byapplicable federal law in this case chase closed account ending without notice and proper cause violates the law this account having several months in the customerscredit file significantly changed the customer s ficocredit score and perception creditworthiness amongst othercreditors these changes subject chase cardservices andaffiliates to liability for damages including thenegative fico impact to customer because your action isneither supported by sufficient reasoning nor byapplicable federal law in this case chase cardservice lowered account ending without notice and proper cause violates the law this account having several months in the customerscredit file significantly changed the customer s ficocredit score and perception creditworthiness amongst othercreditors these changes subject chase cardservices andaffiliates to liability for damages including thenegative fico impact to customer because your action isneither supported by sufficient reasoning nor byapplicable federal law customer notes he has always paid this and all accountsontime without delinquency the generic reasoning inyour prior letter correspondence is vague overbroad lacks good faith and does not sufficiently or timelynotify the customer of your action pursuant to applicablelaw thus demand is for apr reduction to percent introand reinstatement based on your generic reasoning to ensure reduced risk of credit exposure and further your action on all accounts impacts acustomer that resides in a lowtomoderate incomecommunity in president obamastownship if your action is found to be inequitable basedon zipcode or other demographic information that mayinfluence your companies credit decisions you may besubject to punitive fines and other penalties on the basisof redlining violations of ecoa and otherantidiscriminatory laws we respectfully request that you reconsider your decision\",\n          \"i am a victim of predatory lending by chase bank i was preyed upon by a chase loan officer following an accident and he talked me into consolidating my existing mortgage line of credit and other debts into a ridiculously unaffordable and impractical year interestonly mortgage that would then become a year variable rate mortgage in effect i would have ended up paying off my house three times i realized this within a month and contacted chase asking to convert the loan to a year fixed loan eliminating the years interestonly portion which would have saved me many many thousands of dollars they refused to work with me in any way and were completely unmoved by my medical condition and inability to pay off this loan i know for a fact that the loan officer falsified documents to secure approval of this nodoc loan ultimately the sheriff showed up and gave me two weeks to vacate there were no legal papers served no notifications or warnings of any kind new york is a judicial foreclosure state meaning that any foreclosure must be approved by a judge there were no hearings no attorneys no court appearances and therefore new york state law was not followed in effect chase stole my home from me without due process i have contacted them numerous times and quite mysteriously all of the documents supporting my claim are unavailable is no longer employed by chase and they are unwilling to discuss a settlement of any kind i believe i am legally entitled to some form of restitution for their unlawful actions i have many documents to support my claim\"\n        ],\n        \"semantic_type\": \"\",\n        \"description\": \"\"\n      }\n    },\n    {\n      \"column\": \"complaint_clean\",\n      \"properties\": {\n        \"dtype\": \"string\",\n        \"num_unique_values\": 20730,\n        \"samples\": [\n          \"payment check bank mortgage company mortgage company check wire transfer amount payment wire transfer money account excess cash check account overdraft fee overdraft protection check account wife account holder draft sign account notification bank account notification system bank money mortgage company withdrawal money lack fund account payment chase freedom credit card wife holder account payment andor payment credit report majority fee purchase day day charge overdraft fee time day system notify customer service account inform inquire credit inform problem chase customer year lawyer issue mortgage company dollar situation satisfaction lot\",\n          \"mortgage chase payment system customer service issue payment amount payment payment payment date day month month chase customer service month payment chase deduct amount duress amount show month payment chase customer service system\",\n          \"phone hour minute chase employee fraud dept chase point credit card criminal husband phone call criminal boss management hour minute call customer service measure meantime chase replacement card replacement card time account card time card card theft idea kind screen processidentification process use call one office peep email response chase call yesterday line boss name case one call case number customer year ignore today joke bank customer bank card chase answer ignore\"\n        ],\n        \"semantic_type\": \"\",\n        \"description\": \"\"\n      }\n    },\n    {\n      \"column\": \"complaint_lemmatized\",\n      \"properties\": {\n        \"dtype\": \"string\",\n        \"num_unique_values\": 20834,\n        \"samples\": [\n          \"be show inquiry on my credit report that I do not authorize and I have contact about correct and remove these item\",\n          \"I receive a message from company who say it be attempt to collect a debt I owe I call the number back who say it be a non working number for chase this same company leave a message on other phone number that have never be associate with any account I have it be disclose on answer machinesvoicemail that they be attempt to collect a debt from I\",\n          \"one of my check be be steal from the recipient and somebody else cash the check of us dollar in I contact chase bank over time and send back the form they requite time and they claim they never receive it and ask I to send again\"\n        ],\n        \"semantic_type\": \"\",\n        \"description\": \"\"\n      }\n    },\n    {\n      \"column\": \"complaint_POS_removed\",\n      \"properties\": {\n        \"dtype\": \"string\",\n        \"num_unique_values\": 20730,\n        \"samples\": [\n          \"payment check bank mortgage company mortgage company check wire transfer amount payment wire transfer money account excess cash check account overdraft fee overdraft protection check account wife account holder draft sign account notification bank account notification system bank money mortgage company withdrawal money lack fund account payment chase freedom credit card wife holder account payment andor payment credit report majority fee purchase day day charge overdraft fee time day system notify customer service account inform inquire credit inform problem chase customer year lawyer issue mortgage company dollar situation satisfaction lot\",\n          \"mortgage chase payment system customer service issue payment amount payment payment payment date day month month chase customer service month payment chase deduct amount duress amount show month payment chase customer service system\",\n          \"phone hour minute chase employee fraud dept chase point credit card criminal husband phone call criminal boss management hour minute call customer service measure meantime chase replacement card replacement card time account card time card card theft idea kind screen processidentification process use call one office peep email response chase call yesterday line boss name case one call case number customer year ignore today joke bank customer bank card chase answer ignore\"\n        ],\n        \"semantic_type\": \"\",\n        \"description\": \"\"\n      }\n    }\n  ]\n}"
            }
          },
          "metadata": {},
          "execution_count": 14
        }
      ],
      "source": [
        "# Read CSV file into a DataFrame\n",
        "df_clean = pd.read_csv('complaints_limp.csv')\n",
        "df_clean['complaint_clean'] = df_clean['complaint_POS_removed']\n",
        "df_clean"
      ]
    },
    {
      "cell_type": "markdown",
      "metadata": {
        "id": "k-I0k0QtJrGA"
      },
      "source": [
        "# **6. Feature Extraction**\n",
        "Convierta los textos sin procesar en una matriz de características TF-IDF\n",
        "\n",
        "**max_df** is used for removing terms that appear too frequently, also known as \"corpus-specific stop words\"\n",
        "max_df = 0.95 means \"ignore terms that appear in more than 95% of the complaints\"\n",
        "\n",
        "**min_df** is used for removing terms that appear too infrequently\n",
        "min_df = 2 means \"ignore terms that appear in less than 2 complaints\""
      ]
    },
    {
      "cell_type": "code",
      "execution_count": null,
      "metadata": {
        "colab": {
          "base_uri": "https://localhost:8080/"
        },
        "id": "1YU-Yic8Yllq",
        "outputId": "ce574df2-7f29-4755-bce7-0cc6573ad64c"
      },
      "outputs": [
        {
          "output_type": "execute_result",
          "data": {
            "text/plain": [
              "(21072, 4)"
            ]
          },
          "metadata": {},
          "execution_count": 15
        }
      ],
      "source": [
        "df_clean.shape"
      ]
    },
    {
      "cell_type": "code",
      "execution_count": null,
      "metadata": {
        "colab": {
          "base_uri": "https://localhost:8080/"
        },
        "id": "uYDlM-PzYA2Q",
        "outputId": "e261ec08-f00a-4edf-ff56-8d087ded8b9a"
      },
      "outputs": [
        {
          "output_type": "stream",
          "name": "stdout",
          "text": [
            "Missing values in 'complaint_clean':\n",
            "1\n"
          ]
        }
      ],
      "source": [
        "# Step 1: Check for missing values\n",
        "print(\"Missing values in 'complaint_clean':\")\n",
        "print(df_clean['complaint_clean'].isnull().sum())"
      ]
    },
    {
      "cell_type": "code",
      "source": [
        "# Option 1: Drop rows with missing values\n",
        "df_clean = df_clean.dropna(subset=['complaint_clean'])"
      ],
      "metadata": {
        "id": "SSy-5o_AaDwy"
      },
      "execution_count": null,
      "outputs": []
    },
    {
      "cell_type": "code",
      "execution_count": null,
      "metadata": {
        "colab": {
          "base_uri": "https://localhost:8080/"
        },
        "id": "FYubQb-aY4CU",
        "outputId": "c710e48a-aeb4-4661-abe3-ff6dafd1a5d8"
      },
      "outputs": [
        {
          "output_type": "stream",
          "name": "stdout",
          "text": [
            "        aa  aarp  abandonment  abatement  abbreviation  abet  abide  ability  \\\n",
            "0      0.0   0.0          0.0        0.0           0.0   0.0    0.0      0.0   \n",
            "1      0.0   0.0          0.0        0.0           0.0   0.0    0.0      0.0   \n",
            "2      0.0   0.0          0.0        0.0           0.0   0.0    0.0      0.0   \n",
            "3      0.0   0.0          0.0        0.0           0.0   0.0    0.0      0.0   \n",
            "4      0.0   0.0          0.0        0.0           0.0   0.0    0.0      0.0   \n",
            "...    ...   ...          ...        ...           ...   ...    ...      ...   \n",
            "21066  0.0   0.0          0.0        0.0           0.0   0.0    0.0      0.0   \n",
            "21067  0.0   0.0          0.0        0.0           0.0   0.0    0.0      0.0   \n",
            "21068  0.0   0.0          0.0        0.0           0.0   0.0    0.0      0.0   \n",
            "21069  0.0   0.0          0.0        0.0           0.0   0.0    0.0      0.0   \n",
            "21070  0.0   0.0          0.0        0.0           0.0   0.0    0.0      0.0   \n",
            "\n",
            "       about  abovementione  ...  your  youth   yr      yrs  ytd  zilch  zip  \\\n",
            "0        0.0            0.0  ...   0.0    0.0  0.0  0.00000  0.0    0.0  0.0   \n",
            "1        0.0            0.0  ...   0.0    0.0  0.0  0.00000  0.0    0.0  0.0   \n",
            "2        0.0            0.0  ...   0.0    0.0  0.0  0.00000  0.0    0.0  0.0   \n",
            "3        0.0            0.0  ...   0.0    0.0  0.0  0.00000  0.0    0.0  0.0   \n",
            "4        0.0            0.0  ...   0.0    0.0  0.0  0.00000  0.0    0.0  0.0   \n",
            "...      ...            ...  ...   ...    ...  ...      ...  ...    ...  ...   \n",
            "21066    0.0            0.0  ...   0.0    0.0  0.0  0.00000  0.0    0.0  0.0   \n",
            "21067    0.0            0.0  ...   0.0    0.0  0.0  0.00000  0.0    0.0  0.0   \n",
            "21068    0.0            0.0  ...   0.0    0.0  0.0  0.00000  0.0    0.0  0.0   \n",
            "21069    0.0            0.0  ...   0.0    0.0  0.0  0.14307  0.0    0.0  0.0   \n",
            "21070    0.0            0.0  ...   0.0    0.0  0.0  0.00000  0.0    0.0  0.0   \n",
            "\n",
            "       zombie  zone  zoom  \n",
            "0         0.0   0.0   0.0  \n",
            "1         0.0   0.0   0.0  \n",
            "2         0.0   0.0   0.0  \n",
            "3         0.0   0.0   0.0  \n",
            "4         0.0   0.0   0.0  \n",
            "...       ...   ...   ...  \n",
            "21066     0.0   0.0   0.0  \n",
            "21067     0.0   0.0   0.0  \n",
            "21068     0.0   0.0   0.0  \n",
            "21069     0.0   0.0   0.0  \n",
            "21070     0.0   0.0   0.0  \n",
            "\n",
            "[21071 rows x 7033 columns]\n"
          ]
        }
      ],
      "source": [
        "# Write your code here to initialise the TfidfVectorizer\n",
        "\n",
        "# Step 3: Initialize the TfidfVectorizer\n",
        "vectorizer = TfidfVectorizer(max_df=0.95, min_df=2)\n",
        "\n",
        "# Step 4: Fit and transform the data to create the TF-IDF matrix\n",
        "tfidf_matrix = vectorizer.fit_transform(df_clean['complaint_clean'])\n",
        "\n",
        "# Convert the TF-IDF matrix to a DataFrame for better readability (optional)\n",
        "tfidf_df = pd.DataFrame(tfidf_matrix.toarray(), columns=vectorizer.get_feature_names_out())\n",
        "\n",
        "# Print the resulting TF-IDF DataFrame\n",
        "print(tfidf_df)"
      ]
    },
    {
      "cell_type": "markdown",
      "metadata": {
        "id": "yYzD85nTJrGA"
      },
      "source": [
        "#### Create a document term matrix using fit_transform\n",
        "\n",
        "The contents of a document term matrix are tuples of (complaint_id,token_id) tf-idf score:\n",
        "The tuples that are not there have a tf-idf score of 0"
      ]
    },
    {
      "cell_type": "code",
      "execution_count": null,
      "metadata": {
        "id": "8OjygDnldnV9"
      },
      "outputs": [],
      "source": [
        "df_clean.reset_index(drop=True, inplace=True)  # Reset index and drop the old index\n",
        "df_clean['complaint_id'] = df_clean.index + 1  # Create complaint_id starting from 1"
      ]
    },
    {
      "cell_type": "code",
      "execution_count": null,
      "metadata": {
        "id": "ffzdDpp_JrGB",
        "colab": {
          "base_uri": "https://localhost:8080/"
        },
        "outputId": "5edf7b51-d995-464f-956c-c67fae5bfd13"
      },
      "outputs": [
        {
          "output_type": "stream",
          "name": "stdout",
          "text": [
            "        complaint_id  token_id  tfidf_score\n",
            "0                  1        38     0.074945\n",
            "1                  1       125     0.243146\n",
            "2                  1       372     0.257005\n",
            "3                  1       529     0.186046\n",
            "4                  1       905     0.302363\n",
            "...              ...       ...          ...\n",
            "645610         21071      5328     0.122302\n",
            "645611         21071      5605     0.233167\n",
            "645612         21071      5699     0.124091\n",
            "645613         21071      6012     0.123346\n",
            "645614         21071      7011     0.353645\n",
            "\n",
            "[645615 rows x 3 columns]\n"
          ]
        }
      ],
      "source": [
        "# Write your code here to create the Document Term Matrix by transforming the complaints column present in df_clean.\n",
        "# Step 4: Create a Document-Term Matrix with tuples of (complaint_id, token_id)\n",
        "dtm = []\n",
        "for i in range(tfidf_df.shape[0]):  # Iterate over each complaint\n",
        "    for j in range(tfidf_df.shape[1]):  # Iterate over each token\n",
        "        if tfidf_df.iloc[i, j] > 0:  # Only consider non-zero scores\n",
        "            dtm.append((df_clean['complaint_id'].iloc[i], j, tfidf_df.iloc[i, j]))\n",
        "\n",
        "# Convert to DataFrame for better readability (optional)\n",
        "dtm_df = pd.DataFrame(dtm, columns=['complaint_id', 'token_id', 'tfidf_score'])\n",
        "\n",
        "# Print the resulting Document-Term Matrix\n",
        "print(dtm_df)\n",
        "\n",
        "\n",
        "# Guardar el DataFrame en un archivo CSV\n",
        "dtm_df.to_csv('dtm_df.csv', index=False, encoding='utf-8-sig')"
      ]
    },
    {
      "cell_type": "code",
      "execution_count": null,
      "metadata": {
        "id": "CMvMWGZd0vhZ"
      },
      "outputs": [],
      "source": [
        "# Read CSV file into a DataFrame\n",
        "dtm_df = pd.read_csv('dtm_df.csv')"
      ]
    },
    {
      "cell_type": "markdown",
      "metadata": {
        "id": "7Q9lwvNEJrGB"
      },
      "source": [
        "## Topic Modelling using NMF\n",
        "\n",
        "Non-Negative Matrix Factorization (NMF) es una técnica no supervisada, por lo que no hay etiquetas de temas en los que se entrenará el modelo. La forma en que funciona es que NMF descompone (o factoriza) vectores de alta dimensión en una representación de menor dimensión. Estos vectores de menor dimensión no son negativos, lo que también significa que sus coeficientes no son negativos.\n",
        "\n",
        "En esta tarea tienes que realizar lo siguiente:\n",
        "\n",
        "* Find the best number of clusters\n",
        "* Apply the best number to create word clusters\n",
        "* Inspect & validate the correction of each cluster wrt the complaints\n",
        "* Correct the labels if needed\n",
        "* Map the clusters to topics/cluster names\n",
        "\n",
        "* Encuentra el mejor número de clústeres\n",
        "* Aplicar el mejor número para crear grupos de palabras\n",
        "* Inspeccionar y validar la corrección de cada grupo frente a las quejas (Complaints)\n",
        "* Corrija las etiquetas si es necesario\n",
        "* Mapear el grupo de nombres de topicos/clusters"
      ]
    },
    {
      "cell_type": "markdown",
      "metadata": {
        "id": "FtxrvNHqUivc"
      },
      "source": [
        "To determine the optimal number of clusters for NMF, you can use techniques like the elbow method or silhouette score.\n",
        "**Elbow Method**"
      ]
    },
    {
      "cell_type": "code",
      "execution_count": null,
      "metadata": {
        "id": "amLT4omWJrGB"
      },
      "outputs": [],
      "source": [
        "from sklearn.decomposition import NMF"
      ]
    },
    {
      "cell_type": "code",
      "execution_count": null,
      "metadata": {
        "colab": {
          "base_uri": "https://localhost:8080/",
          "height": 564
        },
        "id": "9yZMt9JBUgWw",
        "outputId": "c6dc224c-4c6d-459b-d050-c9fe318b6620"
      },
      "outputs": [
        {
          "output_type": "display_data",
          "data": {
            "text/plain": [
              "<Figure size 1000x600 with 1 Axes>"
            ],
            "image/png": "[encoded data removed]"
          },
          "metadata": {}
        }
      ],
      "source": [
        "def plot_elbow_method(tfidf_matrix):\n",
        "    num_topics = range(2, 20)\n",
        "    scores = []\n",
        "\n",
        "    for n in num_topics:\n",
        "        nmf_model = NMF(n_components=n, random_state=42)\n",
        "        W = nmf_model.fit_transform(tfidf_matrix)\n",
        "        H = nmf_model.components_\n",
        "\n",
        "        # Calculate reconstruction error (using Frobenius norm)\n",
        "        score = nmf_model.reconstruction_err_\n",
        "        scores.append(score)\n",
        "\n",
        "    plt.figure(figsize=(10, 6))\n",
        "    plt.plot(num_topics, scores, marker='o')\n",
        "    plt.title('Elbow Method for Optimal Number of Topics')\n",
        "    plt.xlabel('Number of Topics')\n",
        "    plt.ylabel('Reconstruction Error')\n",
        "    plt.xticks(num_topics)\n",
        "    plt.grid()\n",
        "    plt.show()\n",
        "\n",
        "plot_elbow_method(tfidf_matrix)"
      ]
    },
    {
      "cell_type": "markdown",
      "source": [
        "**def plot_elbow_method(tfidf_matrix):** Esta línea define una función llamada plot_elbow_method, que toma un parámetro: tfidf_matrix. Este parámetro es probablemente una matriz que representa la frecuencia de términos en un conjunto de documentos, procesada a través de TF-IDF (Term Frequency-Inverse Document Frequency).\n",
        "\n",
        "**num_topics:** Se define un rango que va desde 2 hasta 19 (inclusive). Este rango determinará cuántos temas diferentes se considerarán para el modelo.\n",
        "scores: Se inicializa una lista vacía que se utilizará para almacenar los puntajes de error de reconstrucción para cada número de temas.\n",
        "\n",
        "**Bucle for n in num_topics:** Este bucle itera sobre cada número de temas (2 a 19).\n",
        "NMF(n_components=n, random_state=42): Se crea un modelo NMF (Non-negative Matrix Factorization) con n componentes (temas). random_state=42 asegura que los resultados sean reproducibles.\n",
        "W = nmf_model.fit_transform(tfidf_matrix): Se ajusta el modelo a la tfidf_matrix y se obtiene la matriz W, que representa las relaciones entre los documentos y los temas. H = nmf_model.components_: Se obtiene la matriz H que representa los temas y sus contribuciones a los términos.\n",
        "**score = nmf_model.reconstruction_err_**: Se calcula el error de reconstrucción del modelo, que mide qué tan bien el modelo NMF ha podido aproximar la matriz de entrada. Este error se basa en la norma de Frobenius.\n",
        "scores.append(score): Se agrega el puntaje del error de reconstrucción a la lista scores.\n",
        "**plt.figure(figsize=(10, 6))**: Se crea una nueva figura para la gráfica con un tamaño de 10x6 pulgadas.\n",
        "plt.plot(num_topics, scores, marker='o'): Se grafica la relación entre el número de temas y los puntajes de error de reconstrucción. Se utiliza un marcador tipo \"o\" para los puntos en la gráfica.\n",
        "plt.title(...), plt.xlabel(...), plt.ylabel(...): Se definen el título y las etiquetas de los ejes de la gráfica.\n",
        "plt.xticks(num_topics): Se establecen las marcas del eje x según los números de temas considerados.\n",
        "plt.grid(): Se añade una cuadrícula a la gráfica para mejorar la legibilidad.\n",
        "plt.show(): Se muestra la gráfica generada.\n",
        "\n",
        "**Se llama a la función plot_elbow_method** y se le pasa la matriz tfidf_matrix, lo que inicia todo el proceso anterior: entrenamiento del modelo, cálculo de errores y visualización de resultados.\n",
        "\n",
        "# **Conclusión**\n",
        "\n",
        "Sí hay mejora al aumentar los temas, pero a partir de un cierto punto (9-11), cada tema adicional proporciona una mejora menor en la calidad del modelo.\n",
        "Este es el punto óptimo para decidir cuántos temas utilizar. Así que, aunque puedes seguir añadiendo temas, no necesariamente obtendrás mejoras que justifiquen la complejidad adicional del modelo."
      ],
      "metadata": {
        "id": "JXPdiSg9TtPd"
      }
    },
    {
      "cell_type": "markdown",
      "metadata": {
        "id": "Puhh0hbas2ST"
      },
      "source": [
        "**Silhouette Score**\n",
        "You can also calculate silhouette scores for different numbers of topics:"
      ]
    },
    {
      "cell_type": "code",
      "execution_count": null,
      "metadata": {
        "colab": {
          "base_uri": "https://localhost:8080/",
          "height": 564
        },
        "id": "sSMONPpttDAA",
        "outputId": "1d14e2ae-c67d-4bbb-ee77-64024406b269"
      },
      "outputs": [
        {
          "output_type": "display_data",
          "data": {
            "text/plain": [
              "<Figure size 1000x600 with 1 Axes>"
            ],
            "image/png": "[encoded data removed]"
          },
          "metadata": {}
        }
      ],
      "source": [
        "from sklearn.metrics import silhouette_score\n",
        "def calculate_silhouette_scores(tfidf_matrix):\n",
        "    num_topics = range(2, 20)\n",
        "    silhouette_scores = []\n",
        "\n",
        "    for n in num_topics:\n",
        "        nmf_model = NMF(n_components=n, random_state=42)\n",
        "        W = nmf_model.fit_transform(tfidf_matrix)\n",
        "\n",
        "        # Calculate silhouette score\n",
        "        if W.shape[0] > 1:\n",
        "            score = silhouette_score(W, np.argmax(W, axis=1))\n",
        "            silhouette_scores.append(score)\n",
        "        else:\n",
        "            silhouette_scores.append(-1)  # Not enough samples to calculate\n",
        "\n",
        "    plt.figure(figsize=(10, 6))\n",
        "    plt.plot(num_topics, silhouette_scores, marker='o')\n",
        "    plt.title('Silhouette Scores for Different Numbers of Topics')\n",
        "    plt.xlabel('Number of Topics')\n",
        "    plt.ylabel('Silhouette Score')\n",
        "    plt.xticks(num_topics)\n",
        "    plt.grid()\n",
        "    plt.show()\n",
        "\n",
        "calculate_silhouette_scores(tfidf_matrix)"
      ]
    },
    {
      "cell_type": "markdown",
      "source": [
        "**Calculate_silhouette_scores** que toma como entrada una matriz TF-IDF (tfidf_matrix), que representa los documentos en un formato que puede ser analizado.\n",
        "\n",
        "**num_topics: **Se establece un rango que va de 2 a 19, indicando la cantidad de temas a evaluar.\n",
        "\n",
        "**silhouette_scores:** Se inicializa una lista vacía donde se almacenarán los puntajes de silueta correspondientes a cada número de temas.\n",
        "\n",
        "**Iteración Sobre el Número de Temas:** El bucle for itera sobre cada número n en num_topics.\n",
        "\n",
        "**Creación del Modelo NMF:** Para cada n, se crea un modelo NMF con n_components=n. El argumento random_state=42 asegura que los resultados sean reproducibles.\n",
        "\n",
        "**Ajuste y Transformación**: Se ajusta el modelo NMF a la matriz TF-IDF y se obtiene la matriz W, que representa la relación entre los documentos y los temas.\n",
        "\n",
        "**Verificación de Muestras**: Se verifica si hay más de una muestra (W.shape[0] > 1).\n",
        "\n",
        "**Cálculo del Puntaje:**\n",
        "Si hay suficientes muestras, se calcula el puntaje de silueta utilizando silhouette_score(W, np.argmax(W, axis=1)). Aquí:\n",
        "W es la matriz de características donde cada fila corresponde a un documento.\n",
        "np.argmax(W, axis=1) obtiene el índice del tema que tiene la mayor participación para cada documento, lo que se utiliza como agrupamiento.\n",
        "Añadir a la Lista: Se añade el puntaje de silueta a la lista silhouette_scores.\n",
        "Manejo de Insuficiencia de Muestras: Si no hay suficientes muestras, se añade -1 a silhouette_scores indicando que no se puede calcular.\n",
        "\n",
        "**Creación de la Gráfica:** Se inicializa una figura de 10x6 pulgadas para la visualización.\n",
        "\n",
        "**Trazado de la Gráfica:** Se grafica el número de temas frente a los puntajes de silueta, utilizando marcadores en los puntos.\n",
        "\n",
        "**Etiquetas de Ejes y Título: **Se establece el título del gráfico y se añaden etiquetas para los ejes x e y.\n",
        "\n",
        "Marcas del Eje X: Se ajustan las marcas del eje x para que coincidan con los números de temas.\n",
        "Cuadrícula: Se añade una cuadrícula para mejorar la legibilidad.\n",
        "Mostrar la Gráfica: Finalmente, se muestra la gráfica generada.\n",
        "Se llama a la función calculate_silhouette_scores, pasando la matriz TF-IDF como argumento, lo que inicia todo el proceso descrito.\n",
        "\n",
        "# **Conclusión**\n",
        "Este código permite evaluar cómo varía la calidad de la agrupación de documentos en función del número de temas elegidos al aplicar NMF, utilizando el índice de silueta como métrica. Un puntaje de silueta más alto indica una mejor separación entre los grupos formados por el modelo.\n",
        "\n",
        "**Número Óptimo de Temas:** A partir de esta gráfica, podría considerarse que entre 2 y 3 temas podría ser el número óptimo para una buena separación de agrupaciones. Más temas parecen complicar la separación.\n",
        "\n",
        "**Necesidad de Revisión:** La disminución general del puntaje sugiere que podría ser útil revisar la calidad de los datos o explorar otras técnicas de modelado y comparación con otros métodos de agrupación.\n",
        "\n",
        "**Contexto Adicional:** Sería valioso complementar este análisis con una evaluación cualitativa de los temas generados, para ver si esto coincide con la interpretación humana de los grupos que se están formando.\n"
      ],
      "metadata": {
        "id": "0X4jCnJkaZsa"
      }
    },
    {
      "cell_type": "markdown",
      "metadata": {
        "id": "Au_VtT2MtcQI"
      },
      "source": [
        "**Apply NMF with the Best Number of Clusters**\n",
        "Once you determine the optimal number of clusters (let's say it's n), apply NMF:"
      ]
    },
    {
      "cell_type": "code",
      "execution_count": null,
      "metadata": {
        "id": "FuF4N8iCtZzC"
      },
      "outputs": [],
      "source": [
        "# Assuming n is determined to be the best number of topics\n",
        "n = 5  # Replace with your optimal number from previous steps\n",
        "\n",
        "nmf_model = NMF(n_components=n, random_state=42)\n",
        "W = nmf_model.fit_transform(tfidf_matrix)  # Document-topic matrix\n",
        "H = nmf_model.components_  # Topic-word matrix"
      ]
    },
    {
      "cell_type": "markdown",
      "source": [
        "**La función fit_transform() **se aplica a la matriz TF-IDF (tfidf_matrix):\n",
        "\n",
        "**Entrenamiento:** El modelo ajusta sus parámetros a los datos, identificando patrones que permiten representar la matriz TF-IDF mediante temas.\n",
        "Transformación: Se transforma la matriz de entrada (TF-IDF) en una nueva matriz (W). Esta matriz es W, la matriz de documentos-temas donde cada fila representa un documento y cada columna un tema. Los valores indican la fuerza o la importancia de cada tema en cada documento.\n",
        "Se accede a la propiedad components_ del modelo NMF, que contiene la matriz de temas-palabras (H):\n",
        "Cada fila de la matriz H representa un tema y cada columna contiene los pesos (o importancia) de las palabras en ese tema. Las palabras con pesos más altos en una fila son las más representativas de ese tema.\n",
        "Resumen\n",
        "En resumen, este código establece un modelo NMF con 5 temas, entrena el modelo utilizando la matriz TF-IDF de un conjunto de documentos, y produce dos matrices:\n",
        "\n",
        "W: que relaciona documentos con temas.\n",
        "H: que relaciona temas con palabras.\n",
        "Esta descomposición permite una comprensión más rápida y efectiva de la estructura temática dentro de los documentos analizados."
      ],
      "metadata": {
        "id": "1z8xTMEDhRV-"
      }
    },
    {
      "cell_type": "markdown",
      "metadata": {
        "id": "ExjzVZCbtuHW"
      },
      "source": [
        "**Inspect & Validate Clusters**\n",
        "You can inspect the top words in each cluster to understand what topics they represent:"
      ]
    },
    {
      "cell_type": "code",
      "execution_count": null,
      "metadata": {
        "colab": {
          "base_uri": "https://localhost:8080/"
        },
        "id": "_v6-4u5NtwDE",
        "outputId": "5f567ed1-f9fc-4956-9d14-9025f6fb14f0"
      },
      "outputs": [
        {
          "output_type": "stream",
          "name": "stdout",
          "text": [
            "Topic 1:\n",
            "account check bank money fund chase deposit branch day checking\n",
            "Topic 2:\n",
            "card credit chase balance account limit score year point interest\n",
            "Topic 3:\n",
            "payment loan mortgage chase home month modification interest time year\n",
            "Topic 4:\n",
            "report inquiry credit company information reporting debt identity account theft\n",
            "Topic 5:\n",
            "charge chase dispute transaction claim merchant fraud fee purchase email\n"
          ]
        }
      ],
      "source": [
        "def display_topics(model, feature_names, no_top_words):\n",
        "    for topic_idx, topic in enumerate(model.components_):\n",
        "        print(f\"Topic {topic_idx + 1}:\")\n",
        "        print(\" \".join([feature_names[i] for i in topic.argsort()[:-no_top_words - 1:-1]]))\n",
        "\n",
        "no_top_words = 10  # Adjust based on how many top words you want to see\n",
        "display_topics(nmf_model, vectorizer.get_feature_names_out(), no_top_words)"
      ]
    },
    {
      "cell_type": "markdown",
      "source": [
        "La función acepta tres parámetros:\n",
        "\n",
        "**model:** El modelo NMF entrenado (o cualquier modelo con una propiedad components_ que contenga los temas).\n",
        "feature_names: Una lista de las características (palabras) que corresponden a las columnas de la matriz de entrada (por ejemplo, la matriz TF-IDF).\n",
        "no_top_words: Un entero que especifica cuántas de las palabras más relevantes por tema deseas mostrar.\n",
        "**for topic_idx, topic in enumerate(model.components_)**se esta iterando sobre los componentes del modelo, que son las representaciones de los temas. La función enumerate proporciona tanto el índice del tema (topic_idx) como los valores del tema (topic).Se imprime el número del tema (incrementando el índice por uno para que empiece en 1 en lugar de 0).\n",
        "topic.argsort(): Esto devuelve los índices que ordenarían el arreglo topic que representa el peso de cada palabra en el tema. Los índices están ordenados de menor a mayor.\n",
        "**[:-no_top_words - 1:-1]:** Este slicing utiliza el resultado de argsort para obtener los índices de las palabras en orden descendente, comenzando desde el final (palabras con mayor peso) y avanzando hacia el inicio. Al usar -1, se obtienen las no_top_words palabras más importantes.\n",
        "**[feature_names[i] for i in ...]**: Esta lista por comprensión toma los índices obtenidos de arriba y los utiliza para extraer las palabras correspondientes de feature_names.\n",
        "\" \".join(...): Finalmente, las palabras se unen en una sola cadena, separadas por espacios, para imprimir.\n",
        "**Conclusión**\n",
        "En resumen, esta función se utiliza para presentar los temas que ha aprendido un modelo de descomposición de matrices, mostrando las palabras más significativas para cada tema. Es una forma efectiva de interpretar y visualizar los resultados del modelado de temas."
      ],
      "metadata": {
        "id": "Vvum7jBdC9U3"
      }
    },
    {
      "cell_type": "markdown",
      "metadata": {
        "id": "8bTeOzljuGfh"
      },
      "source": [
        "**Correct Labels and Map Clusters to Topics**\n",
        "Based on your inspection of the topics generated by NMF, you may want to manually label these topics. Create a mapping dictionary:"
      ]
    },
    {
      "cell_type": "code",
      "execution_count": null,
      "metadata": {
        "colab": {
          "base_uri": "https://localhost:8080/"
        },
        "id": "7Jg9F-p9uJEl",
        "outputId": "94a30576-c0b7-44a5-ae8e-33bbde200e27"
      },
      "outputs": [
        {
          "output_type": "stream",
          "name": "stdout",
          "text": [
            "       complaint_id                                    complaint_clean  topic  \\\n",
            "0                 1  morning name stop bank cardmember service ask ...      0   \n",
            "1                 2  card agent anniversary date agent information ...      1   \n",
            "2                 3  chase card report application identity consent...      3   \n",
            "3                 4  ticket offer ticket reward card information of...      3   \n",
            "4                 5  son chase account fund chase bank account mone...      0   \n",
            "...             ...                                                ...    ...   \n",
            "21066         21067  chase card customer decade solicitation credit...      1   \n",
            "21067         21068  visa credit card provider claim purchase prote...      4   \n",
            "21068         21069  pay risk consumer chase bank app chase year ba...      4   \n",
            "21069         21070  credit yrs chase credit card chase freedom pro...      1   \n",
            "21070         21071  year account order line credit account payment...      2   \n",
            "\n",
            "                    topic_label  \n",
            "0      Credit card/Prepaid Card  \n",
            "1         Bank account services  \n",
            "2               Mortgages/loans  \n",
            "3               Mortgages/loans  \n",
            "4      Credit card/Prepaid Card  \n",
            "...                         ...  \n",
            "21066     Bank account services  \n",
            "21067                    Others  \n",
            "21068                    Others  \n",
            "21069     Bank account services  \n",
            "21070   Theft/Dispute reporting  \n",
            "\n",
            "[21071 rows x 4 columns]\n"
          ]
        }
      ],
      "source": [
        "# Define the mapping of topic indices to descriptive labels\n",
        "topic_labels = {\n",
        "    0: \"Credit card/Prepaid Card\",\n",
        "    1: \"Bank account services\",\n",
        "    2: \"Theft/Dispute reporting\",\n",
        "    3: \"Mortgages/loans\",\n",
        "    4: \"Others\"\n",
        "}\n",
        "\n",
        "# Map the topics to the complaints\n",
        "df_clean['topic'] = np.argmax(W, axis=1)  # Get the index of the highest topic score for each complaint\n",
        "df_clean['topic_label'] = df_clean['topic'].map(topic_labels)  # Map topic indices to labels\n",
        "\n",
        "# Display the updated DataFrame with complaints and their assigned topics\n",
        "print(df_clean[['complaint_id', 'complaint_clean', 'topic', 'topic_label']])"
      ]
    },
    {
      "cell_type": "markdown",
      "source": [
        "Esta sección crea un diccionario llamado topic_labels. Las claves (0 a 4) representan diferentes índices de temas, cada uno correspondiente a una etiqueta descriptiva que clasifica tipos de quejas relacionadas con servicios financieros.\n",
        "quí, W probablemente es un array 2D de NumPy donde cada fila corresponde a una queja y cada columna corresponde a una puntuación de tema. La función np.argmax(W, axis=1) se utiliza para determinar el índice de la puntuación más alta en cada fila (es decir, en cada queja). Esto significa que para cada queja, se determina a qué tema está más relacionada en función de las puntuaciones en W, y se asigna este índice a la nueva columna topic en el DataFrame df_clean.\n",
        "\n",
        "Asignación de Índices de Tema a Etiquetas:\n",
        "\n",
        "python\n",
        "df_clean['topic_label'] = df_clean['topic'].map(topic_labels)  # Mapear los índices de los temas a etiquetas  \n",
        "En esta línea, el código toma la columna topic, que contiene índices (0 a 4), y mapea estos índices a sus respectivas etiquetas descriptivas utilizando el diccionario topic_labels. Las etiquetas resultantes se almacenan en una nueva columna llamada topic_label en el mismo DataFrame.\n",
        "\n",
        "Resumen\n",
        "El propósito general de este código es categorizar las quejas en un DataFrame (df_clean) identificando el tema más relevante según las puntuaciones del array W, y luego asignando etiquetas comprensibles a estas categorías para facilitar su comprensión.\n"
      ],
      "metadata": {
        "id": "zxZ64JAbLjfa"
      }
    },
    {
      "cell_type": "code",
      "execution_count": null,
      "metadata": {
        "id": "zYhG27lHxoqN"
      },
      "outputs": [],
      "source": [
        "# Guardar el DataFrame en un archivo CSV\n",
        "df_clean.to_csv('datatopic.csv', index=False, encoding='utf-8-sig')"
      ]
    },
    {
      "cell_type": "code",
      "source": [],
      "metadata": {
        "id": "P64S-76mMMIL"
      },
      "execution_count": null,
      "outputs": []
    },
    {
      "cell_type": "markdown",
      "metadata": {
        "id": "0wYR1xUTJrGD"
      },
      "source": [
        "## **7. Manual Topic Modeling**\n",
        "Debe adoptar el enfoque de prueba y error para encontrar la mejor cantidad de topicos para su modelo NMF.\n",
        "\n",
        "El único parámetro que se requiere es el número de componentes, es decir, el número de topicos que queremos. Este es el paso más crucial en todo el proceso de modelado de topicos y afectará en gran medida la calidad de sus topicos finales."
      ]
    },
    {
      "cell_type": "code",
      "execution_count": null,
      "metadata": {
        "colab": {
          "base_uri": "https://localhost:8080/"
        },
        "id": "f7pVd1mf6rJ7",
        "outputId": "cb2eef29-a26e-4fb9-d902-ea11d16e6e2f"
      },
      "outputs": [
        {
          "output_type": "stream",
          "name": "stdout",
          "text": [
            "Topic 1:\n",
            "account check bank money fund chase deposit branch day checking business number transfer customer transaction\n",
            "\n",
            "Topic 2:\n",
            "card credit chase balance account limit score year point offer month interest purchase application reason\n",
            "\n",
            "Topic 3:\n",
            "payment loan mortgage chase home month modification interest time year rate balance property amount statement\n",
            "\n",
            "Topic 4:\n",
            "report inquiry credit company information reporting identity debt account theft score letter date inquire file\n",
            "\n",
            "Topic 5:\n",
            "charge chase dispute transaction claim merchant fraud fee purchase email amount service call refund time\n",
            "\n"
          ]
        }
      ],
      "source": [
        "# Initialize the TfidfVectorizer without stop words\n",
        "tfidf_vectorizer = TfidfVectorizer(stop_words=None)  # No stop words removed\n",
        "\n",
        "# Fit the vectorizer to the 'complaint_clean' column\n",
        "tfidf_matrix = tfidf_vectorizer.fit_transform(df_clean['complaint_clean'])\n",
        "\n",
        "n_components = 5  # Set the number of topics\n",
        "\n",
        "#keep the random_state =40\n",
        "# Initialize and fit the NMF model\n",
        "nmf_model = NMF(n_components=n_components, random_state=42)\n",
        "W = nmf_model.fit_transform(tfidf_matrix)  # Document-topic matrix\n",
        "H = nmf_model.components_  # Topic-word matrix\n",
        "\n",
        "# Define a function to display the top words for each topic\n",
        "def display_top_words(model, feature_names, n_top_words):\n",
        "    for topic_idx, topic in enumerate(model.components_):\n",
        "        print(f\"Topic {topic_idx + 1}:\")\n",
        "        # Get the indices of the top words for this topic\n",
        "        top_word_indices = topic.argsort()[:-n_top_words - 1:-1]\n",
        "        # Get the corresponding feature names (words)\n",
        "        top_words = [feature_names[i] for i in top_word_indices]\n",
        "        print(\" \".join(top_words))\n",
        "        print()  # Print a newline for better readability\n",
        "\n",
        "# Number of top words to display\n",
        "n_top_words = 15\n",
        "\n",
        "# Call the function to display the top words for each topic\n",
        "display_top_words(nmf_model, tfidf_vectorizer.get_feature_names_out(), n_top_words)\n"
      ]
    },
    {
      "cell_type": "markdown",
      "source": [
        "Se crea una instancia de TfidfVectorizer, tfidf_vectorizer = TfidfVectorizer(stop_words=None)    \n",
        "Se crea una instancia de TfidfVectorizer, que es una herramienta de procesamiento de texto utilizada para transformar documentos de texto en una matriz de características. La opción stop_words=None indica que no se eliminarán palabras vacías (como \"y\", \"el\", \"de\") durante el proceso de vectorización.\n",
        "\n",
        "2. Ajuste del Vectorizer a la Columna de Quejas\n",
        "python\n",
        "tfidf_matrix = tfidf_vectorizer.fit_transform(df_clean['complaint_clean'])  \n",
        "En esta línea, el TfidfVectorizer se ajusta (fit) y transforma (transform) la columna complaint_clean del DataFrame df_clean, creando una matriz TF-IDF (tfidf_matrix). Cada fila de esta matriz representa una queja, y cada columna representa una palabra única del vocabulario, con los valores correspondientes al peso TF-IDF de cada palabra en el documento.\n",
        "\n",
        "3. Definición del Número de Temas\n",
        "python\n",
        "n_components = 5  # Establecer el número de temas  \n",
        "Aquí se especifica que se desean extraer 5 temas de la colección de quejas.\n",
        "\n",
        "4. Inicialización y Ajuste del Modelo NMF\n",
        "python\n",
        "nmf_model = NMF(n_components=n_components, random_state=42)  \n",
        "W = nmf_model.fit_transform(tfidf_matrix)  # Matriz documento-tema  \n",
        "H = nmf_model.components_  # Matriz tema-palabra  \n",
        "Se inicializa el modelo NMF (Non-negative Matrix Factorization) con 5 componentes (n_components=5). random_state=42 asegura que el resultado sea reproducible. Luego, se ajusta el modelo al tfidf_matrix.\n",
        "\n",
        "W se convierte en la matriz documento-tema, donde cada fila representa una queja y cada columna representa la intensidad con la que esa queja está relacionada con cada uno de los 5 temas.\n",
        "H se convierte en la matriz tema-palabra, que indica las palabras más importantes asociadas a cada tema.\n",
        "5. Definición de la Función para Mostrar las Principales Palabras\n",
        "python\n",
        "def display_top_words(model, feature_names, n_top_words):  \n",
        "    for topic_idx, topic in enumerate(model.components_):  \n",
        "        print(f\"Tema {topic_idx + 1}:\")  \n",
        "        # Obtener los índices de las palabras principales para este topic  \n",
        "        top_word_indices = topic.argsort()[:-n_top_words - 1:-1]  \n",
        "        # Obtener los nombres de las características correspondientes (palabras)  \n",
        "        top_words = [feature_names[i] for i in top_word_indices]  \n",
        "        print(\" \".join(top_words))  \n",
        "        print()  # Imprimir una nueva línea para mejor legibilidad  \n",
        "Esta función toma como argumentos un modelo de NMF, los nombres de las características (palabras) y el número de palabras principales a mostrar. Para cada tema, imprime el índice del tema y las palabras más relevantes, que se obtienen ordenando los pesos del tema (topic.argsort()).\n",
        "\n",
        "6. Número de Palabras Principales a Mostrar\n",
        "python\n",
        "n_top_words = 15  \n",
        "Aquí se define que se mostrarán las 15 palabras más importantes para cada tema.\n",
        "\n",
        "7. Llamada a la Función para Mostrar las Palabras Principales\n",
        "python\n",
        "display_top_words(nmf_model, tfidf_vectorizer.get_feature_names_out(), n_top_words)  \n",
        "Finalmente, se llama a la función display_top_words, pasando el modelo NMF, los nombres de las características obtenidos a partir del vectorizador (las palabras del vocabulario), y el número de palabras que se quieren mostrar.\n",
        "\n",
        "Resumen\n",
        "Este código en su conjunto realiza la vectorización de un conjunto de quejas utilizando el método TF-IDF, y luego emplea NMF para descubrir temas en los datos. Finalmente, muestra las palabras más representativas para cada uno de esos temas, ayudando a interpretar qué significan los temas detectados en relación con las quejas presentadas.\n",
        "\n",
        "Si tienes más preguntas o necesitas más aclaraciones sobre alguna parte del código, ¡estaré encantado de ayudarte!\n",
        "\n",
        "0\n",
        "Mejora\n",
        "que es una herramienta de procesamiento de texto utilizada para transformar documentos de texto en una matriz de características. La opción stop_words=None indica que no se eliminarán palabras vacías (como \"y\", \"el\", \"de\") durante el proceso de vectorización."
      ],
      "metadata": {
        "id": "tFYaA1-vQ-Bn"
      }
    },
    {
      "cell_type": "code",
      "source": [],
      "metadata": {
        "id": "FWCfBgarNal8"
      },
      "execution_count": null,
      "outputs": []
    },
    {
      "cell_type": "code",
      "execution_count": null,
      "metadata": {
        "colab": {
          "base_uri": "https://localhost:8080/"
        },
        "id": "0OIT7LmFJrGF",
        "outputId": "fdda5349-007c-47dc-bc21-893aa93fd2f9"
      },
      "outputs": [
        {
          "output_type": "stream",
          "name": "stdout",
          "text": [
            "                                         complaint_clean  best_topic\n",
            "0      morning name stop bank cardmember service ask ...           0\n",
            "1      card agent anniversary date agent information ...           1\n",
            "2      chase card report application identity consent...           3\n",
            "3      ticket offer ticket reward card information of...           3\n",
            "4      son chase account fund chase bank account mone...           0\n",
            "...                                                  ...         ...\n",
            "21066  chase card customer decade solicitation credit...           1\n",
            "21067  visa credit card provider claim purchase prote...           4\n",
            "21068  pay risk consumer chase bank app chase year ba...           4\n",
            "21069  credit yrs chase credit card chase freedom pro...           1\n",
            "21070  year account order line credit account payment...           2\n",
            "\n",
            "[21071 rows x 2 columns]\n"
          ]
        }
      ],
      "source": [
        "#Create the best topic for each complaint in terms of integer value 0,1,2,3 & 4\n",
        "# Assign the best topic for each complaint\n",
        "df_clean['best_topic'] = W.argmax(axis=1)  # Get index of the max value in each row\n",
        "\n",
        "# Display the DataFrame with complaint IDs and their assigned best topics\n",
        "print(df_clean[['complaint_clean', 'best_topic']])"
      ]
    },
    {
      "cell_type": "code",
      "execution_count": null,
      "metadata": {
        "colab": {
          "base_uri": "https://localhost:8080/"
        },
        "id": "peyYv-ORJrGF",
        "outputId": "47098cb4-9365-44fd-cbb7-ba2ed4bc0d6a"
      },
      "outputs": [
        {
          "output_type": "stream",
          "name": "stdout",
          "text": [
            "                                         complaint_clean  Topic\n",
            "0      morning name stop bank cardmember service ask ...      0\n",
            "1      card agent anniversary date agent information ...      1\n",
            "2      chase card report application identity consent...      3\n",
            "3      ticket offer ticket reward card information of...      3\n",
            "4      son chase account fund chase bank account mone...      0\n",
            "...                                                  ...    ...\n",
            "21066  chase card customer decade solicitation credit...      1\n",
            "21067  visa credit card provider claim purchase prote...      4\n",
            "21068  pay risk consumer chase bank app chase year ba...      4\n",
            "21069  credit yrs chase credit card chase freedom pro...      1\n",
            "21070  year account order line credit account payment...      2\n",
            "\n",
            "[21071 rows x 2 columns]\n"
          ]
        }
      ],
      "source": [
        "#Assign the best topic to each of the cmplaints in Topic Column\n",
        "\n",
        "# Assign the best topic for each complaint to the 'Topic' column\n",
        "df_clean['Topic'] = W.argmax(axis=1)  # Get index of the max value in each row\n",
        "\n",
        "# Display the DataFrame with complaints and their assigned topics\n",
        "print(df_clean[['complaint_clean', 'Topic']])"
      ]
    },
    {
      "cell_type": "code",
      "execution_count": null,
      "metadata": {
        "colab": {
          "base_uri": "https://localhost:8080/"
        },
        "id": "aQKpufSPJrGG",
        "outputId": "b0e85bb2-a19e-415f-e5f3-f6acf7017b74"
      },
      "outputs": [
        {
          "output_type": "stream",
          "name": "stdout",
          "text": [
            "                                      complaint_clean  Topic\n",
            "0   morning name stop bank cardmember service ask ...      0\n",
            "10                       mishandle account chase auto      0\n",
            "6   notice account debit card branch customer serv...      0\n",
            "4   son chase account fund chase bank account mone...      0\n",
            "12  account code bonus term account deposit bonus ...      0\n",
            "14  chase card decline catering order place brothe...      1\n",
            "25  reward point month reward account bonus chase ...      1\n",
            "22  roommate chase debit card driver license money...      1\n",
            "1   card agent anniversary date agent information ...      1\n",
            "21  citizen scamme company time share company refu...      1\n",
            "24  purchase payment payment closing date statemen...      2\n",
            "23                loan modification chase payment doc      2\n",
            "32  loan title chase time resolution time state re...      2\n",
            "7   summer month decline income employment month p...      2\n",
            "30  wire chase branch reinstatement amount order f...      2\n",
            "3   ticket offer ticket reward card information of...      3\n",
            "11  time attempt inquiry remove creditor inquiry r...      3\n",
            "9       credit card datum credit report company issue      3\n",
            "2   chase card report application identity consent...      3\n",
            "5                                             inquiry      3\n",
            "13  bank overdraft fee alert balance fee balance t...      4\n",
            "16  sofa love seat table chair debit card charge b...      4\n",
            "18  chase email today title information regard cha...      4\n",
            "19  purchase amount charge transaction dispute cas...      4\n",
            "8   payment retailer chase pay chase website scam ...      4\n"
          ]
        }
      ],
      "source": [
        "#Print the first 5 Complaint for each of the Topics\n",
        "# Group by 'Topic' and take the first 5 complaints for each topic\n",
        "top_complaints_per_topic = df_clean.groupby('Topic').head(5)\n",
        "\n",
        "# Sort the resulting DataFrame by 'Topic' for better readability\n",
        "top_complaints_per_topic = top_complaints_per_topic.sort_values('Topic')\n",
        "\n",
        "# Display the result\n",
        "print(top_complaints_per_topic[['complaint_clean', 'Topic']])"
      ]
    },
    {
      "cell_type": "markdown",
      "metadata": {
        "id": "piyLxzj6v07j"
      },
      "source": [
        "#### After evaluating the mapping, if the topics assigned are correct then assign these names to the relevant topic:\n",
        "* Bank Account services\n",
        "* Credit card or prepaid card\n",
        "* Theft/Dispute Reporting\n",
        "* Mortgage/Loan\n",
        "* Others"
      ]
    },
    {
      "cell_type": "code",
      "execution_count": null,
      "metadata": {
        "colab": {
          "base_uri": "https://localhost:8080/"
        },
        "id": "TWpwDG4RJrGG",
        "outputId": "6b4f0d40-e086-4786-9ef9-b39b5c207cad"
      },
      "outputs": [
        {
          "output_type": "stream",
          "name": "stdout",
          "text": [
            "                                         complaint_clean  Topic  \\\n",
            "0      morning name stop bank cardmember service ask ...      0   \n",
            "1      card agent anniversary date agent information ...      1   \n",
            "2      chase card report application identity consent...      3   \n",
            "3      ticket offer ticket reward card information of...      3   \n",
            "4      son chase account fund chase bank account mone...      0   \n",
            "...                                                  ...    ...   \n",
            "21066  chase card customer decade solicitation credit...      1   \n",
            "21067  visa credit card provider claim purchase prote...      4   \n",
            "21068  pay risk consumer chase bank app chase year ba...      4   \n",
            "21069  credit yrs chase credit card chase freedom pro...      1   \n",
            "21070  year account order line credit account payment...      2   \n",
            "\n",
            "                        Topic_name  \n",
            "0            Bank Account services  \n",
            "1      Credit card or prepaid card  \n",
            "2                    Mortgage/Loan  \n",
            "3                    Mortgage/Loan  \n",
            "4            Bank Account services  \n",
            "...                            ...  \n",
            "21066  Credit card or prepaid card  \n",
            "21067                       Others  \n",
            "21068                       Others  \n",
            "21069  Credit card or prepaid card  \n",
            "21070      Theft/Dispute Reporting  \n",
            "\n",
            "[21071 rows x 3 columns]\n"
          ]
        }
      ],
      "source": [
        "#Create the dictionary of Topic names and Topics\n",
        "\n",
        "# Define the mapping of topic indices to descriptive names\n",
        "topic_names = {\n",
        "    0: \"Bank Account services\",\n",
        "    1: \"Credit card or prepaid card\",\n",
        "    2: \"Theft/Dispute Reporting\",\n",
        "    3: \"Mortgage/Loan\",\n",
        "    4: \"Others\"\n",
        "}\n",
        "\n",
        "# Assign the topic names to a new column 'Topic_Name' based on the 'Topic' column\n",
        "df_clean['Topic_name'] = df_clean['Topic'].map(topic_names)\n",
        "\n",
        "# Display the DataFrame with complaints and their assigned topic names\n",
        "print(df_clean[['complaint_clean', 'Topic', 'Topic_name']])"
      ]
    },
    {
      "cell_type": "markdown",
      "metadata": {
        "id": "7Mu0QBOcJrGH"
      },
      "source": [
        "## Supervised model to predict any new complaints to the relevant Topics.\n",
        "\n",
        "Hasta ahora ha creado el modelo para crear los temas para cada queja. Entonces, en la siguiente sección, los utilizará para clasificar cualquier queja nueva.\n",
        "\n",
        "Dado que utilizará la técnica de aprendizaje supervisado, tenemos que convertir los nombres de los temas en números (las matrices numpy solo entienden los números)"
      ]
    },
    {
      "cell_type": "markdown",
      "metadata": {
        "id": "280Vbqk-7a8M"
      },
      "source": [
        "#### Apply the supervised models on the training data created. In this process, you have to do the following:\n",
        "* Create the vector counts using Count Vectoriser\n",
        "* Transform the word vecotr to tf-idf\n",
        "* Create the train & test data using the train_test_split on the tf-idf & topics\n"
      ]
    },
    {
      "cell_type": "code",
      "execution_count": null,
      "metadata": {
        "colab": {
          "base_uri": "https://localhost:8080/"
        },
        "id": "oUlQpgkzJrGI",
        "outputId": "300b2983-5ca4-4023-8080-eb54ebb31f0e"
      },
      "outputs": [
        {
          "output_type": "stream",
          "name": "stdout",
          "text": [
            "                             complaint_what_happened  \\\n",
            "0  morning name stop bank cardmember service ask ...   \n",
            "1  card agent anniversary date agent information ...   \n",
            "2  chase card report application identity consent...   \n",
            "3  ticket offer ticket reward card information of...   \n",
            "4  son chase account fund chase bank account mone...   \n",
            "\n",
            "                         Topic  \n",
            "0        Bank Account services  \n",
            "1  Credit card or prepaid card  \n",
            "2                Mortgage/Loan  \n",
            "3                Mortgage/Loan  \n",
            "4        Bank Account services  \n",
            "Training set shape: (14749, 15812), Training labels shape: (14749,)\n",
            "Testing set shape: (6322, 15812), Testing labels shape: (6322,)\n"
          ]
        }
      ],
      "source": [
        "from sklearn.model_selection import train_test_split\n",
        "# Create a dictionary for topic names\n",
        "topic_names = {\n",
        "    0: \"Bank Account services\",\n",
        "    1: \"Credit card or prepaid card\",\n",
        "    2: \"Theft/Dispute Reporting\",\n",
        "    3: \"Mortgage/Loan\",\n",
        "    4: \"Others\"\n",
        "}\n",
        "\n",
        "# Create a new DataFrame with relevant columns\n",
        "training_data = df_clean[['complaint_clean', 'Topic']].copy()\n",
        "\n",
        "# Replace Topic indices with Topic names\n",
        "training_data['Topic'] = training_data['Topic'].map(topic_names)\n",
        "\n",
        "# Rename the complaint column to 'complaint_what_happened'\n",
        "training_data.rename(columns={'complaint_clean': 'complaint_what_happened'}, inplace=True)\n",
        "\n",
        "# Display the new training data\n",
        "print(training_data.head())\n",
        "\n",
        "# Step 3: Create Count Vectorizer\n",
        "count_vectorizer = CountVectorizer()\n",
        "\n",
        "# Fit and transform the complaints to get word counts\n",
        "word_counts = count_vectorizer.fit_transform(training_data['complaint_what_happened'])\n",
        "\n",
        "# Step 4: Transform word counts to TF-IDF representation\n",
        "tfidf_transformer = TfidfTransformer()\n",
        "tfidf_matrix = tfidf_transformer.fit_transform(word_counts)\n",
        "\n",
        "# Step 5: Split the data into training and testing sets\n",
        "X_train, X_test, y_train, y_test = train_test_split(tfidf_matrix, training_data['Topic'], test_size=0.3, random_state=42)\n",
        "\n",
        "# Display shapes of training and testing sets\n",
        "print(f\"Training set shape: {X_train.shape}, Training labels shape: {y_train.shape}\")\n",
        "print(f\"Testing set shape: {X_test.shape}, Testing labels shape: {y_test.shape}\")\n"
      ]
    },
    {
      "cell_type": "markdown",
      "source": [
        "**Definición de un diccionario para nombres de tópicos (topic_names):**\n",
        "\n",
        "Se crea un diccionario para mapear los índices numéricos de la columna Topic a nombres descriptivos. Esto facilita la interpretación de los resultados al trabajar con los datos.\n",
        "\n",
        "**Creación y preparación del DataFrame training_data:**\n",
        "\n",
        "Se seleccionan dos columnas de df_clean: complaint_clean (texto procesado de quejas) y Topic (categoría asignada a cada queja).\n",
        "La columna Topic se actualiza utilizando el diccionario topic_names para reemplazar los índices numéricos con los nombres descriptivos.\n",
        "La columna complaint_clean se renombra a complaint_what_happened, haciéndola más representativa de su propósito.\n",
        "**Visualización inicial del DataFrame procesado:**\n",
        "\n",
        "Se imprimen las primeras cinco filas del DataFrame training_data para confirmar los cambios realizados.\n",
        "**Vectorización del texto con CountVectorizer:**\n",
        "\n",
        "**Utilizando CountVectorizer**, el texto de la columna complaint_what_happened se convierte en una matriz dispersa donde cada fila representa una queja y cada columna representa una palabra única. Los valores son la frecuencia de aparición de cada palabra en el texto.\n",
        "Transformación a representación TF-IDF:\n",
        "\n",
        "Se utiliza** TfidfTransformer **para convertir la matriz de frecuencias en una representación TF-IDF (Term Frequency-Inverse Document Frequency), que ajusta la importancia de las palabras basándose en su frecuencia en todos los documentos (menos peso a palabras comunes).\n",
        "División del conjunto de datos en entrenamiento y prueba:\n",
        "\n",
        "**Se divide el conjunto de datos en dos partes:**\n",
        "X_train y y_train: Datos y etiquetas para entrenamiento (70% de los datos).\n",
        "X_test y y_test: Datos y etiquetas para prueba (30% de los datos).\n",
        "La división es reproducible gracias al uso de random_state=42.\n",
        "Visualización de las formas de los conjuntos resultantes:\n",
        "\n",
        "**Se imprimen las formas (dimensiones) **de los conjuntos de datos de entrenamiento y prueba para confirmar la correcta separación.\n",
        "# **Conclusión**\n",
        "Este código realiza un procesamiento de texto sistemático y prepara los datos para el análisis de clasificación en tareas de procesamiento de lenguaje natural (NLP). Las etapas principales incluyen:\n",
        "\n",
        "**Limpieza y preparación de datos**:\n",
        "\n",
        "Conversión de datos categóricos y texto a un formato adecuado para análisis.\n",
        "\n",
        "**Vectorización y transformación TF-IDF:**\n",
        "\n",
        "Representación del texto como datos numéricos, capturando la importancia relativa de palabras dentro de las quejas.\n",
        "\n",
        "**División en entrenamiento y prueba:**\n",
        "\n",
        "Configuración de los datos para entrenamiento y evaluación de modelos de aprendizaje automático."
      ],
      "metadata": {
        "id": "eU7YTmzgYrVN"
      }
    },
    {
      "cell_type": "markdown",
      "source": [],
      "metadata": {
        "id": "BOJR4vVFYlL4"
      }
    },
    {
      "cell_type": "markdown",
      "metadata": {
        "id": "uMU3vj6w-wqL"
      },
      "source": [
        "You have to try atleast 3 models on the train & test data from these options:\n",
        "* Logistic regression\n",
        "* Decision Tree\n",
        "* Random Forest\n",
        "* Naive Bayes (optional)\n",
        "\n",
        "**Using the required evaluation metrics judge the tried models and select the ones performing the best**"
      ]
    },
    {
      "cell_type": "code",
      "execution_count": null,
      "metadata": {
        "colab": {
          "base_uri": "https://localhost:8080/"
        },
        "id": "udLHpPsZJrGI",
        "outputId": "3029edf5-f389-447f-ad2d-773d132927f2"
      },
      "outputs": [
        {
          "output_type": "stream",
          "name": "stdout",
          "text": [
            "                     Accuracy  Precision    Recall  F1 Score\n",
            "Logistic Regression  0.965834   0.965909  0.965834  0.965785\n",
            "Decision Tree        0.823790   0.823665  0.823790  0.823627\n",
            "Random Forest        0.872509   0.873364  0.872509  0.871879\n",
            "Naive Bayes          0.766688   0.780771  0.766688  0.756351\n"
          ]
        }
      ],
      "source": [
        "# Write your code here to build any 3 models and evaluate them using the required metrics\n",
        "from sklearn.feature_extraction.text import CountVectorizer, TfidfTransformer\n",
        "from sklearn.model_selection import train_test_split\n",
        "from sklearn.linear_model import LogisticRegression\n",
        "from sklearn.tree import DecisionTreeClassifier\n",
        "from sklearn.ensemble import RandomForestClassifier\n",
        "from sklearn.naive_bayes import MultinomialNB\n",
        "from sklearn.metrics import classification_report, accuracy_score\n",
        "\n",
        "# Assuming training_data is already created with 'complaint_what_happened' and 'Topic'\n",
        "\n",
        "# Step 1: Create Count Vectorizer and TF-IDF representation\n",
        "count_vectorizer = CountVectorizer()\n",
        "word_counts = count_vectorizer.fit_transform(training_data['complaint_what_happened'])\n",
        "tfidf_transformer = TfidfTransformer()\n",
        "tfidf_matrix = tfidf_transformer.fit_transform(word_counts)\n",
        "\n",
        "# Step 2: Split the data into training and testing sets\n",
        "X_train, X_test, y_train, y_test = train_test_split(tfidf_matrix, training_data['Topic'], test_size=0.3, random_state=42)\n",
        "\n",
        "# Initialize models\n",
        "models = {\n",
        "    \"Logistic Regression\": LogisticRegression(max_iter=1000),\n",
        "    \"Decision Tree\": DecisionTreeClassifier(),\n",
        "    \"Random Forest\": RandomForestClassifier(),\n",
        "    \"Naive Bayes\": MultinomialNB()\n",
        "}\n",
        "\n",
        "# Step 3: Train models and evaluate\n",
        "results = {}\n",
        "for model_name, model in models.items():\n",
        "    # Train the model\n",
        "    model.fit(X_train, y_train)\n",
        "\n",
        "    # Make predictions\n",
        "    y_pred = model.predict(X_test)\n",
        "\n",
        "    # Evaluate the model\n",
        "    accuracy = accuracy_score(y_test, y_pred)\n",
        "    report = classification_report(y_test, y_pred, output_dict=True)\n",
        "\n",
        "    # Store results\n",
        "    results[model_name] = {\n",
        "        \"Accuracy\": accuracy,\n",
        "        \"Precision\": report['weighted avg']['precision'],\n",
        "        \"Recall\": report['weighted avg']['recall'],\n",
        "        \"F1 Score\": report['weighted avg']['f1-score']\n",
        "    }\n",
        "\n",
        "# Convert results to DataFrame for better visualization\n",
        "results_df = pd.DataFrame(results).T\n",
        "\n",
        "# Display results\n",
        "print(results_df)\n"
      ]
    },
    {
      "cell_type": "markdown",
      "source": [
        "**El código procesa datos textuales para entrenar y evaluar modelos de clasificación.** Primero, convierte las quejas en texto de la columna complaint_what_happened en una representación numérica usando CountVectorizer para crear una matriz de frecuencias y luego la transforma en una matriz TF-IDF con TfidfTransformer, ajustando la importancia de las palabras según su frecuencia en el conjunto de datos. Posteriormente, divide los datos en conjuntos de entrenamiento y prueba, utilizando el 70% para entrenamiento y el 30% para evaluación, garantizando reproducibilidad con un random_state.\n",
        "\n",
        "**Se inicializan cuatro modelos de clasificación:** regresión logística, árbol de decisión, bosque aleatorio y Naive Bayes. Cada modelo se entrena con los datos de entrenamiento y se evalúa con los datos de prueba. Para la evaluación, se calculan métricas clave como la precisión (accuracy), precisión ponderada (precision), sensibilidad (recall) y puntaje F1 (F1-Score) utilizando las etiquetas reales y las predicciones generadas por cada modelo. Los resultados se almacenan en un diccionario y se convierten a un DataFrame para facilitar su análisis y comparación.\n",
        "\n",
        "**Este enfoque permite determinar el rendimiento de cada modelo y seleccionar el mejor según las métricas calculadas**. El DataFrame resultante muestra un resumen tabular de las métricas clave, proporcionando una base clara para identificar el modelo más adecuado para clasificar las quejas en sus respectivas categorías."
      ],
      "metadata": {
        "id": "a33XHopgoEbn"
      }
    },
    {
      "cell_type": "markdown",
      "source": [
        "**Interpretación de los resultados**\n",
        "\n",
        "**Logistic Regression**:\n",
        "\n",
        "Este modelo tiene el mejor desempeño general con una precisión (accuracy) del 96.58%, lo que indica que predice correctamente la categoría de las quejas en casi todos los casos.\n",
        "Las métricas Precision (96.59%), Recall (96.58%) y F1-Score (96.58%) están muy equilibradas, lo que refleja un rendimiento consistente en todas las clases. Este modelo es confiable tanto para identificar correctamente las categorías como para minimizar los falsos positivos.\n",
        "\n",
        "**Decision Tree:**\n",
        "\n",
        "Tiene un desempeño significativamente más bajo con una precisión del 82.37%, lo que indica un mayor margen de error en las predicciones.\n",
        "Las métricas Precision (82.37%), Recall (82.37%) y F1-Score (82.36%) son consistentes pero inferiores a las de otros modelos. Esto sugiere que el modelo puede estar sobreajustándose a los datos de entrenamiento.\n",
        "**Random Forest:**\n",
        "\n",
        "Este modelo logra una precisión del 87.25%, que es mejor que el árbol de decisión pero notablemente menor que la regresión logística.\n",
        "Aunque Precision (87.34%) y F1-Score (87.18%) son ligeramente superiores a la precisión, el rendimiento general aún queda por debajo del mejor modelo. Esto indica que el bosque aleatorio mejora sobre el árbol de decisión pero no alcanza el nivel de la regresión logística.\n",
        "\n",
        "**Naive Bayes:**\n",
        "\n",
        "Es el modelo con el desempeño más bajo, con una precisión del 76.67%.\n",
        "Sus métricas Precision (78.08%), Recall (76.67%) y F1-Score (75.63%) son las más bajas entre los modelos probados. Esto es esperado, ya que Naive Bayes hace suposiciones fuertes (independencia de características) que no siempre se cumplen en datos textuales.\n"
      ],
      "metadata": {
        "id": "M9_esox1rBgy"
      }
    },
    {
      "cell_type": "markdown",
      "source": [
        "# **8. Conclusiones finales**\n",
        "1. La correcta disposición de los datos de texto provenientes de los tickets de atención al cliente fue un paso fundamental para garantizar la calidad del análisis posterior. La organización estructurada de los datos permitió una transición eficiente hacia las etapas de preprocesamiento y análisis, estableciendo una base sólida para el desarrollo del modelo. Sin embargo es importante considerar que se desecharon casi el 30% de los registros del conjunto de datos porque tenían la columna de análisis “complaint” en blanco.\n",
        "\n",
        "2. La implementación de técnicas de limpieza como eliminación de ruido, tokenización, lematización y filtrado de palabras irrelevantes resultó crucial para preparar los datos de texto “complaint” en un formato uniforme y procesable. Este paso aseguró que las características extraídas fueran representativas del contenido de los tickets y no estuvieran sesgadas por información irrelevante o ruido textual.\n",
        "\n",
        "3. El análisis exploratorio permitió comprender las características principales de las quejas, identificando patrones en la frecuencia de palabras y términos comunes en los datos. Esta etapa proporcionó insights iniciales sobre la naturaleza de los problemas planteados por los clientes, ayudando a alinear los enfoques de modelado con las características del conjunto de datos.\n",
        "\n",
        "4. El uso de representaciones TF-IDF fue clave para transformar los datos textuales en un formato numérico adecuado para el modelado (vectorización). Esta técnica destacó las palabras más relevantes en cada ticket en relación con su frecuencia global, asegurando que el modelo se enfocara en términos significativos para la clasificación de los temas.\n",
        "\n",
        "5. La factorización de matrices no negativas (NMF) identificó cinco temas principales relacionados con productos y servicios financieros: tarjetas de crédito/prepago, servicios de cuentas bancarias, reportes de robo, hipotecas/préstamos y otros. Este enfoque no supervisado permitió una segmentación inicial de los tickets, facilitando su posterior clasificación mediante técnicas supervisadas.\n",
        "\n",
        "6. Se diseñaron y probaron varios modelos de aprendizaje supervisado (Regresión Logística, Árbol de Decisión, Random Forest y Naive Bayes) para clasificar los tickets en las categorías identificadas. Entre estos, la Regresión Logística mostró el mejor rendimiento, alcanzando una exactitud del 96.58%, junto con altos valores de precisión, recall y F1-score.\n",
        "\n",
        "7. La Regresión Logística fue seleccionada como el modelo final debido a su desempeño superior en todas las métricas relevantes, además de su eficiencia computacional e interpretabilidad. Este modelo demostró ser adecuado para la clasificación de tickets en tiempo real, cumpliendo con el objetivo del proyecto.\n",
        "\n",
        "8. En caso de que se diera la implementación del modelo propuesto, éste proporcionará a la empresa financiera una herramienta robusta para automatizar la clasificación de quejas de los clientes. Esto optimiza los tiempos de respuesta, reduce la carga de trabajo manual y mejora la experiencia del cliente. Además, el enfoque propuesto puede ser actualizado con nuevos datos para mantener su relevancia y efectividad a lo largo del tiempo.\n"
      ],
      "metadata": {
        "id": "M0dxmVBQrPvl"
      }
    }
  ],
  "metadata": {
    "accelerator": "GPU",
    "colab": {
      "gpuType": "T4",
      "provenance": []
    },
    "kernelspec": {
      "display_name": "Python 3",
      "name": "python3"
    },
    "language_info": {
      "codemirror_mode": {
        "name": "ipython",
        "version": 3
      },
      "file_extension": ".py",
      "mimetype": "text/x-python",
      "name": "python",
      "nbconvert_exporter": "python",
      "pygments_lexer": "ipython3",
      "version": "3.9.13"
    }
  },
  "nbformat": 4,
  "nbformat_minor": 0
}